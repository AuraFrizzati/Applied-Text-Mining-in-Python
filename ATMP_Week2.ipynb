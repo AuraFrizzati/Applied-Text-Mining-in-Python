{
  "nbformat": 4,
  "nbformat_minor": 0,
  "metadata": {
    "colab": {
      "name": "ATMP_Week2.ipynb",
      "provenance": [],
      "collapsed_sections": [],
      "include_colab_link": true
    },
    "kernelspec": {
      "display_name": "Python 3",
      "language": "python",
      "name": "python3"
    },
    "language_info": {
      "codemirror_mode": {
        "name": "ipython",
        "version": 3
      },
      "file_extension": ".py",
      "mimetype": "text/x-python",
      "name": "python",
      "nbconvert_exporter": "python",
      "pygments_lexer": "ipython3",
      "version": "3.8.5"
    }
  },
  "cells": [
    {
      "cell_type": "markdown",
      "metadata": {
        "id": "view-in-github",
        "colab_type": "text"
      },
      "source": [
        "<a href=\"https://colab.research.google.com/github/AuraFrizzati/Applied-Text-Mining-in-Python/blob/main/ATMP_Week2.ipynb\" target=\"_parent\"><img src=\"https://colab.research.google.com/assets/colab-badge.svg\" alt=\"Open In Colab\"/></a>"
      ]
    },
    {
      "cell_type": "markdown",
      "metadata": {
        "id": "F8m9nI17QBCV"
      },
      "source": [
        "## **2.1: Basic Natural Language Processing (NLP)**\n",
        "\n",
        "**What is Natural Language?**\n",
        "- Language is used for everyday communication by humans (compared to artificial computer language)\n",
        "\n",
        "**What is Natural Language Processing?**\n",
        "- Any computation, manipulation of natural language\n",
        "- Natural languages evolve:\n",
        "  - New words get added\n",
        "  - Old words lose popularity\n",
        "  - Meanings of words change\n",
        "  - Language rules themselves may change\n",
        "\n",
        "### **NLP tasks: a broad spectrum**\n",
        "- Counting words, counting frequency of words\n",
        "- Finding unique words in a corpus\n",
        "- Finding sentence boundaries\n",
        "- Part of speech tagging\n",
        "- Parsing the sentence structure (trying to understand better the grammatical constructs present)\n",
        "- Identify semantic roles\n",
        "- **Entity recognition** (i.e. identifying entities in a sentence)\n",
        "- **Co-reference resolution** (co-ref resolution) (e.g. finding which pronoun refers to which entity)\n",
        "- ... and many more tasks\n",
        "\n",
        "The challenge is how to achieve all these tasks in an efficient manner.\n",
        "\n",
        "\n"
      ]
    },
    {
      "cell_type": "markdown",
      "metadata": {
        "id": "ft7e60_bUxoU"
      },
      "source": [
        "## **2.2: Basic NLP tasks with NLTK**\n",
        "\n",
        "- Counting words, calculating **frequencies of words**\n",
        "- Finding sentence and word boundaries (**tokenization**)\n",
        "- **Stemming** and **lemmatization**\n",
        "\n",
        "### **An introduction to NLTK**\n",
        "- **NLTK: Natural Language Toolkit**\n",
        "- Open source library in python\n",
        "- It supports most of NLP tasks\n",
        "- It provides access to numerous text corpora"
      ]
    },
    {
      "cell_type": "code",
      "metadata": {
        "id": "XIPjnkFfP9G6"
      },
      "source": [
        "import nltk\n",
        "#nltk.download()"
      ],
      "execution_count": 1,
      "outputs": []
    },
    {
      "cell_type": "code",
      "metadata": {
        "id": "VLJ1vJVVU8gw",
        "outputId": "9b91391b-e5df-4093-b06b-1fa3d0442a56"
      },
      "source": [
        "from nltk.book import *"
      ],
      "execution_count": null,
      "outputs": [
        {
          "output_type": "stream",
          "text": [
            "*** Introductory Examples for the NLTK Book ***\n",
            "Loading text1, ..., text9 and sent1, ..., sent9\n",
            "Type the name of the text or sentence to view it.\n",
            "Type: 'texts()' or 'sents()' to list the materials.\n",
            "text1: Moby Dick by Herman Melville 1851\n",
            "text2: Sense and Sensibility by Jane Austen 1811\n",
            "text3: The Book of Genesis\n",
            "text4: Inaugural Address Corpus\n",
            "text5: Chat Corpus\n",
            "text6: Monty Python and the Holy Grail\n",
            "text7: Wall Street Journal\n",
            "text8: Personals Corpus\n",
            "text9: The Man Who Was Thursday by G . K . Chesterton 1908\n"
          ],
          "name": "stdout"
        }
      ]
    },
    {
      "cell_type": "code",
      "metadata": {
        "id": "I7YkVLR0-RQT",
        "outputId": "4ce4ab71-0704-4a00-8b5f-2c8f3485dd14"
      },
      "source": [
        "text1"
      ],
      "execution_count": null,
      "outputs": [
        {
          "output_type": "execute_result",
          "data": {
            "text/plain": [
              "<Text: Moby Dick by Herman Melville 1851>"
            ]
          },
          "metadata": {
            "tags": []
          },
          "execution_count": 3
        }
      ]
    },
    {
      "cell_type": "code",
      "metadata": {
        "id": "U857iNjG-RQT",
        "outputId": "4a708469-0351-4bf4-d7e2-9e3823778404"
      },
      "source": [
        "sents() # this shows one sentence from each of the 9 corpora"
      ],
      "execution_count": null,
      "outputs": [
        {
          "output_type": "stream",
          "text": [
            "sent1: Call me Ishmael .\n",
            "sent2: The family of Dashwood had long been settled in Sussex .\n",
            "sent3: In the beginning God created the heaven and the earth .\n",
            "sent4: Fellow - Citizens of the Senate and of the House of Representatives :\n",
            "sent5: I have a problem with people PMing me to lol JOIN\n",
            "sent6: SCENE 1 : [ wind ] [ clop clop clop ] KING ARTHUR : Whoa there !\n",
            "sent7: Pierre Vinken , 61 years old , will join the board as a nonexecutive director Nov. 29 .\n",
            "sent8: 25 SEXY MALE , seeks attrac older single lady , for discreet encounters .\n",
            "sent9: THE suburb of Saffron Park lay on the sunset side of London , as red and ragged as a cloud of sunset .\n"
          ],
          "name": "stdout"
        }
      ]
    },
    {
      "cell_type": "markdown",
      "metadata": {
        "id": "dUXYzrQn-RQU"
      },
      "source": [
        "sent1 #sent1 has four tokens"
      ]
    },
    {
      "cell_type": "markdown",
      "metadata": {
        "id": "6MXvf2Cg-RQU"
      },
      "source": [
        "**Counting vocabulary of words**"
      ]
    },
    {
      "cell_type": "code",
      "metadata": {
        "id": "AzQUuu78-RQU",
        "outputId": "27dd9cba-c5e6-44ca-b1a6-c4d143f8dccf"
      },
      "source": [
        "text7"
      ],
      "execution_count": null,
      "outputs": [
        {
          "output_type": "execute_result",
          "data": {
            "text/plain": [
              "<Text: Wall Street Journal>"
            ]
          },
          "metadata": {
            "tags": []
          },
          "execution_count": 8
        }
      ]
    },
    {
      "cell_type": "code",
      "metadata": {
        "id": "BO17vfjX-RQV",
        "outputId": "dc3007c9-826b-4598-e9f8-54a56a6e7bb0"
      },
      "source": [
        "sent7 # the sentence gets already parsed out into tokens"
      ],
      "execution_count": null,
      "outputs": [
        {
          "output_type": "execute_result",
          "data": {
            "text/plain": [
              "['Pierre',\n",
              " 'Vinken',\n",
              " ',',\n",
              " '61',\n",
              " 'years',\n",
              " 'old',\n",
              " ',',\n",
              " 'will',\n",
              " 'join',\n",
              " 'the',\n",
              " 'board',\n",
              " 'as',\n",
              " 'a',\n",
              " 'nonexecutive',\n",
              " 'director',\n",
              " 'Nov.',\n",
              " '29',\n",
              " '.']"
            ]
          },
          "metadata": {
            "tags": []
          },
          "execution_count": 9
        }
      ]
    },
    {
      "cell_type": "code",
      "metadata": {
        "id": "OK2JfSnN-RQV",
        "outputId": "000ffb16-d715-4087-d01c-91dfe9f7748f"
      },
      "source": [
        "len(sent7) ## number of tokens in the sentence"
      ],
      "execution_count": null,
      "outputs": [
        {
          "output_type": "execute_result",
          "data": {
            "text/plain": [
              "18"
            ]
          },
          "metadata": {
            "tags": []
          },
          "execution_count": 10
        }
      ]
    },
    {
      "cell_type": "code",
      "metadata": {
        "id": "WRFXZ_LC-RQV",
        "outputId": "9f06518d-1b13-4d17-95c7-b3895279afdd"
      },
      "source": [
        "len(text7) ## number of tokens in the corpus"
      ],
      "execution_count": null,
      "outputs": [
        {
          "output_type": "execute_result",
          "data": {
            "text/plain": [
              "100676"
            ]
          },
          "metadata": {
            "tags": []
          },
          "execution_count": 12
        }
      ]
    },
    {
      "cell_type": "code",
      "metadata": {
        "id": "0RQdJ4q8-RQW",
        "outputId": "36f6c49d-c433-4706-8c0f-d28e068a1ab1"
      },
      "source": [
        "len(set(text7)) ## number of UNIQUE tokens in the corpus"
      ],
      "execution_count": null,
      "outputs": [
        {
          "output_type": "execute_result",
          "data": {
            "text/plain": [
              "12408"
            ]
          },
          "metadata": {
            "tags": []
          },
          "execution_count": 13
        }
      ]
    },
    {
      "cell_type": "code",
      "metadata": {
        "id": "P2WjfUF--RQW",
        "outputId": "8c3a82d7-9068-4275-b659-c8dae5b438b3"
      },
      "source": [
        "list(set(text7))[:10]"
      ],
      "execution_count": null,
      "outputs": [
        {
          "output_type": "execute_result",
          "data": {
            "text/plain": [
              "['segment',\n",
              " 'shivers',\n",
              " '9\\\\/32',\n",
              " 'cites',\n",
              " '*T*-10',\n",
              " 'Machines',\n",
              " 'helped',\n",
              " '*T*-78',\n",
              " 'formerly',\n",
              " 'Corporate']"
            ]
          },
          "metadata": {
            "tags": []
          },
          "execution_count": 36
        }
      ]
    },
    {
      "cell_type": "markdown",
      "metadata": {
        "id": "40y-KscW-RQX"
      },
      "source": [
        "**Frequency of words**"
      ]
    },
    {
      "cell_type": "code",
      "metadata": {
        "id": "SPyoG8ms-RQX"
      },
      "source": [
        "dist = FreqDist(text7) ## "
      ],
      "execution_count": null,
      "outputs": []
    },
    {
      "cell_type": "code",
      "metadata": {
        "id": "9o7nBtOK-RQX",
        "outputId": "62340fd9-33e1-4b5a-f9fd-23b9008dee01"
      },
      "source": [
        "len(dist)"
      ],
      "execution_count": null,
      "outputs": [
        {
          "output_type": "execute_result",
          "data": {
            "text/plain": [
              "12408"
            ]
          },
          "metadata": {
            "tags": []
          },
          "execution_count": 26
        }
      ]
    },
    {
      "cell_type": "code",
      "metadata": {
        "id": "kswsFWlt-RQY",
        "outputId": "0be49cd7-e6b4-411d-f2d1-46b1cb3985e7"
      },
      "source": [
        "dist"
      ],
      "execution_count": null,
      "outputs": [
        {
          "output_type": "execute_result",
          "data": {
            "text/plain": [
              "FreqDist({',': 4885, 'the': 4045, '.': 3828, 'of': 2319, 'to': 2164, 'a': 1878, 'in': 1572, 'and': 1511, '*-1': 1123, '0': 1099, ...})"
            ]
          },
          "metadata": {
            "tags": []
          },
          "execution_count": 34
        }
      ]
    },
    {
      "cell_type": "code",
      "metadata": {
        "id": "ZdC1ALGT-RQY",
        "outputId": "cb72a84e-0912-4bc5-e03b-2a4ceb10aebc"
      },
      "source": [
        "vocab1 = list(dist.keys()) # to extract the tokens from dist\n",
        "vocab1[:10]"
      ],
      "execution_count": null,
      "outputs": [
        {
          "output_type": "execute_result",
          "data": {
            "text/plain": [
              "['Pierre', 'Vinken', ',', '61', 'years', 'old', 'will', 'join', 'the', 'board']"
            ]
          },
          "metadata": {
            "tags": []
          },
          "execution_count": 35
        }
      ]
    },
    {
      "cell_type": "code",
      "metadata": {
        "id": "CARe_mQL-RQY",
        "outputId": "2de4072d-5a84-4264-f7bd-b1badd7614e9"
      },
      "source": [
        "dist['years'] ## to find the frequency in the corpus of a specific token"
      ],
      "execution_count": null,
      "outputs": [
        {
          "output_type": "execute_result",
          "data": {
            "text/plain": [
              "115"
            ]
          },
          "metadata": {
            "tags": []
          },
          "execution_count": 41
        }
      ]
    },
    {
      "cell_type": "markdown",
      "metadata": {
        "id": "1a4ghwkj-RQY"
      },
      "source": [
        "- **To find the list of tokens in a corpus given a specific minimum length and frequency for the tokens**"
      ]
    },
    {
      "cell_type": "code",
      "metadata": {
        "id": "kF4yWG0d-RQZ",
        "outputId": "fb6ec2dd-2663-4112-c7d2-5ff770f2ca03"
      },
      "source": [
        "vocab1 = list(dist.keys()) \n",
        "freqwords = [w for w in vocab1 if len(w) > 5 and dist[w]>100]\n",
        "freqwords"
      ],
      "execution_count": null,
      "outputs": [
        {
          "output_type": "execute_result",
          "data": {
            "text/plain": [
              "['billion',\n",
              " 'company',\n",
              " 'president',\n",
              " 'because',\n",
              " 'market',\n",
              " 'million',\n",
              " 'shares',\n",
              " 'trading',\n",
              " 'program']"
            ]
          },
          "metadata": {
            "tags": []
          },
          "execution_count": 48
        }
      ]
    },
    {
      "cell_type": "markdown",
      "metadata": {
        "id": "fnksMJCL-RQZ"
      },
      "source": [
        "### **Normalising and Stemming**\n",
        "- **Normalisation** is applied when the words in a corpus have **different formats**. The different forms are transformed (normalised) so to appear with the same format (e.g. all lower case)."
      ]
    },
    {
      "cell_type": "code",
      "metadata": {
        "id": "aXGTKqwe-RQZ",
        "outputId": "9cb6a88d-e909-4521-b7c2-a1fb9f4e50f2"
      },
      "source": [
        "input1 = \"List listed lists listing listings\"\n",
        "words1 = input1.lower().split(' ') ## (1) transform all words into lower cases\n",
        "words1"
      ],
      "execution_count": null,
      "outputs": [
        {
          "output_type": "execute_result",
          "data": {
            "text/plain": [
              "['list', 'listed', 'lists', 'listing', 'listings']"
            ]
          },
          "metadata": {
            "tags": []
          },
          "execution_count": 50
        }
      ]
    },
    {
      "cell_type": "markdown",
      "metadata": {
        "id": "Ybu2nr9i-RQZ"
      },
      "source": [
        "- **Stemming** is applied to find the **root form** of the words. A variety of **algorithms** have been created to implement stemming, a popular one is **Porter Stemmer**, present in NLTK."
      ]
    },
    {
      "cell_type": "code",
      "metadata": {
        "id": "juoOrtbS-RQa",
        "outputId": "3a4b1145-a540-4744-e6cb-50e43958c303"
      },
      "source": [
        "porter = nltk.PorterStemmer()\n",
        "porter"
      ],
      "execution_count": null,
      "outputs": [
        {
          "output_type": "execute_result",
          "data": {
            "text/plain": [
              "<PorterStemmer>"
            ]
          },
          "metadata": {
            "tags": []
          },
          "execution_count": 52
        }
      ]
    },
    {
      "cell_type": "code",
      "metadata": {
        "id": "0X371pA_-RQa",
        "outputId": "98dd728d-7ae2-4f41-f291-025efc00808d"
      },
      "source": [
        "[porter.stem(t) for t in words1]"
      ],
      "execution_count": null,
      "outputs": [
        {
          "output_type": "execute_result",
          "data": {
            "text/plain": [
              "['list', 'list', 'list', 'list', 'list']"
            ]
          },
          "metadata": {
            "tags": []
          },
          "execution_count": 54
        }
      ]
    },
    {
      "cell_type": "markdown",
      "metadata": {
        "id": "AGXRgt0d-RQa"
      },
      "source": [
        "- **Lemmatisation**: is a slight variant of stemming which ensures that the **output words** are actually meaningful (**valid words**)."
      ]
    },
    {
      "cell_type": "code",
      "metadata": {
        "id": "AZMLsb87-RQa",
        "outputId": "f6b1a9ae-9f03-42c3-93a4-46b13240ac28"
      },
      "source": [
        "udhr = nltk.corpus.udhr.words('English-Latin1') ## corpus of Universal Declaration of Human Rights\n",
        "udhr"
      ],
      "execution_count": null,
      "outputs": [
        {
          "output_type": "execute_result",
          "data": {
            "text/plain": [
              "['Universal', 'Declaration', 'of', 'Human', 'Rights', ...]"
            ]
          },
          "metadata": {
            "tags": []
          },
          "execution_count": 59
        }
      ]
    },
    {
      "cell_type": "code",
      "metadata": {
        "id": "Q93Nh1iN-RQb",
        "outputId": "b28312f2-633e-4844-f68e-1a51581b1beb"
      },
      "source": [
        "udhr[:20]"
      ],
      "execution_count": null,
      "outputs": [
        {
          "output_type": "execute_result",
          "data": {
            "text/plain": [
              "['Universal',\n",
              " 'Declaration',\n",
              " 'of',\n",
              " 'Human',\n",
              " 'Rights',\n",
              " 'Preamble',\n",
              " 'Whereas',\n",
              " 'recognition',\n",
              " 'of',\n",
              " 'the',\n",
              " 'inherent',\n",
              " 'dignity',\n",
              " 'and',\n",
              " 'of',\n",
              " 'the',\n",
              " 'equal',\n",
              " 'and',\n",
              " 'inalienable',\n",
              " 'rights',\n",
              " 'of']"
            ]
          },
          "metadata": {
            "tags": []
          },
          "execution_count": 60
        }
      ]
    },
    {
      "cell_type": "code",
      "metadata": {
        "id": "OBLtFEox-RQb",
        "outputId": "89758f37-4b9b-48a7-d317-43c8afbbf9ac"
      },
      "source": [
        "[porter.stem(t) for t in udhr[:20]] ## the stemmed version of the words are not always valid words"
      ],
      "execution_count": null,
      "outputs": [
        {
          "output_type": "execute_result",
          "data": {
            "text/plain": [
              "['univers',\n",
              " 'declar',\n",
              " 'of',\n",
              " 'human',\n",
              " 'right',\n",
              " 'preambl',\n",
              " 'wherea',\n",
              " 'recognit',\n",
              " 'of',\n",
              " 'the',\n",
              " 'inher',\n",
              " 'digniti',\n",
              " 'and',\n",
              " 'of',\n",
              " 'the',\n",
              " 'equal',\n",
              " 'and',\n",
              " 'inalien',\n",
              " 'right',\n",
              " 'of']"
            ]
          },
          "metadata": {
            "tags": []
          },
          "execution_count": 61
        }
      ]
    },
    {
      "cell_type": "code",
      "metadata": {
        "id": "1dv2KxvD-RQb",
        "outputId": "119aa16a-5082-4036-b73e-f1f243f2add4"
      },
      "source": [
        "WNlemma = nltk.WordNetLemmatizer() ## set up lemmatizer in nltk\n",
        "WNlemma"
      ],
      "execution_count": null,
      "outputs": [
        {
          "output_type": "execute_result",
          "data": {
            "text/plain": [
              "<WordNetLemmatizer>"
            ]
          },
          "metadata": {
            "tags": []
          },
          "execution_count": 66
        }
      ]
    },
    {
      "cell_type": "code",
      "metadata": {
        "id": "lKke8YRc-RQb",
        "outputId": "ab8b83ec-0317-412d-eed3-99eed1b53432"
      },
      "source": [
        "[WNlemma.lemmatize(t) for t in udhr[:20]]"
      ],
      "execution_count": null,
      "outputs": [
        {
          "output_type": "execute_result",
          "data": {
            "text/plain": [
              "['Universal',\n",
              " 'Declaration',\n",
              " 'of',\n",
              " 'Human',\n",
              " 'Rights',\n",
              " 'Preamble',\n",
              " 'Whereas',\n",
              " 'recognition',\n",
              " 'of',\n",
              " 'the',\n",
              " 'inherent',\n",
              " 'dignity',\n",
              " 'and',\n",
              " 'of',\n",
              " 'the',\n",
              " 'equal',\n",
              " 'and',\n",
              " 'inalienable',\n",
              " 'right',\n",
              " 'of']"
            ]
          },
          "metadata": {
            "tags": []
          },
          "execution_count": 67
        }
      ]
    },
    {
      "cell_type": "markdown",
      "metadata": {
        "id": "chmqSPq--RQc"
      },
      "source": [
        "### **Tokenization**\n",
        "- Tokenization is applied to **split a sentence** into words and **tokens**"
      ]
    },
    {
      "cell_type": "code",
      "metadata": {
        "id": "C_zzHLm_-RQc",
        "outputId": "ec2fef91-922a-429e-d73e-a77e97f8e91f"
      },
      "source": [
        "text11 = \"Children shouldn't drink a sugary drink before bed.\"\n",
        "text11.split(' ') # split on space\n",
        "# using .split('') is not doing a good job (e.g., 'shouldn't,'bed.')"
      ],
      "execution_count": null,
      "outputs": [
        {
          "output_type": "execute_result",
          "data": {
            "text/plain": [
              "['Children', \"shouldn't\", 'drink', 'a', 'sugary', 'drink', 'before', 'bed.']"
            ]
          },
          "metadata": {
            "tags": []
          },
          "execution_count": 69
        }
      ]
    },
    {
      "cell_type": "markdown",
      "metadata": {
        "id": "xHj7Ft3O-RQc"
      },
      "source": [
        "- **NLTK** has an **in-built tokenizer** for **words**"
      ]
    },
    {
      "cell_type": "code",
      "metadata": {
        "id": "kkKFsOVW-RQc",
        "outputId": "d6768be2-2fcd-49a5-9f78-fae8c2425841"
      },
      "source": [
        "nltk.word_tokenize(text11) # much better tokenized words"
      ],
      "execution_count": null,
      "outputs": [
        {
          "output_type": "execute_result",
          "data": {
            "text/plain": [
              "['Children',\n",
              " 'should',\n",
              " \"n't\",\n",
              " 'drink',\n",
              " 'a',\n",
              " 'sugary',\n",
              " 'drink',\n",
              " 'before',\n",
              " 'bed',\n",
              " '.']"
            ]
          },
          "metadata": {
            "tags": []
          },
          "execution_count": 70
        }
      ]
    },
    {
      "cell_type": "markdown",
      "metadata": {
        "id": "hfXohzPD-RQc"
      },
      "source": [
        "### **Sentence Splitting**\n",
        "- How would you split sentences from a long text string? It can ends with full stops, question/exclamation marks, etc, however not all full stops split sentences..."
      ]
    },
    {
      "cell_type": "code",
      "metadata": {
        "id": "qXkg1VRl-RQd",
        "outputId": "ccb6d207-54f1-44cb-95b3-1504179a91f5"
      },
      "source": [
        "text12 = \"This is the first sentence. A gallon of milk in the U.S. costs $2.99. Is this the third sentence? Yes, it is!\"\n",
        "text12"
      ],
      "execution_count": null,
      "outputs": [
        {
          "output_type": "execute_result",
          "data": {
            "text/plain": [
              "'This is the first sentence. A gallon of milk in the U.S. costs $2.99. Is this the third sentence? Yes, it is!'"
            ]
          },
          "metadata": {
            "tags": []
          },
          "execution_count": 72
        }
      ]
    },
    {
      "cell_type": "markdown",
      "metadata": {
        "id": "EqCocXVM-RQd"
      },
      "source": [
        "- Use **NLTK in-built tokenizer** for **sentences**"
      ]
    },
    {
      "cell_type": "code",
      "metadata": {
        "id": "Lnk5jvBz-RQd",
        "outputId": "385de427-325b-4365-a9eb-965f07f8dcc4"
      },
      "source": [
        "nltk.sent_tokenize(text12) # it does a good job in tokenizing sentences"
      ],
      "execution_count": null,
      "outputs": [
        {
          "output_type": "execute_result",
          "data": {
            "text/plain": [
              "['This is the first sentence.',\n",
              " 'A gallon of milk in the U.S. costs $2.99.',\n",
              " 'Is this the third sentence?',\n",
              " 'Yes, it is!']"
            ]
          },
          "metadata": {
            "tags": []
          },
          "execution_count": 74
        }
      ]
    },
    {
      "cell_type": "markdown",
      "metadata": {
        "id": "yAkX45pr-RQd"
      },
      "source": [
        "## **2.3: Advanced NLP tasks with NLTK**\n",
        "- **Part of speech (POS) tagging**\n",
        "- **Parsing** the **sentence structure**\n",
        "\n",
        "### **Part-Of-Speech (POS) Tagging**\n",
        "- Recall from high school grammar: nouns, verbs, adjectives, ...\n",
        "- Many more **tags** (**word classes**):\n",
        "\n",
        "![image.png](data:image/png;base64,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)"
      ]
    },
    {
      "cell_type": "code",
      "metadata": {
        "colab": {
          "base_uri": "https://localhost:8080/",
          "height": 613
        },
        "id": "QbLACFjG-s1P",
        "outputId": "81cf4763-afec-44b5-9968-103504206b3a"
      },
      "source": [
        "import nltk\n",
        "nltk.help.upenn_tagset('MD')"
      ],
      "execution_count": null,
      "outputs": [
        {
          "output_type": "stream",
          "text": [
            "MD: modal auxiliary\n",
            "    can cannot could couldn't dare may might must need ought shall should\n",
            "    shouldn't will would\n"
          ],
          "name": "stdout"
        }
      ]
    },
    {
      "cell_type": "markdown",
      "metadata": {
        "id": "9V5cP9OZ-RQe"
      },
      "source": [
        "**POS Tagging with NLTK**\n",
        "- **Split** a **sentence** into **words**:"
      ]
    },
    {
      "cell_type": "code",
      "metadata": {
        "id": "IDzjKPcS4jr3",
        "outputId": "9ac35b18-01b9-4bf4-8a9c-27e4d6327560"
      },
      "source": [
        "text11 = \"Children shouldn't drink a sugary drink before bed.\"\n",
        "text11"
      ],
      "execution_count": null,
      "outputs": [
        {
          "output_type": "execute_result",
          "data": {
            "text/plain": [
              "\"Children shouldn't drink a sugary drink before bed.\""
            ]
          },
          "metadata": {
            "tags": []
          },
          "execution_count": 4
        }
      ]
    },
    {
      "cell_type": "code",
      "metadata": {
        "id": "v077SBin4jr4",
        "outputId": "34a752d2-ae02-4327-d63e-c9685cf15c8b"
      },
      "source": [
        "text13 = nltk.word_tokenize(text11)\n",
        "text13"
      ],
      "execution_count": null,
      "outputs": [
        {
          "output_type": "execute_result",
          "data": {
            "text/plain": [
              "['Children',\n",
              " 'should',\n",
              " \"n't\",\n",
              " 'drink',\n",
              " 'a',\n",
              " 'sugary',\n",
              " 'drink',\n",
              " 'before',\n",
              " 'bed',\n",
              " '.']"
            ]
          },
          "metadata": {
            "tags": []
          },
          "execution_count": 5
        }
      ]
    },
    {
      "cell_type": "markdown",
      "metadata": {
        "id": "wP8pbMCl4jr4"
      },
      "source": [
        "- Use **NLTK built-in POS-tagger** on the tokenized words"
      ]
    },
    {
      "cell_type": "code",
      "metadata": {
        "id": "99KXAbBz4jr5",
        "outputId": "e059de88-17eb-491c-c732-d186a9133bab"
      },
      "source": [
        "nltk.pos_tag(text13)"
      ],
      "execution_count": null,
      "outputs": [
        {
          "output_type": "execute_result",
          "data": {
            "text/plain": [
              "[('Children', 'NNP'),\n",
              " ('should', 'MD'),\n",
              " (\"n't\", 'RB'),\n",
              " ('drink', 'VB'),\n",
              " ('a', 'DT'),\n",
              " ('sugary', 'JJ'),\n",
              " ('drink', 'NN'),\n",
              " ('before', 'IN'),\n",
              " ('bed', 'NN'),\n",
              " ('.', '.')]"
            ]
          },
          "metadata": {
            "tags": []
          },
          "execution_count": 7
        }
      ]
    },
    {
      "cell_type": "code",
      "metadata": {
        "id": "dcyfRcfT4jr5",
        "outputId": "4eebebb9-43c5-47f5-fc57-45d06f1809e2"
      },
      "source": [
        "nltk.help.upenn_tagset('IN')"
      ],
      "execution_count": null,
      "outputs": [
        {
          "output_type": "stream",
          "text": [
            "IN: preposition or conjunction, subordinating\n",
            "    astride among uppon whether out inside pro despite on by throughout\n",
            "    below within for towards near behind atop around if like until below\n",
            "    next into if beside ...\n"
          ],
          "name": "stdout"
        }
      ]
    },
    {
      "cell_type": "code",
      "metadata": {
        "id": "Z2yI0D0X4jr5",
        "outputId": "d9f1b00a-47b9-4f7e-8e83-f2e69fd8cc2f"
      },
      "source": [
        "nltk.help.upenn_tagset('RB')"
      ],
      "execution_count": null,
      "outputs": [
        {
          "output_type": "stream",
          "text": [
            "RB: adverb\n",
            "    occasionally unabatingly maddeningly adventurously professedly\n",
            "    stirringly prominently technologically magisterially predominately\n",
            "    swiftly fiscally pitilessly ...\n"
          ],
          "name": "stdout"
        }
      ]
    },
    {
      "cell_type": "markdown",
      "metadata": {
        "id": "FbKS0WIG4jr5"
      },
      "source": [
        "- You can use these **POS tags** as **classes** to **cluster the text data**"
      ]
    },
    {
      "cell_type": "markdown",
      "metadata": {
        "id": "YeiU9QR64jr6"
      },
      "source": [
        "**Ambiguity in POS Tagging**\n",
        "- Ambiguity is very common in English: \"*Visiting aunts can be a nuisance*\""
      ]
    },
    {
      "cell_type": "code",
      "metadata": {
        "id": "Uw_LlUDR4jr6",
        "outputId": "cbd226b1-3e78-40f3-def3-34c40dd6c5de"
      },
      "source": [
        "text14 = nltk.word_tokenize(\"Visiting aunts can be a nuisance\")\n",
        "text14"
      ],
      "execution_count": null,
      "outputs": [
        {
          "output_type": "execute_result",
          "data": {
            "text/plain": [
              "['Visiting', 'aunts', 'can', 'be', 'a', 'nuisance']"
            ]
          },
          "metadata": {
            "tags": []
          },
          "execution_count": 11
        }
      ]
    },
    {
      "cell_type": "code",
      "metadata": {
        "id": "YOQH3ByH4jr6",
        "outputId": "5b9467f7-67fa-4b4b-9da0-d434e406db71"
      },
      "source": [
        "nltk.pos_tag(text14) # \"Visiting\" gets interpreted as the verb "
      ],
      "execution_count": null,
      "outputs": [
        {
          "output_type": "execute_result",
          "data": {
            "text/plain": [
              "[('Visiting', 'VBG'),\n",
              " ('aunts', 'NNS'),\n",
              " ('can', 'MD'),\n",
              " ('be', 'VB'),\n",
              " ('a', 'DT'),\n",
              " ('nuisance', 'NN')]"
            ]
          },
          "metadata": {
            "tags": []
          },
          "execution_count": 12
        }
      ]
    },
    {
      "cell_type": "markdown",
      "metadata": {
        "id": "YpjybcC34jr6"
      },
      "source": [
        "Another alternative POS tagging would consider \"*Visiting*\" as the adjective of \"*aunts*\":\n",
        "![image.png](attachment:a677998b-1625-495f-8452-80953cfa5af1.png)"
      ]
    },
    {
      "cell_type": "markdown",
      "metadata": {
        "id": "dZ9Ihde54jr7"
      },
      "source": [
        "NLTK gives only the first version of POS tagging for this particular sentence and not the second. This is based on the most common use of the words in large text corpus."
      ]
    },
    {
      "cell_type": "markdown",
      "metadata": {
        "id": "djGamveL4jr7"
      },
      "source": [
        "### **Parsing Sentence Structure**\n",
        "- Making sense of sentences is easy if they follow a well-defined grammatical structure"
      ]
    },
    {
      "cell_type": "code",
      "metadata": {
        "id": "pKI8rSoI4jr7",
        "outputId": "077191ff-cf56-4e77-e9ca-8242a2eae02b"
      },
      "source": [
        "text15 = nltk.word_tokenize(\"Alice loves Bob\")\n",
        "text15"
      ],
      "execution_count": null,
      "outputs": [
        {
          "output_type": "execute_result",
          "data": {
            "text/plain": [
              "['Alice', 'loves', 'Bob']"
            ]
          },
          "metadata": {
            "tags": []
          },
          "execution_count": 33
        }
      ]
    },
    {
      "cell_type": "code",
      "metadata": {
        "id": "cFxTwjZk4jr7",
        "outputId": "58c4ab15-d8a9-4566-bddb-57e6d089beae"
      },
      "source": [
        "nltk.pos_tag(text15)"
      ],
      "execution_count": null,
      "outputs": [
        {
          "output_type": "execute_result",
          "data": {
            "text/plain": [
              "[('Alice', 'NNP'), ('loves', 'VBZ'), ('Bob', 'NNP')]"
            ]
          },
          "metadata": {
            "tags": []
          },
          "execution_count": 16
        }
      ]
    },
    {
      "cell_type": "code",
      "metadata": {
        "id": "7KMiFSmE4jr8",
        "outputId": "3d59ee08-035d-4d24-9505-83a1945f81b0"
      },
      "source": [
        "nltk.help.upenn_tagset('NNP')"
      ],
      "execution_count": null,
      "outputs": [
        {
          "output_type": "stream",
          "text": [
            "NNP: noun, proper, singular\n",
            "    Motown Venneboerger Czestochwa Ranzer Conchita Trumplane Christos\n",
            "    Oceanside Escobar Kreisler Sawyer Cougar Yvette Ervin ODI Darryl CTCA\n",
            "    Shannon A.K.C. Meltex Liverpool ...\n"
          ],
          "name": "stdout"
        }
      ]
    },
    {
      "cell_type": "code",
      "metadata": {
        "id": "gTRe737X4jr8",
        "outputId": "8eca2d43-11f3-431a-a9fc-1971a8940cda"
      },
      "source": [
        "nltk.help.upenn_tagset('VBZ')"
      ],
      "execution_count": null,
      "outputs": [
        {
          "output_type": "stream",
          "text": [
            "VBZ: verb, present tense, 3rd person singular\n",
            "    bases reconstructs marks mixes displeases seals carps weaves snatches\n",
            "    slumps stretches authorizes smolders pictures emerges stockpiles\n",
            "    seduces fizzes uses bolsters slaps speaks pleads ...\n"
          ],
          "name": "stdout"
        }
      ]
    },
    {
      "cell_type": "markdown",
      "metadata": {
        "id": "XJWPHxjb4jr9"
      },
      "source": [
        "![image.png](data:image/png;base64,iVBORw0KGgoAAAANSUhEUgAAAOgAAADrCAYAAABjPdrWAAAgAElEQVR4Ae1dB7gURdZtEBQFc0QxsqLoiq4B82/CvCpZdFcQMadFMa5ZzBEDBowkUUxrICgKqChIElRyFETg5Rwmnf87t/r21Mybl9O8eV3v61fVFW5V3arT99at6mkHEaBWFxrAWW1kMAigFMDmAmD/I09H6z0Owf2Pj0DYasofGbnY94hTsM0enfDyO+NR4pazskiQ9EK8IgzVzEWEgW5Zq62hMBCMAKUR02bWwzaWIogAgqZeN47FmGbawvaYe1KNSN4SRBBCGGEkbKpVb8x4GgIwhUwmlid9XozRLKzb3McTczOpp8l6rz47oAQ1zvLZ9pDbByvaBJWmPYgkFnYZoeluQeWP4b3HOSAS7QUbQ55FrJkRiUQQCXMGsQx9HZUyLTJ9CYWAcAjhCFtu+F+mwWHmCQLhUiDCmUm6SpsNDxv+Sx8Y1jpDiEg4Qd1ulCMM1c7XxC+fdt2l2O1y5wDZS9Bddv0QONvtjc5Hn4M7H3oJb7z3OV56+wP06H892u11CDr94/8wbeYCGYb4BpEs6eil6Vqd3lfmM38iPhIInF86HSSfEOPEMVNL66IfjkQQCocRDpty0RxhmWRaxsxZc2eXTxSOb7upx533FkC1C4nys4w6uw6No6907bhEYXnASO641ISEyQhecfyNuSUfDH9iB0HpK2G9p2/iDHgJYAUM421HBgURiQQQRgAhuTiaUZpmFHR81DcPBZuaV0Kerrxjp1IUoDq+ZFV+EBh89yPYr/MJ2GaXTnC23gMttt0L7dp3QpcTzsb7n33tgVMYFuETzAwCWUQavFSacPKLdLGAqwBWJrvFhYiQ0wzi61M/gnA4LIAzU8BMzejgUhLyinhXKBQCr3DYDByfrioBNJ+COOg+0XUqcKJobplubj9imub2k5Jd2s35Z4ljxpE37J+WE0kl+QyoqWloPSY74UHJGIZpUwThSFgutsljNkMR8oT9dQWK1m1XSKKGsyJpIiFKJgNSj9cs77aVWW3JrBCxx8glWMYz0Dalo08BzWYaRe2F4AyLFkOth7MlWjlDemlvbZ/U7HuGozFmDmiNsb7J2fQkqPZWJpvpBCfk8jWbMHnaLIz/Ygo+nPgtps9ZiLSCUo95sZ2P3pG5+vxURtM3lKP5ahoiHUPXarhHrGwtAkSv1bEtUZAaX1tLYoa2TjiPvBvQmsvWFpczQYYEUVIbazeOOchBTmTClP01oK01F0maT0z6etnVunECfFeRVa4wqSKn6fFkpR4pyBTtifVQ0oeK26Sq1ldRWxKnGQ43PYAm7k0KxeqUMRMkdmaatKhKZwYx2nktG42pPMQy1XFah12O7dDHXHVoVSGvXU0Vs3OZUJ1iFeVlGi9ZVrjKkd0MTa+Ihp2/TFgJlEkwEU0WoKFAGLnZeUjbnIn0zVlI25yB9LQMZGVmIysrG5lZWUhLT8fmzZuRnp6GrKwMZGdlIiszC1kZ2cjMzEJmZiYyMjKQnpmOtMy0mCs9Kw3pWenelZGVjkzvSkNm1ma5MjI3IyODV1qZKz1jM3gxLT1zM9LdMplZacjITJA/nW11y5Bu5ib3cmm46WlpG5GWtimaN4PtYftMm7KyeW/qiLbZtD+mnVqHlHPbk6m03Px2OzW/tot9duPSMzYiPX2TxYN04S95LLzOyEZGepZcmZnZyMzIQkYG09x0xsVdGenZSE/LRgavdLe8jF2UFmmmp2UiIz0TOdm5KCosRDAQ8KY7pWtdOFWvPdW6bsjGPn/thrrAbZoAjQDjx32IU048Bf36XIJe3Xvh4t590at7T/Tu2Qt9evVCH/F7yz3jLu7dR66+vXqDV5/evdG7d2/06tULPXv1RI/ePbyrZ68e6NW7B3r36Vn26m3imN6rV3fJ16tXD/TseRHoSznm6d3TS5P0Xt3Rk/ndMkzXyy4nYdLp1R29+7ANbjvcevv07WXa5NLv2bN7tG6Xfh+33XZbYuoS+m77rfZoO2Lby3ymX2V4Qh4Jn3qAdbJtffr0kn737MlyvdyrN3r36otePfugV0/Dd+U9fQ1r/p49e6Jnz16Sl2W0bM8evWEuQ7d37z7o26cv+vbug949euLSfv1w9JFH4InHHnGnOtVjlezuwrtastVGTOOEmyZAAbw3+j2MfncMAsUBlBSUIFgSQKC4BKHSgHeFA0EvHAmGwItxEh8IIhgMIhAIoDRQipJgiXcFAiUIBEsQDJaWezFd89EvKS3y7rWcl4f04i7NQ1/peGE3r51HwqFShMIBBEOmXaRfWlocrdstFwoFpN2kG08jvh1l6nb7VRooBq/4/OynXprOOlintk3bRd7KVRpEMBBGoDSEAMPBKO/tsOYvLS0FL+aVMm7Z0pIgzGXosmw4FJbxDJZwewN4/dVXMPimGw2aCE5ugXBlbIcbB2s1qrXpAnTUWIwZOSa201wo1NDRwMK/qM5RGa3YvDQjRMtqI2LzRNPjaWs+ltNwfB6lafvMw/WWXbddzg5rOcbFX4nSbPOH5td8VfET1V2Vcm7zEmXVZiQi7ca9+cbruH3ILW5pS4KKjqrSNBHxRo7Tvmkz3PsmC9Cxo8bgvdEuQDmX2CFvJV/BICsD6EsZ84A1t7plYDal7f+0UEZteTrQOoltXzmtvp0WDcsWCrdRbBUsxnpLE7ypUyRATJrStjsQpV0WgNE0u14Nl6UfzV8RrWg5bQd942ItzrqVpKmG92a7xWy7WClVCgreotWZfRsAI0a8jttuu82jwa0scbKd5Ya91OQPNF2Ajh6DsR5AXVN8TQDKQbYGWrcquDtm/xG60QlZUVgJqp84r4KDfnl0JY9nHbXpKG36dryG7fTYPHa9Gk5Mo3Ja0XJaB33jEgM0mk6eG5DVDUDVGDRixIg4gJo6tT3avqbi+wDl+MXMGyNFbXAy3LAAZYOSQYIqc8rzE4E4duorMNT3Un2AeqyoKJC6ALWXZTYH7LlmxzdomFLDnCLxVLAGrb/xKlOgxvvVbRHL207vfQlqT/BYHtn8qtuwXadLmepthSqurTlqO206Gle3La0yNXuCVrlQCmS0+22Ha9s1H6Dxk1vva8vZqpTXuixQlQtQ5qHmpWUS0bc1M6ZbdBNlr4+4qk5OzVcfbWhomvF90Xv6tXVKw5egOvHVry1nq1Je67LGsVyA0lBk5Vv062K8P/YDjB83HnnZeaY2AlTPPPOtmKISjB8/Hp988glycnIkDwece3ElJXxnpu6dPTl5gHzOnDkYM2YMZsyYgRBPs/O5YR2kr/sW1I4i28aXAQoKCvD555/jgw8+wLhx48QnL+fOnYtAgEw2/ahubRyHDz/8EJ9++inS09MrLc720PkAtcFiAaFSDtYmg12nS6dCgKqEBNDjgh5wHEeu5556zpQmPQVoGMjLycPWW2+NHXbYAb/++qvk4eTYb7/9cPvtt9em5eWWtcHHiX7llVdKG3mqhhv2CgCm2XnLJdjACSr0VqxYgT333MvjsfKafteuXfHll1/KGzrVbd6sWbOw5ZZbol27dpg+fXqlxX2A2iCxw5Wyrg4yJKivQoC6Vc6fPR/bbbOdN3mOPPxI/LXuL5Nq0czJypGJsPPOO2PBggWS/thjj0m5o485RgBTm15wMusEUjo26HgiZtCgQVLfJZdcIpKJ+ZinJgCNr4u0SKc8lyh/eXntePZr5cqV6NChg7T99NNPx80334z+/ft7cQcffDCWLFnqFauoHV4mQDSKtm3bgpcPUGuyemu3qsbZXK2vsN0Wt44KAcr8AK6+4mqZOAfufyDabd0OW7feGqPfGW3WqMzg0s3OzBaA7rLLLh5A//jjD7z77rv4/fffDTELMF6EG+A7nDrJ433Nq/F6b/uctFdddZW0tW/fvmXUagWpXYbh8mgqCOx0trE8V1GalrFpaRz9VatWeWB86623RFoWFRVh4sSJaNWqFVq2bIl33x3pFaE6X5X6Zs+eje23314A+v3333vlywto+3wV1waLC4TymFZn8XadLtGEAGU+97jfyqUrsdUWW6FVi9Z4+YXhOLvbOQYAvS5GcUExwgH3TX0AWRlZMhEoQRcuNCpucXGJvOmSl5dXBgi5ubmgavfTTz+BQOZalVJQJwnXrWvXrsWiRYuwcePGStnAsgrQiy++uMwE5tsgpPXLL79Im2yCBMOGDRuQlpaGoLzsbVTiYDAkcZs2bQLzKGipPq9evUYePCyj8fZDgPELFy6UPrJvdAQVL/ZR+8l48mHvvfcW3r733nte0/iW0DbbbCPxY8eOlXiW0/U1+0xwE4hr1qwp81Bi/HbbbeepuOTzvHnzpK8kxvK20zb5ALXBkiwAVWCqD+DJx56UydHpgE5YvWI1PvnwU7nffefdMfOHmfbYCkA5mQhQXYMOGzYM2267Hc444wxv8uTn52P48OE49NBDsdVWW2GLLbYApe6dd97pTfTvvvsO5557LnbaaSeRAHvuuSeuuupqUQVjKrVuONl0DdqvXz+PVlZWFh544EH87W9/E2nEdfIee+yBAQMG4LfffhMKX3/9tdRz0EEHiYFJyb7zzjvYdddd0blzZ6xevVom9EcffYRjjjlG+sn27bPPPnjwwQc90GdnZ+Oee+7BbrvtJg8srv8OP/zwGLoKaK3HBugTTzyBZcuWYebMmbj66quFP+QF66cjiPjwohHpuOOOE/BRylKNPfXUU/Hxxx8rWfz888+STgl85JFHSl/I7/bt22PIkNs8Y55XwA34AE0WgI4ag7GjzJNZxkbbFQY2bdiEE487UQA5sP9ABIoCIjWPPuJoiRt84+CYcaUE5eQnQHXiP/3005KXhg4CiNett94qk45g5qtRDzzwAC677DJcf/31Qm/x4sUyodu0aYO7774bBMQ111wjdC699FJ5TzWmYveGkkklKAHKiUxJR9C2aNEC+++/Px555BE899xzOP7444UegbZ8+XKR3hp37733CkVKeL6yRUPNTTfdJHGfffaZ18cnn3xSLNY9evQQQwyBRfe///1PpBZBQKvs66+/jnPOOQe2ZJSM1j8boAQ2QU8+su4dd9wRb775Zoy047Jh2223RevWrWXd/dprr0nfyVNKTFqE6WjVJnDZ/5NPPhkcDz5M+MAj7f/85z9eK1R6MsIGqBqyvIxNMNBkTxKNGTk2MUABTJk0Bdu13V4GkmF1Y0e9B8dpgd123h2ZmzM1GlyDUiJSquiak5NYLZGcAFS5KFE4Ye677z5PyhG4lKx0999/v5QhaNUVFxcLwChpKV0TuXiAMs+3334rtLgOI7jUUULtu+++kjZ06FCJ5vYQ2/r3v/8dhYWFogpTetIKSiNOQWEh/vnPf0qe//73v0pKti9oqT7ggANkS+Ttt9/26rSlGVVkdTYYGBcPUEpy0mPdbBMfVgQXHdV9PlgYf8UVVwhwKZHJw1tuuUXiO3bsCPKMACVo46241AwIbo6Xajt2m2IByqd203ZNGqDvjYqueeRMuXt66Lqrr5fBbulsgZuvvxl33XYX7rr9LlzR/wps1aqNpN1/zwPeyNGKywEniLjWo3vqqack37HHHisSjZOX4KSU4PoskbvoooukzGGHHYbzzjsPZ599tlwsQwnNfc5EzgYojUR0Dz/8sNA66qijYtaxnIx9+vSRNEpJApLldeJTfeQDhCCgVKbj+q1Lly5e284//3yRjLS6UsoRBOvXrxeJfMIJJ0g+lid97mfSsV4bCBIZB1BKRzqqsVzHEnRUUcnb+fPnC6BUAlK7sN1HH30sEpN5qYmwXvKM0nbatOg2C8eHGgXbx60wOlvtfuONN7zD8onaa9fZFMJNH6D6kHR3EdatXoeO+3aUAWzTug22bLkltnC2QEunpYTbtGqDFk4L7LPnPli1fJWMUWZ6ljzpqZrFS1BOWBpc+GQmQKn+KYhZmOCgBKA77bTTpN4TTzxRJifVsBtuuEH2UrlO5boq0UTnBNM1KMFHR/WZk5D1c7KrY16CmGlUs2nEonvhhRcEDFR3KcEIPLV+UopyHcsyZ555prSN7aL6O2TIEFlDE6B0VPG5VaKGH/pTphgthH2Nn/S2BFVjkBACsHTpUs/C+8wzz2DevPmyhmY7qE7TKT+oBRCMXGdyq4sGMYKVUlT7wbzkPaU+afBhRMd2qfMBqms99ZUz9elrXQpGAFRxRYLq9p6b9swTz4gau2+H/fD9tO/FIPT9tB/w/dTvMWP6DLz52pvYdcddZYBffO5FaTXXoJwMnNQqHXUflBOebvLkyTJZaNTg2iyRu+6664QuDSPq9OlOEPPUTSLHiUeVj5NOAUoJw/u99tpLgK3leKqGqizTCC6qg3QEAw1CjOdFCU6jD93mzWmgJsD4a6+91nugSCIArlkpiW23aNFiXHDBBVKGEpft57o43tkAtdVi5uPalSou6x0+/BWxwGrb77rrrhhS1BgIThrBeIpIVVweHqG1XB3rIGhJk1ZdOvuh4QPUBosFGGVgvfh2nW4FBOi40eOix/oiQHF+MQ4+8GAZvJuuM8aR+PYU5RXhgvPMxONvGmWlZ8lJIg46VVw1EtFwwklAgHJyctvgpJNOkjiqrFxX8bQL1VYaL7gdwTUm14wsRwlFacytBEogbp9wcpnfhY1lHCeYHlSgkYj1cV2raislMlVESpWBAweKJGdbeSxQHcvQiMW6aVzhWk0d63z6aT64zJqQa1camLi9MWrUKDHCcDuGp374kCEgKKnUwMXTTXQ2EJS2DVA+FGgFpmp74YUXylqRdVKt5Q+40TGdceQhH3RLliwBDUVc/zP+2WeflXwzZvwo61g+EB999FEZl0mTJnkPIWoP7DOdPgQZ9gFqgyV2ngmz6uWfXadbQRmAAnh/7PuizrbftT2mTHaNQ9R+4sobY5GD3XbaDZO+mCS/CEdgUX1VwwPXoFRpuR2gE4FSiuqlWikpHWiwoGpLQwpVLa5VuQ3DeKpsnHhcS3Xr1i1GEtp8YjlKNk5Q+yQRJy+lF9eINLrwIcLriCOOkPWXPTFJj4BlXUwn+AgozUPpTbWZRhi2m+2ixkCJ1b17d5HuNEbtsUd7AbjWeeCBB+LHH3+0mythBSvVZ9Kk9GP79eI9ecqH2oQJE7zy/BU/Sn5qBtRatB6q0jRgqZTmw43rbz5sCFLykjwg77nNxAcKnd1H3vsAtSd7MgDUG3pg3uz5+GDsB5j85WQU5hYiwg+j0NFToAKS9tH7H2H8e+OxYskKFBcWy7YD10GqFhIc77//vqi2VhXg3iTXRHz6U4qOHj1apJvm4YShkYPro5dfflnyUTL9+eefAmCm68UyBBAvrk+5hiMY7ElHlZbqNfdfn3/+eTk8vm7dOqmO+WzHyf3KK6/giy++EJrx6czLBxBVT7adWyC0FmdkZkp+qpY//TQTPBHENePIkSO9NTnLKj31GccHE7dGeFCe7SfPuEVDFX3q1KnSb82va0U+8GgEYj3UVFgPtQPGMy/5QY2E4OeJJK7/ucZme3nsT19o0L6zjNbhW3E5J+xLuVSffoL6PAnq1huhtqPzlWEeFAq4b7ZwnRq1IyBcGj1FVJ1mcxKoNK1OOeZlOZVmvLcnVSJalaXbNBLlVTAwH8OJ8sTXyzyJXHnx+nBJVCY+TvNS3a7I2e1OlC9Ruumbye0D1AZLxbxOxN+axdl1uhTiASrR2h6zNBHAhghGF7CSh2DVfHGtsQEUl+Q92e14nbjq22l2WI+32XFmUiVuiKbF01WgkY5iiW2289t5TL7Kz75qPUpHacbTqqz92huWKw+IWodNS8PaDt6zDYaOsQIyLX58NL/6LOeruBwF+1Lu1qefoL4yAFXgMa8ZU+MrOJVGfD43vz3ItelKXdAh+EiHE1LBomG91zaavIklMj+0pHQ0v/qM14txDFfH2WUrKqf5lL59r33RtER07PwVpWuaD1Cd6OorZ+rT17qsOVQGoFRhFXz0eW/HxdPgPfNpmfpsfwLa9sSzJ6gdZrH4fPHpCUhLlJarLF3zqV9e/prGK119wPCejr4P0Mq52qQPKtAaqy4SiPBTjkadtX0FakU+f3jckiiJwjqpEqVVNU7bmoiWppFWbV2i9sTTTJRHAaO+5lFw2fHx9Mq7j6eh9/RtenZ8TcJaP4133G6iI/2m7po0QGOO+hGUCkKVjFX1XZWyJhOjKmWa+iRJ9vZzDNT5Ki55YV/Kmfr0E9RXRsW1wRgdr/pslU87CTnArZs77rgjCVtWsyY1OQkqWyc86vfuGLw2/DVkpmUhOz0bm/9KQxqvjWlI35iO9E1Vv9I2pclnCvmpwvq6uLFuXxs3bZJD8HzD46+//pKLYV7Mx3aY/FVrk027OYWVf+wzD0HwlTyeJabzVdyGklS2BHWXFbNmzMKVA6/CgH8PwOWXDfQuvrFS3WvggIEYMODyRrn69+8vv+Fj+zwpY9pDX8Ns3wDJe/nll4OXSdM8zde3ecdjiRMnThKAcpumqbsmJ0E99ToMBIqDCBYHESoJeRd/yqS6Vyhg3kjhYYL6u/hJQF5aB+vkJ/nCKC0OmYuf1+Nn9/gZwVApSoMlKA4FURIOoTQURGkwiNJAlAZPDvlXQHhGvvE1N/vd1aYOTra/aQE0Ecdrahhq0DWr+SST+b6Lq3aIYcp8vpKfsJTPWEpfaFI2ZugwguD7I7yYxCabTyQaRohi4dKhnaS5XjwUQXVWL9tolGjKNKW4pglQW+VVgKpvp1UnXG+jxkbYTwOjoxNM/H3qIMFJcDEPI/kbXdYPYvGzTYRrqeTgEUVe7gEEa2uo3prfBAirJV0BqmvPik5CNYFuSRObLkDZfM59BaZioDqgtPPW24jFA5T3liPgSoqA3xYDL40EbnkKuO1R4MmXgK+nA2kZAljzJqYravnhJf1zQWpR9IMpxIGmCVAdAM51G6A24KobVpp17rMhfHqwofR5b7nCXGDaN1jd+TjMdxz84l4zHAffOg5W3n4fkJ4lglXK6yfd4+lYJP1g6nCg6QFUgccx0LDtlxdv50kUrrcxZWUq3hWg9CkTS4DV65DWpRt+dBzMdrZF6eD7gSGPIPPMAZjktMfkCy4H1qUJvKWJVIN912w40HQBmghkOnfLS6sovt6GnJXaAGVFjCNAi4GFK7HccbDIcYB7nwGKS4CiCJARBGYsQ+7EaUB2ni8v6218kptw0waoznUFns1rjauqb5et0zAboABlWB3DAWDBaqx2HCxwHKzvdiGwboVkoK0ogAiKUYyQmIm0XFkt2UrxgynGgaYB0CbN9PIAyk4FgTUbkNv1AvzuOFjoOFjqdACeexXYkC74jQSLEUApAggLzIUVqik3ab74ja8KB3yAVoVLtcpTEUBDQE4eMHkGNu99DOY5DhY7jqxHFxx0AjBmMpBbDARLUGLvgJIkL9+lPAd8gNb7EFcE0AjAj9wWBYEFi4Hr7kSJ4yDTcbBOpKmDgudHAoWlrhXX1Zbrvc1+BcnCAR+gDTISlsizgqxaDv8XR8x7rNnFwPxlwFW34DfHwSrHwfQDTgQWrjDqrVXWnBpihO9SmQM+QBt6dC2QSdUlYSCrVLZJQ0UhgL9EmJkPXHM3NjoOpjo7AV98gxAi3k6qnDySo30+QBt6+Bq6Ph+gDc1xrz5aeoqAvzKw7sYHgS++A9ILjMGX/l1PigSd5mwDTPtBVFx+woi/Iy9HHnyAepxM5YAP0EYbXcKsAFi/HpN27oSpzg74s8t5wL+HAGf0x0qnDeY4DuZeeDGwYYMAlODk9ouRoNHfgm20LvgV1zsHfIDWO4vLq8AFaPpfyL/+P5jpOJjiOPjacTDNcfCl42D+3083Z3QjAZGa+qsuPFSvB8TLo+7HpwYHfIA22jgSoJSJRUAwG5g/B3hpBIrvfAyBx19B8UefATn8vIG7A8rsXHJSMw5G32hptOb7FTcIB3yANgibE1fCV8z4zqcornwHtKgUyCsFioNAJIyQnCEyb5EKBYIzFEE4YD7m9OZbb8k3WJiWSu9AJuZW84z1AdrA465AIta4nqThp8Q1/PCeHwHkRwrpM57wZV5Zd/KVUd4AeOzxx+VDRfzep37hu4G74lfXABzwAdoATGYVBCY/Yeh9h1Ne0jYWWR6bJxDp86LsNL+qYKSnYNIFJ4FKt3TZMhx3/HECUn7N7PffF/lS1LAmpf77AG2g4eT3Ns855xz5zGAp31iJcyIlBZxEoAKUsS4i3aDmY3F+oo80+ck/fkt02rRpcVT926bOAR+gDTCC/Ar2RRddJEDi90Uj/K2TUMTorsSfi8GoFUhhaIlNC6cWbOXzfvw4MEF68MEHy+cEG6BLfhUNxAEfoPXMaKq2/Co2AdS1a1fz/VHqqbKorELlMQAuP/9VV10ldfCjuPYHc8sv4ac0BQ74AK3jUdIfrCJZSs6HHnpIgNOpU6eYT9Z7APWkZ80aokYnftSW3yThV6j59Wx+7Jb1q9N8eu/7TYMDPkDrcZz4GQJ+4p3Xxx9/LDXZQGFYr7poRm5uLh5//HFss8022HXXXeUr2krXfnBonO8nPwd8gNbTGP3www8iyajafvjhh1KL/UHaeqpWyL799tto27atSO67777b+wRCKvwMZX3yLRlp+wCtg1GxpSLJLViwEHvttRdatGiBBx98UGpgnvqUYqTPX603IARGjRolUpQPCKq+ifZK2R5edSnF64CdPgmLAz5ALWbUJhjkL1C7Wx/HHWf2J6+99lpkZWXHfMq9NnWUV1YBZvsE60cffYQOHTpgiy22kO0dflyoImeXryifn9ZwHPABWoe8zs7ORq9evUS1POuss5Cenu5R18nvRdRhgLTp1LdJz5o1C4ceeqi06eyzz/aOBtp5NKxtTERH8/h+w3LAB2gt+E31kCqlultuuUWAQEAoOFWN5EeO6msNWB6gNH7BggXo0qWLtO2EE07A6tWrwe+ZxDsfoPEcafx7H6C1GAOCj44+radc78c0NWUAACAASURBVB1yyCGYPXu2F68gDoXMWq8W1VVYVMFYHsjmzZuHk046Sdp48sknY+HChR49LcO2athL9AONygEfoDVkvw3O119/Xaymu+yyCz799FMx1mh6DclXu5gCtKKC/FAwTzLReNW5c2c5GkjtmA8POh+cFXGvcdJ8gNaQ76raTp482bOWct9TnQJGfY2vL7+ieuyHBY1W/OAtpT0PNHz++efSJB+c9TUytaPrA7QG/FMwrFq1SlTali1byokhJaXg1Xwa35B+RYDjgYZBgwYJSPfYYw98/PEnDdk0v65qcMAHaBWZpRNejSsrV66Us7WURDfccIN85VlJNSYwtQ30K2qHHkPkgYadd94Zw4cP9wxe3KLxXXJwwAdoDcZh8+bN3mte5513HjZs2FADKo1fhJ+Mf+GFF7DtttuCWsDQoUNl/azA1odS47e0+bbAB2g1x56S58YbbxT1cN999wXVXNvp5Lbjkj38yiuvonXr1gJSHg3klhAdVXW17CZ7H1K1fT5AqzGyVP2eeuopmcwdO3bE/Pnzq1E6ubOOGzcO++23n4CUDyAak3zX+BzwAVqNMeArXHzfsn379vjyywmehKkGiaTKSumoa2o27KuvvpLtF66re/TogbVr18a011d5Y9jRIDc+QCths6p7EydORKtWrUS1VYOKrc7q5E3kV1JFoyTHt1MbMWfOHOy+++7ST/4gGX9HSZ2v7ionGs73AVoFXs+dO9c7z8rjfAra+Ele2X0VqmrULGw/3eLFi3H88ccLSE855RSsWLGyUdvVnCv3AVrJ6FOCnHrqqTJZ+XZKQQF/FDN2C6MyYGp6JVUlVfLy5ctxwQUXSL/5q4HTp08v0z4FdJkEP6LOOOADtAJW8icyzzjjDJmknKxpaWle7uYwObl9xLUo16R/+9vfPJCy77TwBvhtU9/VKwd8gMaxV4FHcFJicnIeeeSRWLp0aVzO1L3VF7/Zw9LSUlx22WXCBxrHpkyZIh3X9Sj5pTxLXY40Xs98gJbD+yeffFK2U3bbbbdm+VOWxsJrDtFz7/euu+4SCzYPNbz66qveD5IRnMzru/rhQGoClLaOal72RBs/frycrtlxxx3Bw/DNzRFw+oYLt2HIG/5kCh9a1CgI0meffVbYYvOtufGpIfrrA1SB7HKbxpA2bdrIz1e+++67MWPAycirObjy+jpixAj5CRUeDSRg1TUXvmh/G8pv3gClZsaLvyMdDuPnn38Gf7+WUuLuu/+LYusTDTSI6PZKQw1OY9ajAKUxSN/O0faMHTtWfhSNfPryyy8l2geocqdu/eYLUPKRv1biLp94plYttvwleHuDXrK6E1Unbt0OQ/JSY38VpDYIP/nkE9xzzz3IyDA/RKZ8sfMkb6+aTsuaL0D1g7juWOmPfRGkfMujPKcTsbz0VIunZpGoz4zT19Ko9DMfL/nFfHfdGrN60JsarRC0cKpxt/L+NF+AumMeDkRwy3/Mj33x5zL//PNP4Zq91VA5G1M3R1UkYhjuR4b55e9gxFzhiCgo3k+qMaAaiwvSyrHKHPyAFL/2xstdj6Quu8v0rHkDlMfafl2MvdrvJW9yTJ06NYZBiSRHTIZmcpOID4wTiSkQiiBMA5pKUH65japxdAVhwBkT4X7UzX1QxrDSi2OAhdwvpxKk0U/BxRRJ1ZvmC1CONV0YmPrNVEyaNMmbcG6K51VFiniZUzCgYEwEVOku8UgVV0Dpfpk4Hkoe6OIYlChejXcCRvvTxgyzQPNxzRegHGPXQKTDXd4E9AFawUeeFGCqfcqnFV3eapoyuAKfxfnM1EtxSPU5hBCCCIHh5uZSG6AcTZ0k8b6OdBxINdr2m8nWp93lmLA+uCp9UJHH+t1TC0tcoYYREqiFQSlowhwcZmNMaVSRFYVWh4V+IBKSKxghHVMmpoEpfNO8ASoTqtlpTXU6nclCD4sqBiUiIsDj6pFwNDDkXRAIq5Wc8tKNE3WGBHgxP9OCQCiIUDiEYNj8/EpIQdpMnppNFKAcQJkF5U82zaK+5tR7+joXNM33a8YB8pJ4WrwBkefGIfz6R8Am/mQK5SXhGeYPHAGBYiAtE3h5HEKvjAO+/gnIzgc+mgg88xbw5BvA0OHAE68BIz8EfpwN5OUAwUKEIkEZ8maCS28cmhxADb4UXQamxJk6k+7iNxEANYPrM0uibErP9yvhgPKT2X5Zj4nOYRjnONh051AgTMXVXTsyH09mfTQJ3zgO3nJ2Qf7QV4DMfCw77p+Y5jiY4jiY4Dj4n+PgK8fB546DDf+6Elj8GxAOyED5AFWGV9WvZPzKJNeULsu5ipIxFhhYqpJk1knmQS4p/EftKUITAwNGlZIVDI/2WUoXU0jHraJMk/2ICjig48ksm0NA91ux2nHwo7MjsHoFEC5CKSKQ19w3ZqO0+xXY6DiY7RwCfDMPyM5Fwd9OwjrHQbbTCuh7M3DRtUCLE7HGcbDIcbD2xsFARpoBKLdFmxFKG16C6oDaPtGil4sS1ysLGy3nphiTA8EVFIUqKCF3QhF1cRQYxee6XgFEEBA7YfMyPrgcqr1ntjxl+JBfDHz4pQBwouOg8KGnRa3lA1AyTPgJy5xdsNBxsP6amwWcyMlFTueTJG7TaT2BwgCQmyvqMo7vi+WOgx/2PRL4le/jcpJEZ0btG5/8FJIHoESOK8a8IeDJkaJiYFMmkJULlNJoEAUzg0GeXmF8Tg442CgsiY5hbimQlgdszgU2088D0gqA7KBBKA+9IIQSlLprpeQfsGRsIQ23AsJQEbB6OdClG35wHCzY6TBgzTqDq2IAtz+LmY6D6Y4DTJsKBIqAvELkHnEaZjkOlp3dF5Df5C0BCoLAdQ8IQKc5+wEzF7haEEHafFxyAJSIJN/dfWh6vMAzsV9MwaazBmDZwBuAGd/LWkSEKI99Mg+ND9l5wKMvY9l5l2HzfcOAnFIDwBFjsPHUnsAJFwFdz0XkxItQdNalKLjpQeDL74CsfDHaU5o2r2GvywlOzYObKDQIBYDSAuCJNwVwvzoOAiPGAnlhYGUuCpzDBbiLe14C5BcC/MmUnEJkHXYKfnEcbD7mQmD+EoCfRhzzGTKcvUTNnXfIicCyVQijRLZq6rL1yU4ruQDqSlAPLIV5iDzxPOa5T93Fx50GLF8EhIpQIpvXrsazKQuFp/fFR46DWYedD2QVA6URhK4Zgsmy3nHwtWt44D2f7tOdvRF4/EXA/REwr85kH7Gkax85Z6k1lICL1mHFHkdjmeNg1UWXAcvTgDe+kHH8TqTnj6YXLJpViKzOJ2Mt15qOg43OAVji7I3F7pjToJTz0jtAPh+jzc8lJUC9YSjOA54ahs2Og0zHkXXKyr79gPwckbHUmkAV988s4KgLxBK4/KCzgU05Zi1z+c34iWshZxvg/a+Aj6YBj72NsLO9TJZZzk7A9zOA0oAvQT2mVzdAlFHfofXGxSqx9OTroASdQUCOnICCjqeJarvi2DOAACUui0SAzELkdv4/kZQrHQe/OY6owXMYPuh0YOxnQB4Pyje75acMRHIAlE1RNZe+uDBQkA888RzWOw4KHAdpjiODXnTDnUDaZghAOdLrCoBjespk+P0fZ5i1ZmEYuOIWmRSrt+8MpP1lyHLyPPWiAJRP6aKxHwIlpT5AXa5X36NN3RzEc2FqHppL/8RGpyN+J0CdtmLZ5TYKXn5L1quF/M81a2Yecg89FfO5pXLiWcCC34ClS4A/Noh0lUHm2QbX8u5Nj+o3tEmWSC6Autw3XhjIywUee15M8DTDY9vT5ElLdbX4/qeBvGyguBRYlw107S6q6/yu/wdk5wAlBOgQUKVa73QE1q8zBqTsYuDeJ2TNQ2ti7vvj5TUmX8Wt6fzV18HMK2ciGbkNklkA3Pm4AJPaD9XX2QcfCyxcJPKW1nYEi4CMPBQcdgYoMVddeKlrbXKFMh+mCcEZhWmqb7kkD0A5P9wXIQgWnrqUUySPGoDOdrYCXvkMOLoPprrrSnz4KZBfAGwkQC8QMM455jggOx0oCQKX3yHqEiUvnh0OvDEGuGOobAP87DiY7xwAzJsnx8l8gNYQoAQjxZsg0/PMw/DH+ShwdsUmdz8z/bb7gMIikaACsdJiID0fhYd0Ewm65MLLDSDdpvDtMnmDzdNuzcww6pbJ5AOUnKzoqu64JqKlA+JaUzkMtAoiNxt4xAB0irM78OVPwOKVWNP+cFmrzHU6ANPnARuygK7/FID++vdjgfRsoAhA/3uxwFWNqWpxTTTXceRpPYEnWWh8KOEssIe8uh1qvvkFZFb3zbi5EUFucW0GLhos/OZJIUw1xqFgyLXS06CUVoSijmeKRvPHOVfKuBW6+9RqzSf2zS61D9CKwVgBuKxxqjhYAQ0m6SDz2AFyc4Chw/Cn42CysxfwzWzztJgxB5u37wxKwQXbHAx8/A1w5HkC0IWdjgXSXIBefhdm89iZ46DkzO7I/ucAZF38HxQPfgyY/CNkY93/TdeKx6uCVHsoFTr0GS8QDBYA70/G+84BWNT9SiDPHJJnuuybEqk5JVhz5sX4zHEw7183yAQoFgs9V7Z81YwX17lla6igaSmTlFwqrgtQPjnFrsoTJUOHYYPjYBIBOs39Hif3Rz/8HOmuRCxodSjgtBeL7cJDTgYycsRSiGuGyLr0T2dvYNUKIDMHyAsARWYKcRTNi1DmNaaUGdUG7Ag5qdBRrtI3ZqMSYNNGbBjzPjBnoWTUPGatCnMQ5atvgHdGAzN+lKOZ0d9ioNzUV9MU+kqhATvZiFU1PEDZWfLYvuw4D6SuBH3kOTESfe3sDHw7T1glv3yREwIeeVVA+ZfjIM9xRE2ac8wZQE4ejxgB196Ibx0Hq9sdAqzfJNsp8bw2U8AoUfFp/n3lHOAwKkA1txlaxgaAYDEQKDGnvSyMMSguWAIEeGghD4hwXULLkJfqThSOjx2nhVPfbxyAJuKrDViGiWAe3Rv6nKi4U5xtgak/S0nZXqGO9FcecM29WOUClHto844mQLOBkmJg4A3y5sTSrQ8D/kwDguZprMpTOELlyX0dylXMEjXNjyufAwpQGTJm837xhAECi6+JcR/TTXDHmXAzj0XynwsabnWVICy6k1gg3BEpU0P5jUnBlOQDKEeOF9cnfFfwoedlH3Sysz0wnUYG826K99jme4e9BooaTAPQgi6nA9lpQFEhcOkQeYVpUdujzXuIJC1vQ4QQicSrTik4ug3QJRdv0Zo8pLrCTxAbC05mVoASmuYRyVWmudMVpyGlE8ImHK0u1UPJB1B3QzqfT96iQhS8PAKfOm0x4uBjUPozjUQBedbyh+No3UcgAixeho1nXYyxzrb4+qJ+QB63WYpQctczeN3ZEVNO6glkZBu1WkaUBe0r1Yc5+fpH7iv0jE+AGmgyZKy2/hglD0A5h9zx4IBxJSIv/GZlA6s3An9l8lt4IkH5nGUeGpNMoATYkAasWAts3AjQesg9tk2FwOoMYGM+EKBC5btk4YANvWiYsIzeWU/UZGl2g7cjKQCqQ6K9l71v90bT1Oe7mwyLI0qtNU8QNOMHEIiUyDueTOaeGmP50jAB7cNUmVc737wgb0aCX0CzXV0fHtC66pqu3eZkDScFQMkcBSB9jnfMkEf4s4vGjBCQ3TGXnS5AlblBfo6AL2DLL5AbGmbLxkhbhnnF0NbCvl8tDnifeuBDj6/8WS7+3kqqVlCBybqaIzjJrKQCKPGml4yk3vB7lQjKa9XGpGDGmZLWc9aJMwWimwshAa6CVAvR18uj4gdqyIHNmzfjpptuwvLly+sMTPz8hoKTAOUHm958880Y+qkO3KQDKJ/FvIhNccSQfIyn8i0RyeqWjz7T+YvnZs3KdOM85Ls1RVM0h+9XzgEFT15eHq688kr5bOO1116LAvcd28opVD0Hgb/TTjuBXzyfOHGiFCQ42YZUdkkDUDKZMNHLY7pGUO2NEZleDi/ArCGCOU6N1S04L6OXIz5nNIcfqhoHOCbDhg3DVltthQ4dOmDOnDlVK1iFXKSt6jKl6TPPPCMPgX/84x/YtGmTUKhsTlShmqTOklQArZBTBCgflsRUvLNwJt+yDHLNEs1kh6OxfqguODB37lzssssu8tXtKVOmeCQJHHN5UbUOkN7ll18uID3nnHPkg8o+QHXyl+fXmu1VJFARQF0SVK2ysrIQCMgmjRur297lobuK9fvZynBg7dq16NKliwBm6NChkl7fgKGqe+yxx0qdd999N0pl661M01ImomlI0Ko8HCLAyy+9hDNOPx3/+98nlrmJwNRVrSVWU2YIa9mR8nhbXrxbXXp6Orp37y5A6devH3hf307Xm19++SXatm2LHXfcEWPGjKnvahuVfuoAFMDNN94kE2bYsOfiAEqQ+hK0zEwrD4QVxHMJQaA8+OCDaNmyJTp27Ihly5aVIV3fESNGjJCxPvjgg7F0KX8zt3IbRX23qT7opyRAXxg2zOKVgtMHqMUUE6wAiJ4dTdmneQFMmDABO+ywA7bddlt88803Zcg2VMSNN94oIO3W7UwUF8srFA1VdYPVk1oAvcEM2AvDXrAYyJllzzIrqbkHFXQV+dxU5gqBeQAsWbIEhxxyCLbeemu8/PLLjcrB9evXo1u3bgLSG264AUVFfF0ttVxKAfSm62+QwXrxBR+gVZqmFQFT0whOd1M5fXM6TjrpJFFtKb249UFX34ahivoyY8YM7L777mjTpo08MGyjUaJ2Ma4pWfVTE6AvvmiNKWeaL0EthkSDCsJEvs0yhoPAjdcZDYVW1I18KaERwUmgqdFo3Lhx8mAmUOtyHzbKqMYL+QBtPN43fs3lAZPvV/M1PgpIghPAqLdHYZs224jl9LvvvpM4PURgcjTc/1Ao7B1g0FrvvPNOASklfENYlLXe+vZ9gNY3h5OZfnkAJSgJ0qB5a2Hh/F+x/z77o9027fDBBx9Ijyi9eCVSI+u7y0ZNZeOjLjMzE3369BGQXnzxxSgs5HtMTd/5AG36Y1jzHiQCqM57189Kz8YRfz8CLZ2WuP/e+8vU1RgALdMIN+L333/HQQcdJCB96KGHJFbV4PLKJHu8D9BkH6H6bF95AGV8GCjMK8Jll14mE/68s8/Hpr/M+Vcah5IJmGSRAnH8+PFy7JDHD7/66qv65F6D0E5JgL7kG4mqNnkqAeizTz6LLZwtcOABB2LB3AWy1UJgJiNA9YFB/4knnhBL81FHHYUVK1ZUjRdJmit1ABoBbrj2OnnaD4/Zn3PFgVg7GPadxwEboIxUVkWAad9MQ/td26PtVm0xZZI5BB8OGstpY609vXZXEuADpH///jIXzj333Ca9P5pSAL3u6mtcgA63hlBnHS0fPkAtxhh2KEg1gZ9ZKQmhU8dOwstnnnjGpLjWXEoovbRIMvqrV68GJajjOLjlllvKWH2Tsc2J2pQ6AA0DUYDaJ1x8gCYaeIlTcKoPIDsjG1xvcmJfdsllKC4wn2sol0YSJ/DF7p133hnt2rXDyJEjk7il5TctpQB6zZVXycR6ZbgvQcsfcitFgen6JYWluOu2u4SHXY/siqW/m0PoUoJ5XClqUUjqIFXd1157TfrDQ/ULFixI6vYmalxKAfSqKwbJYLz6yqtWX3Vm+SquxRQTJGvMaT0B38cffIx2bdqhdYvW+GH6jGh25tM39qKxTSY0ePBgmRennnqqZ+1tKo1PKYBePcj8Lo4P0CpOPwVeBFi/9k9ZdxKcb7z6hiGgoNTzuE1QgnK9nJGRgXPPOQ8tW7bCe2PHVZE5cdnIK17q4u81vo791AFoBIgC9BWLTeQkZ5YvQS2mxASL8orQ7VTzVsjgGweLkUgkpgJT/SYGUPv3emfNnIU333gLBfk1fONFAakg1fsYTtb9TeoANGwD1FdxqzRV3EkWKA6Ce549L+yJP1b9YYrqM832dXJWiXhyZDIWZ9OWIL/3U1OngIz3a0qviuVSCqD+GrSKo67ZeNSWh+LjJ11F91q2SfjsiPlgVq2ba/NElTGNqzXx8gmkEEAj8AD6qi9Byx9yK0UnWHV8q3jyB+tQJ6+IR/XIiJQE6Gs+QKs2ZSqadOWlVY1ykuSyAaodqoOmkVQDOR+gDcTopKxG52x1/KTsSIJGlQGRdjJB3kqitGQiv5KitU72AVprFjZhAolmXGVxTaW77IfrTJfiP9hsZdCM9K1oDdI3v66sXzCN3Rdgul6GVOydTb664RQCKHDlwCtkQ/r1116z+GDYm/LbLFWZE/F5lDUaXxXf4mxSB7UvHnh4IoPHFnlZPxVhd8LmRwxW+TkRWoDNRyzVsK1VaDFjO4q9s8nXJJyiAH3d4kXdMswiXP9BewbYYXtXl/HZRcCqTeYjxgWlnhTgZxzNpzsjAH+WckMWsD4PSDc/UcktCFti1H+HGqiGOF5JraEAkJMPrM8CcvLkC+zgj56537pkEdkqLywFNqYBG9OB3EKTXhIG0guAdX8BazcAa9OAVRuBdRlAQUjK6SczzZeB9EvhQrVWnU5NgL6eAgC1J1lcmLcBPaVHkH03H992+j983eEI4IMJZkLwrZQwEJEHfxhYuAQLOhyBj/c7Ecsffx0I12JPsFZTroEKu9gwXgQoCiLrsVcw1emMH7v1An6ebxoSMjmEGxSB6zdheY9LMW7/v2PlA08ChSVAfhjpNz+M6dt0xPxtD8T0Nh3xY7uDsODAk7D2vMuBT6YAhebMJKmZy0C1tr1NHYBGgEGXDxQV940RIyy+kF22UmIlJXMwOtJmxI3+JGFOJp6HETnIL0otz0LO9mdgjuNg2dEXAHklgmACVLqeFgQGP4JMx8EMpx0wehJ/KxPBmG/YJDMzqtc2HXHyyYNNWhFw6V1Y7Tj4zXGw6phzgfXmUAYfdrzErViDzFYHYrLjYEOPQUB+IZATAk7qj8WOg82OI3zMcBzw2ug4+NlxUPLsq0CJocL668qlDkDDEVwxwHz5KiUBSokoqyCuhKISNEgQ5gN45A2ZfBMdB/jfRMnsTbrZ67Fhx2Pwp+Ng8f9dCPyZhgjC8tXyuppIyUaHIFF+0UdGIfDvO5DuOMhyHMwjL87pA/xlfj7Ue6luxWqUOB3wFQHa5wqgqBAoigDdBuAXx0Gu0xn4aRHwzRzgjU9R5HTA96TX/ihgzXpRWcj3ugJp6gA0FMHA/gNSV4JGDCgpNUthrImcd8QnikqBn35BrrM7vqYUvejfQE6BwQwLvPQ/LHAc/MQn/YuvAuFSoREwpU2+FPxP3vBhJlI0Mx/oP8STgEscB99Rkl5zE1CYLV9vRyQALFuFUmc34eOGfoOAgnwgPwicc7lIynVduhnkE4X84cAHXhXgzuWD8bdlQDggpiQfoPEciAGo+zaGTDpmVF0vvlASz0o2Ne5iL4JiT+SU4+9iukaeYCmQkwlcMUQm3VynDTD9Z6CkFMjKAY6/BDOpirU8EFi/USRnE+JErQaJnJK+ZuYAA4eIlkG1FIedLhoF1VM8/jQQzgMCRcCSNchz9gI1kb96DzKGouwQcPq/MdtxsObw/wMCJQb5GwJAz7tFGv/ibAssXgXwZ2Fq1eLYwikqQVMToBw6AyyCM+yKT8bRCFIAfPWjAJHSctPtQ4FNucB387DccTDdcVD4/OsiTkSicBY1pW8gxM7bqt25ywLhGR9UgwZjleNgSYdDgc+nI3DaZfJAo7qLsR8YS/eS5chx9jYA7TkIyMkFcoqBU/tiqbvuxH8eBG58CDhrkICc6vDi8/sCm9KAkPtpiTp6AvoArdpQN3wuDnB5FxNkD8U0S9ZYoRCQkY9Q9ytEnZ13QFdg5nLg8jtEtf3F+RuQkQGUBM2Xymm9NHswDd+3hqqRXdSHGgF65c0iQb/v1BX4bTWwPhdZnU7BfMfB99Q6Jk8Dlq9EgbOPGIk29rkaKMg2hqJz/oW1fPA5jkhSStNZjgOqtnOPPBmYMYM/5iS/1yRs9QEaN8rNQMUtF7CcDJyJgRAw+SdwfSVroktulyc8jRiBq28zey5EMy9uszQTCSoqZ2YuMOgWrHEc/Lj/icDijYZn0+dhhbO/WGh/czoA74wHnA6YQCPRJVcDxdlAQSFw1r8EyCyPa+9A4U3/ReGDTwFj3gf+/AMIF6EIARQhbCzC+nCNm6bVvW0mErSOuFVd7tYmvza5qj5nYTgMZJYCZ1yOZY6DbK6ZHAc/UDp8/a0xl1DSyozlPxJPYeequNLdjHxg4K3Cj5kdTwAW/SnPKeQHgHc/lnhKRTidEHEcMRKtuewaoJhGomKET+kpmsimv51gDoYUBAC+qkfi5CkiCLgXDxXWFWtTCqCXX2Z+C/XNN95s+rOuqsBkPhdr3G2Rk2yjv0Wau51AgC67qDewaR0KUIxQmBsKSrzps6ncHrhdFGWB4bRCYMAQUVN/OvBYYMlaA1ASyMoHHn5VpGiB46BIVF4Hyy8nQEuAgiBwRi/8SF6KFZcEdY/V5b9qJiap3GZVNyFlABoJhtD/3+YzBW+/9XZ1+ZB8+d0J5mGpCvdi/OG2yqp8YL/TRL39lVLh3bFAsMAlZZ72dfaITz7OSYvILvZU9oJ5k5YPDLhVADqzEwG6Mnoaq5TSMAjcOlQ0D0pQLhHW9eMatNBYcs/uLSru2kPPBkqNhCTZmMrkaVC3iknTBqjHIW4/hXHZpf+WfdB33343yjiXh57HMvGXl5hkgfh2VnSv84KThydf7n1JLJE/73EUsHq9TFVu0ZgDaCSU2o495APLA2h2MYqu/i9mOA6+6HISsNT8pCiVjzDPQ0aKzEGD7ldiheMI75Zfcj2Qnw8UliL3rL740nEw/x/nAcUB2U6RecTjWjwtIkY3a27VEXubPkDdSRsuDePf/QxAR749yrCnogkdn1ZHDG1MMpxsMiHZiHlrMenCQUgf/i5QzAP0QWMbqvs51JhdLrduBahoFbzJLUF42Bj8cWgfzLnlHmD9alfGhlAagiSCIQAAGEBJREFUDqCYBydDhcCC3xHufTN+O64Xcp4eYU4SFQYQufNp/P6PC7HulqEAJa4cdCaJsDHO8VON7lJDgFtuy6qXkDIADZWGcGnfS0WCjnzL/RXxeBBWdF89viVfbvbNcxEgNx/IznHf2qDeK1M1RnnwsqdawB5n7RvBUxABskLKihgrdkgfX3K4Ix/IKZQtKVG3aHzjWy65RcZXmuprffa9hmvppwxAKUE9gDZTCRo7FwjIEMJy8EwXR7E5UvZOAMN1ovXUUunGTjOs9262RFvCijvVXsM8HBLnmEdJxSXVya0PUB2FOmFn4xBJNElMnFlzpkAXq8lY5Ug4aihSi5Giib4bZhIfZywV45juPtuYxjxcQoguEq1CipQpG0Oo5jc+QMnZ+uJuzcel2iVToAvV7nN5BfhY4usEHgKZUW8TFCLviMNEPFSMGn3EzSOHPAKI8HB9uSUTVFSDKB+gHJVEI1MDZiZVEfaJsysV+1YJo/l7BlTuzbF1vrXOEwsVH21MxCoePLBf7WMeYWo4AERK3OWDK3ttPtvhStpaWbIPUDKzDhlaGcPrM53d8CYaA/aVIn2sCv/YbaOZEpzcAuFWiBsZT8Adfy0TZVMYwXAAfCWPRZnuuQhjuGkVdCV13MmhKBGvSE0DKQnQUc3USMR5wYkk84P/9Krp7Gii5bTbUQlKoCpjEneqvGTGx4BTijPGcNrsKyemWRexKQNQbrNc4m6zNGeAljfRvMmiGeinvFN4Va2z/BE1flM0mVzKADRYEkK/3v1kH3T0O6MNj+3JWFk4mUalDtrCr3gNuuIqnHD8SZg71/2BLNKNPvxTRrWvA3YJCQI0zD1PAOPGjUPv3r0xZco3dUW+RnRSCKBBXNzrYgPQd8cYZlQGSju9RuxL3kLZWbk46shjhB9Tv50ebagP0CgvKgjdccedwruXXnqpglz1n5RCAA2hb8++wtQxClDyzwZhReH653WD1iAAPYoAbYnvpv8QrdsGaDTWD8Vx4N5775W59GrMd37iMjXAbdMGqMUgrkH79OxTFqDMUxEwNc2ilQrBnJxcdO16LFq0aIlp06IS1D5ckwr9rOs+yI95A7jvvvtkLr0W85WCuq6tcnopBNAwevdwATrSVXG1/wrCinzNmyJ+Tk4OunbtihYtWmDatGler3QCehF+ICEHfIAmZEs5keUBy8pOCRoF6FgrpblKUB+gsZOgencK0NdjvlJQPRp1kTtlJCituL6KG50SvgSN8qImIR+g1eFaVSSoDdCRvgT1AVqdCVY2rw/QsjwpP6YqAC0No4+7Bh3rAxQ+QMufTlVJUSuur+JWhVtVACh/8qR3995ieXtv1HuxVMsrb8fHlmjydz5AazeEPkCrwz8bSHbYohEJRNDrol4C0HGjx1kpvpHIt+LGToeK7tTK/d///lfmki9BK+KWptmgtMOaTj8I9LywpzD1ff6YsDo7f0VhzZ8ivi9BazeQd999t8ylETGfsqwdzZqUThkrLt8v8gDK72zQEZD2yRkfoPJpgppMlOZW5s47zVE/H6BVGfnygGWXLQ+g7k9WVHqayKaVAmFfgtZuEO+44w5fglaZhVUBaBDo4aq4H9gS1Aeof5KoyhMtmnHIkNsEoG+8YX8pL5reUKGUUXH5q349LughTPUBCn+bpZYIUoBSxVXDUS1J1qh4ygCUJ4ku+mf3WICSJSpBlT2UxupsyaxxKeL7Km7tBlIB6kvQqvDRBpIdtsryLO6F518kAP1w3IfRFAKUV6JyieKiJZt0yAdozYZPpeUtt9ziq7hVZqENJDtsEaCKe+F5FxqAvm8BNJEVV8uVQ0uTm7LvA7RmoxcP0DffbNwv5aWMipsQoApAglTD9NUlitO0Ju77AK3ZAPoArQnfbCDZYYuWDdCP3v/IpGjeZgjQ3Fy+sO2/D2pNkSoFfYBWiU1xmRRo8b6VzQeoxQx+zCs3F8cey19UaIGpU/0XtmO5U/6dD9DyeVN+Sjww9d4q4QPUYoYL0OOOO07W5FOnTvUSdQJ6EX4ghgPKHzUS+WvQGPaUc6OAjPet7GLFdY1EH3/wsUnR/M1Qxc3Ly4MPUGuCVDGov9nkA7SKDJNsCrR436IRLA7in+f8UyTGJ+M/MSma3weoxymVEF6EH0jIgcGDB8tc8iVoQvbERSrQ4n0rW6AogPPPPt8A9MNPTYrm9wHqccoHqMeKCgM333yzD9AKOWQnKtDifStPaVGpALSF0wL/++h/JiU+v95rOb2nn2LOV3FrN6A+QKvKPxtEicIunUBxAN0v6I5tttwGn33ymYlNlN8Go51e1fY0kXwE6Mknn4wtt9wSvpGo6oOmGgbXoK1atcI777xT9cL1kLPhDyrYoKjLcAj46IOP8OJzL2LFkhXmYIIe8YtXcRPVWw/MbUySJSUlMrkeeughrFq1qjGb0iTrnjRpEu5/4AHMnz9fDssrcBu6M6kDUIJOHcMEpQJT/UTA1DgtmyI+PwLUWJMqRVgo/AuF+JRvPJc6ACUI9ctxClYFX1X8xhuDeqnZBqcdrpfKUoSoftmM3QkGQwgE+Il74+w0jWsIPzUASk4RoKrSVgWQ8Xkagtt+HUnNgYq0jqo+5JivqnmrwozUASgBp6qs+vEgrOi+Ktzy86Q0B+oaXHXBrOQCKHtUEYjsNIJQgVidcjYNO1wX3KwLGtqmuqDl06gWB3yAkl06AeN9TQsB/I3bCtVVOw9Bqo406eJpV+XeLdrgXnlta/CG+BUmIweSR4ISaFxD0tBDn5dKyPImMeNTDaDJOEv8NlXKAT3DW2nGamZILoDajVdQapyCVX2Np6/WWzuOYaVRFT++bEPd60PGftA0VN1+PbXmgBqE6svKmzwAdUE0a8YsvPDcC3h52MvI3JxpGMg0laoRID+nAK8Pfx2j3h6F0iLXFB4E0jdlRMFaFVDaeWo9VDUkYPcNwIzvZmDYM8Mwc8ZMIViRZbGGNTabYvxVCf7o10svvYSXX34Zw4YNwwsvvIAJEyZg06ZNHh8UZF5EJYHS0lI5BPLiiy9izZo1leSuXXLjAlSloQuUrPRsdD2yqxxSdhwHr7z4iumdrfoCWL1iDbZsuSX22n0vpP2VJnmeevwp7Lz9zrht8G0GpDb4qhKuHR9rXjoOoFcNvEr6f9uttwlNH6A1Zy1PUO24447efOKc0muvvfbCsGEvgCeuquuysrJw6KGHCq05c+ZUt3i18icHQNnkCPDph58K8JSJp5x4CjIoFQlkXZMC+GP1OrRp3UYAqul33mZ+qv/iXhebvC7NKqu51WJbHWaOA+jVg66JAWgkXLf7anXY8qQntWLFCuyxxx7Cz7PPPhvPPPMMhg59BP/3f//nAXX8+PHV7kd2dja6dOkiv1Yxe/bsapevToHGBSjXjpygrjvz9LOEcUcefhS23nJrbLv1tvjs489i15IA1q5ci7ZbtUWHPTogfWO6lM5Ky8J3U79HdkaOkpNykfLWp9Fc5Yf4YLAvWxKXX6raKZEwwIvumqsNQG+/7XYToQDWuk2s+e+WER5qmCwNWUy1glo0kUonZVwa/JRjhA/EeJeAVnyWxr63+7Z8+XK0b99e5tSDDz6IUMh0cOHChdh///0l/oYbbqi0yaQZDAblYmZK0MMPPxwtW7bETz/9VH55HbOq+OVQaXyAugCaO2suWrdojXZt2uHLzyaA0pOSdOBlA822CzvgTpDVy1cbgLbvAAKT8WtWrMGsH2dh8a+LTX53shXnF+PXX37FF//7QiT0zB9mIocgJiiCESm7dtVaTP16qrwFw/S8rDxTl6571bcZXQ5DaxLNCaAT6+qrr5Z+337bHTGk+LbO7wsXST/4UsDsn2Yjl+1k2yLApg2b8cP0GZg9cw748y/Kq4LcQvzw/Q+YNWsWAgHDbKrNixYtwrRvp2HSF5OwcN5ClBaWmvpcvhXkFGDWjz8Lz76a+DVWr1iNYEltnnYx3amXG1pSlY+sgBJUAfrwww9DDTmLFy/GQQcdJHy+5557vLbw3C2P923cuBFTpnyDcePG4auvvgKBznWnuvz8fBx22GFSnutZ8vaTTz6RT2wQvOLsuVKVsBKP8xsXoG7Due+pa6/TTj5NAMRfRWjVopWoscsWL4t2GsDKZSuxdeutRYJmbDaGobtvvxtbb7kN/nXxvzxD0fq1f+K6q6/HnrvvhVZOK7Ru2RrbbbMd7rv7PqHHl7zffO1NdD6wM7ZvtwPa79YeO267Iy7pewmWL15u6lRwukCQic9216GrDKCLFi7Cv/r9G3vs2l76SO1i+3bby9fcfv7xZ2nJt199i3077Isd2u2AOTOj66LhLw7Hlq23xFlnnSUTtKCgAM899xwOOOAA7Lj9jtht593Qftf2uHLgldi4fqPQonHukj6XYNeddsNO2++MnbbbCYcdchi+n/5DHfa67kklAqiquAMGDMDXX3+Nzz77DAxvtdVWOO200wR8CmqCc/To0TjmmGPQpk0btG7dWvJ17NgRfCsoM9MYLQlQVXG5FuU6l6/1bb311jj33HMFsGV6VxlIyxQwEY0PUADLlyzH3nvuLU+kRx58xLQsApxw7IlGmtzqShM+3cPAyqUr0aZVG0/FpRp76823Sl6+E0qpUlxQgjNO7SZxu++yO+656168PeJtDL5psIRZydeTpsgE3b7t9hj97mj8tuB33H7L7VLmigGDQOkbo+K69UtcOQytSXRFAOUa+5wzz5E2dTmkC95+4x3RMHpcaL5D84/D/iHWbkq8c888V/L954b/iATl5zAOPvBgiaMVk27s2LEy+QjQCV9MwPzZ8/Gvfv+SPHe4fCafqL2cctIpIkUnfTkZN153E6ZPnV6T7jVYmXiArly5Ervttpv0hQAi6HixbzvssAOefvppFBYWeu378ssvsfPOO8t7oPy6GaXjk08+ibZt24o6+8ADD6C0NCC/mEgVl3S4nn3//ffx7siR6NSpk8Sdf955yNhsjJce8SYL0DBkS2ULZwuRbvN+nucZeV58/kXpMJ/gf6z+w+srrbg0Eu3dfm/PiDRk8BDJy4lLKff5J5/LPaXN2FFjvbIScDW1yy+7XPL858bBJro4iLzsfOyz1z7o0L4DFsxbYFRFZS4BSknqqoGxRGt+VxFAqc5yLc7J8IMlwbIzsnHMP46R+EcfflQqf+PVN+T+wP0PxNpVf+DzT7+Q+4MPOlgkBTPxCU9a3G6g48ONS4C2bdqic6fOoNYx/IXhkme/vffH+PfGe+MhSwIplZz/ygB01SoPoFxznnTSSfJbwQTSFltsIX3s16+fAI49OuUUs6waNGhQTAepcZBnhxxyCNatWwdqIQQof9LUXoPOnDlT4rbfbjt8P819mOncqcyPqTF60/ASlHVbjeV68OxuZwsDaPjp3aMP/t3v33KddcZZAkQy56H7H/ZazfUmVdy999wHmWmZMoFu/Y8CtKfcP/HIE0KTUscGtw2wU086VfJwQh/f9QSceOyJOPboY0GJusO2O+Dbr781dWp7GxSgxkj0xKOmH1RfiyjR6XgSsjTsLQsuOO8CieaWE/vCpcFzTz+Hnhf1kv7ddOPN4PqqqKgI++67r8T9/e9/xwnHmj4fd8xxopHsu9e+WDh/oaxnzzz9TPDnY1o6LXHGqWeI1OY6OJldPEBXr14tVlwC6YEHHpQtFRp7qKo+//zzwgeqsVRrqbZSqnKuvffeezHdXLp0qUjQ7bffHtxWodTlGpRGoh9//NHLS9rUTFjfmFGjvXiEja3DnvdlwtHcMaHGAajVhO+mfocdtzN7VdtstY1MFIKPT3T6W26xlZlQnQ/D+jXrpeSq5as9FZcqII0iquLyC2dc0z7y0CNS7vBDD8cfq1zpS4C50pMGj+OPOV7y9OvdDyNefQPDX3xFfpGBhyTeev0t88sMrJHlFJz1LEGvusrdBx1i9kEfG/q4tJHgodruDWwQsm7khOKXxSUewLNPPSv5O+7XUdbT5CMPP9Dl5eShw557o1XLVrjphpvw2vDX8NKwl/HyC8Nlz3nkWyOx8U+zDv3zjw3gw4GAZx18QEyeOFno2BJfIpLkXyKAqpHokUceiTEg0RDUrl076Rs/d0/jzk477ST3Y8aMiekRrb6UuEwnQPPzCwSgBOL333/v5eUadr/99kMLx8HY0U0VoJRGOuEB3HjdjcKUQw46VJ7cG9b9JUDc9Ocm0ADEb30SpDTwvDXibWGGApQHFQjQUEkIQ1wJ2v2CHpKHPxzGiUVjyof2x5Q8dgID/jVA8hDU8Y6qnwCCCbahqJ4BeuWVV0qbhtw6RJr0wXsfoN3W7cTI9dMP5nQRE3Izc3HUEUdL3icffdJrPlXf/fcxWwjsP7+Zyt8MVnfqyUZruPuOuzXK82k047q7KK/Ii+NJrYv+ab4ad+3V10o8raFhSoUkc/EApRV31113FR499dTTMa0dNWqUxJNHjz5qlghUgXnPh6TtnnjCaDEHH3ywp+IeeeSRslalBVfdt99+K+V32WUX/PSDeShqmvdgVW0s3vcyxgYaXoJa40qVrEN7YxziSaAY5+bjr/WddJxh3AXnXoDcrFwx+XNtSYBy35MTUNegAtAgUJhbCFVhaaV8+P6HMebdMXj04cdwx5A7ReJMnjAZe+6+pzB1YP+BmPD5BEyZNEWk6Hlnnw8eO4xhrEpR+nXobIkUD1Bun6jx59CDDsXIt0fJ2pJqLSdTl0O7CFilOS4OH7r/IThOCzn0wf6Ic9v8/tgPRLJyDX/Lzbfim8nf4KsJX4FLgrO7nSPW65dfeFk+5UiJyvKU0KzrvnvuF1J2ew3x5PifCKA0+rDtRxxxhFhv+/fvLxZtGn4Yz7Up1450EydOBMHFHwu73TUSEZxUbWn1pSWXSwUeIezcubOUv/7668VI9Oqrr4LWXtLs1atXChiJALw07CXQOHTgAZ2i2xrkVBwQCCzmIyC517lu9TrsvMMu2G/v/WTPkiruf++8R6TspX0vFYlKMjSU3HDtjWLt5bqMNLjOvaTvpTIgXFONHzcex3c9Hm3btMN2bbfHrjvuKmvba6+8Fn/+8WdZgLJt9QhQbpxzkO2DCrQu9/9Xf9AazV8tbNN6a9lOIXDID3Fsk/tQW/L7EnTc728CbB468DSWEFCUX4TXhr+OIw47Qtb33HaiEY4qLB9cfADSwHbAPgfInjQNVFttsZXQWvTbIqkqWQHKxhGk6ihB99lnH9kC4VqTwKOqSosuj/p169YNX3zxhRxgoFbAgwwjR47E0UcfLfkIYl4E8dChQ5GRkSFqMterNCTtueeeQovgpXWYWzrXXXcdVq5YoU0wPttU2RVbwrtrHAnqNpYngmi1Xfr7UvCX4cVpR7wmUtUsxtyf5+GXuQvEKERA/rbgNyz+bYkBYwSyhzdn1lzZgvGYAYAgXLZomRh8+NWzn3+abQxLpB+ErF9pqGI7ODGnTZkGHoSQjXt9UGibbN9qX10EOenp1q5dK5bBP9a462YTLf1c8tsScMuDPyvKwwXcWhHn5pFwCPICAfdFF87/1aTzv7ad4TDApQRV5i8+/QLTvpmGdWvWedZaLhk2/LFBDj5wP5oHIGJOaMUBIVpJcoV4zva3336TdePPP/+MOXPmYt68efjll19AAxKBps4G9ubNm2VtyYMK33zzjRyspwGIzjycIAY3Hnj47rvvvEMKPPurBxpCPBSiPK+Krw2J8xseoOVJIOtkj3RMGxovrWgQ4wvd8c6OUmlCnsaXjy+XKD2eoVrGjte4OvITSiXtB/1E7Yyv281Thj9Kx51gMfwth0Z8tCeFyyQkb4Q+9CpqoUpO5i3vF/zi6VSUV+riHOWxQs6Xqlhw7bkb19iGB6g2QCe73tPXuES+5tPJpr7G2747UUlPzpgqPcaHgVAgZCa8pmtZ5ot3dpzSsePi89fingOvV0JekLbVBj1zGw66amwEsMNe3rg2cVLGTzoBoPLD4q2cE1YbUz31O655dXarvKSvfbb7bdJNdZqXd3bYboxdVuMNXb2zylIkKzijydUONR5Aq91Uv0BDcCDRJGyIelOtjvJAXt1++gCtLsf8/D4HGpADPkAbkNl+VT4HqssBH6DV5Zif3+dAA3LAB2gDMtuvyudAdTngA7S6HPPz+xxoQA74AG1AZvtV+RyoLgd8gFaXY35+nwMNyAEfoA3IbL8qnwPV5YAP0OpyzM/vc6ABOeADtAGZ7Vflc6C6HPABWl2O+fl9DjQgB3yANiCz/ap8DlSXAz5Aq8sxP7/PgQbkgA/QBmS2X5XPgepy4P8BvIqCpEKrCKUAAAAASUVORK5CYII=)"
      ]
    },
    {
      "cell_type": "markdown",
      "metadata": {
        "id": "IuTVKMQK4jr9"
      },
      "source": [
        "After having defined a **context-free grammar** (as tree above), you can use the **NLTK's contextual grammar input statements** to create a grammar that can be used to **parse the sentence**:"
      ]
    },
    {
      "cell_type": "code",
      "metadata": {
        "id": "NF0dZ1jT4jr9",
        "outputId": "ef325a52-b02c-4586-eb50-37f9805ce545"
      },
      "source": [
        "text15 = nltk.word_tokenize(\"Alice loves Bob\")\n",
        "# S = sentence = NP + VP\n",
        "# VP = Verb Phrase = V (+ NP)\n",
        "# NP = Noun Phrase\n",
        "# V = Verb\n",
        "\n",
        "## set the grammar rules:\n",
        "grammar = nltk.CFG.fromstring(\"\"\"\n",
        "S -> NP VP\n",
        "VP -> V NP\n",
        "NP -> 'Alice' | 'Bob'\n",
        "V -> 'loves'\n",
        "\"\"\")\n",
        "print(grammar)\n",
        "grammar"
      ],
      "execution_count": null,
      "outputs": [
        {
          "output_type": "stream",
          "text": [
            "Grammar with 5 productions (start state = S)\n",
            "    S -> NP VP\n",
            "    VP -> V NP\n",
            "    NP -> 'Alice'\n",
            "    NP -> 'Bob'\n",
            "    V -> 'loves'\n"
          ],
          "name": "stdout"
        },
        {
          "output_type": "execute_result",
          "data": {
            "text/plain": [
              "<Grammar with 5 productions>"
            ]
          },
          "metadata": {
            "tags": []
          },
          "execution_count": 45
        }
      ]
    },
    {
      "cell_type": "markdown",
      "metadata": {
        "id": "xwMtV-xn4jr9"
      },
      "source": [
        "You then create a **parser** using the grammar just defined:"
      ]
    },
    {
      "cell_type": "code",
      "metadata": {
        "id": "LLMM8w2N4jr-",
        "outputId": "57391390-6a3e-4e7d-ce5e-fa69586ff9b1"
      },
      "source": [
        "parser = nltk.ChartParser(grammar)\n",
        "parser"
      ],
      "execution_count": null,
      "outputs": [
        {
          "output_type": "execute_result",
          "data": {
            "text/plain": [
              "<nltk.parse.chart.ChartParser at 0x1163f73d0>"
            ]
          },
          "metadata": {
            "tags": []
          },
          "execution_count": 46
        }
      ]
    },
    {
      "cell_type": "markdown",
      "metadata": {
        "id": "gUsGIMez4jr-"
      },
      "source": [
        "You can then use the parser to **parse the sentence**:"
      ]
    },
    {
      "cell_type": "code",
      "metadata": {
        "id": "vnD3ajQ_4jr-",
        "outputId": "26ba8644-b98b-4519-cede-b6062004abc6"
      },
      "source": [
        "trees = parser.parse_all(text15)\n",
        "trees"
      ],
      "execution_count": null,
      "outputs": [
        {
          "output_type": "execute_result",
          "data": {
            "text/plain": [
              "[Tree('S', [Tree('NP', ['Alice']), Tree('VP', [Tree('V', ['loves']), Tree('NP', ['Bob'])])])]"
            ]
          },
          "metadata": {
            "tags": []
          },
          "execution_count": 47
        }
      ]
    },
    {
      "cell_type": "code",
      "metadata": {
        "id": "YrF4SzEZ4jr_",
        "outputId": "103979c3-30c7-4474-fa8d-23106339b976"
      },
      "source": [
        "for tree in trees:\n",
        "    print(tree)"
      ],
      "execution_count": null,
      "outputs": [
        {
          "output_type": "stream",
          "text": [
            "(S (NP Alice) (VP (V loves) (NP Bob)))\n"
          ],
          "name": "stdout"
        }
      ]
    },
    {
      "cell_type": "markdown",
      "metadata": {
        "id": "5H4Q7CV44jr_"
      },
      "source": [
        "**Ambiguity in Parsing**\n",
        "- Ambiguity may exist even if sentences are grammatically correct"
      ]
    },
    {
      "cell_type": "code",
      "metadata": {
        "id": "bXx0GvQK4jr_",
        "outputId": "bc419e24-b7da-4d93-f5c2-9f1c6e857dc9"
      },
      "source": [
        "# ambiguity in the preposition phrase attachment \"with the telexcope\"\n",
        "text16 = nltk.word_tokenize(\"I saw the man with the telescope\")\n",
        "text16"
      ],
      "execution_count": null,
      "outputs": [
        {
          "output_type": "execute_result",
          "data": {
            "text/plain": [
              "['I', 'saw', 'the', 'man', 'with', 'the', 'telescope']"
            ]
          },
          "metadata": {
            "tags": []
          },
          "execution_count": 64
        }
      ]
    },
    {
      "cell_type": "markdown",
      "metadata": {
        "id": "bXDUe0Ok4jr_"
      },
      "source": [
        "![image.png](data:image/png;base64,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)"
      ]
    },
    {
      "cell_type": "markdown",
      "metadata": {
        "id": "qbxcrQX04jsA"
      },
      "source": [
        "- The ambiguity is visualised using 2 trees that distinguish the 2 possible meanings of the sentence (continuous vs dotted line). PP = Preposition Phrase.\n",
        "- We can try to parse this sentence with NLTK as well, using a grammar stored in a separate file:\n",
        "\n",
        "![image.png](data:image/png;base64,iVBORw0KGgoAAAANSUhEUgAAAQwAAADBCAYAAAA6jY5NAAAgAElEQVR4AeydB5hVtdb3ueX9bnvve+3ea++9oKjYFRCsCCj2ioAK9t4LKtZr741m7wWxolhQUUSx94KCqEhRmsDMrO/5rZ3/npw9+5w5Q3FGOXmec1Z2srKyspKsnWQnK82s4ioSqEigIoEyJdCsTLwKWkUCFQlUJGAVhVFpBBUJVCRQtgQqCqNsUVUQKxKoSKCiMCptoCKB+VQCNTVm1dVmNdVmVhN+9chithSGZ1AP4Up0RQIVCTRxCdSYVc2qcYUhxYESKeVmS2HMnFltP/80xSZNmmwTJ/xkP/440SaMn/Tr/CZMtAkTJlR+FRlU2kDcBsbX7YP0zexv/I8TQ5+dkIwsLBlloDikNOa6wnh75LvWYv0Nre0221q7dtvb9tvtaO3abver/Nq2bWdt27at/CoyqLSBtA3QJ7at2//abW/t2tX2S3CEt+QSS9tjAx9PdQOzBv3SwBxP2SOMeKgy/PURdvrpZ9mUydNs8uSpNm3qL7/ib5pNm1b5VWRQaQMFbWDq9Nw+OHXKdOM3JUD6KorhqKOOtZtvvjVRCWEtgxEGv3Q9I2d6UrbCcEJB4wwbNtx6nX1ujv6pBFUkUJHAb0ECJ590qvW5tZ+z6oufVWbV4aeRBtCVR1Sg8hVGVW2ql4e+6gojHnXUxlZ8FQlUJNDUJYDCuPXWvs5mrCCy/rmiMF55eVhFYTT1FlHhryKBEhI46cRT7NZbiiiMGjMGA3kDgtkaYbz6ymt2Tq/zcgmW4LESVZFARQKNKYFoTeLEE0+xW4oojFIszpHCiNc1SmVSiatIoCKBJiCBjMK4+eY+CVOEx78SrM6Wwhj26us+wkBh+MJIiQzmZZTPtyIh1JeXD7NYyJELwy7KUVWVbGDxYVjY0JKdv3kyVpSrot1xopWFeXyRXyZ/JVO+uXkKqQIrEpgTCURtkhFG/JWkXLJzXWFo0STLQN58KIvTkGfyoZP7KCcSRCkapKGzxw6+fHU4dGR16FmzyiQaE5M/UkQFo7Dw+SpFy1G4yt9x5oAF5VGBFQmkEojaU5NRGDDHt95vx3xnkyb+bDNmVNnMGbySU7bnmid9K5dLER6CgvCdbVIeIXzWzGpXQpAjHueKaVZN+qysSirAaCRBeuimo5JAE5l4mJQLn7T0HTxkUjIPMVKBFQmUK4GoDzYZhfH4409aq63b2Corr2bLLruCrbNOc7vqymvmmsL4adJk++D9j2zixJ8KxRQ6PYEFyqAQy5++/36c7b9/F9+t2q/vAA9j19tqq61p66+/gZ122hlOY/fd9rT119vAWrTY0Fq23NR22nFnu+CCi238+Ik5VKOgwMuXX4yyrbZsZes1b2G7dOpsv/wy0z7+6FPr1HFXa9lyE9thh/b25BNPW4cOnRyH3bOEb7NNO+vd+0L7/rtxEdGKtyKBOZRAU1MYn3/2pTf8m268xb4eNdrYr7HlFlvb0UcdO4clrU0+atRoO+igbtaxwy523bU32Ccff5ZMS2pR0jd3FJR6q6rMZs2qtocfetQWXHBhW375FW3kW+/4iOiB+x9y5QDEPf3UYN/+fuABB3nH5jMUnZky/fzzlJRmHU9UMWed1cuar7u+DXx0kHEGh52xKAm25rJbdtwP423oS6+4Ytmt8x726COPWb9+t9lOO+1s++67fzI6q5NBJaAigdmQQNQuG2+EEd6msE9HW3PNtf0QmorDNvJnBw/R4xxDhuk/fP+jPT7oSTvk4B7WuvU2duIJJ/uoA+JMAZgGaUqRzVBrGN+N/cHWXWc9O/DAg+zww4/0NEwJOuzcyeAZh2LpcehhdvllV6ZkUIJ/aPYnGzr0lTSslGfUV9+40nnzzbdTtOHD37SlllzGRo8em4Z17XqwnR3tniWf9dff0MZ++32KU/FUJDBHEmgSCiNaSGSEscgii9s+++znb9FPP/m8QVORggXCIpJJpxuh8Azxu3U92BZdZHE79pjjbfz4Sa40YlooEa0HSGEwXVhj9bXs9dfesJ3bd7RXX33NZvwyy3bcsb0NHz7C+Z4+fYZ1Pai7XXnF1Sk3jA6aNWtm77z9XhpWysN6DorttFPPcDTWM445+jjbb78DCpJ173aI9epVu91+8DPP+ciE04U4yjAv1oEKmKg8/L4l0FQURtyYhwx50fbacx8f2rMmwCnWF18YWl5F1JgP0QcMuN369u1v/foN8F/fPv2tf//b68zpUR6jRn1jTIFWXmlV69hxF/vqq2+SvMJiYraT8WUFN/qbb11hoDjYU08HRkGgPBgNUCaUCyMM6F5y8aXGdtqNW27q0MtcXqns/vse9LUQjhqzGNymdVsb8cZbBalZUyGcfFAuW23V2s7vfWGq6LLlKEhceahIoBwJNAmFETHx4Qcf2zdfj/E1BRbs3n33fTu4+6HWfqcO5RTHcaDBQuNaa65ja6+9rv/ws3AIPRydlSP2Z5x+lu20UwfPg7l/wUJo+FKR7di84XEojNVWW8M++/QL4y2+4w7t7frrbvS1kTdHjHQcFMZhPY+wzrvu7uslrGEwVfCvPo5R3t93343z6c8dt99lgwY9abvttkdtwiC/Aw/s6lMXRjO33NzH2H4/bdqMZFQBjhRgbcqKryKBhkkg6qvzZg0jNFQaq4bycKiNW3RG75AhvttB3Y0vCzEub9ettty67IIxamB94fuxP/j8nTk8yocfcT+Om2BHH3mMrbTiKt6Z33rzbZsxfWbCB7lEPMf8peGBkzGjx9rqq65hX3z+lYc88fhTtvhi/7GWG21iI1lvCGXq2eNwu5qvPMFBEz5SF+WX5hGHBcQzzzjbRycooGuvud5DXXYh/pDuh9p55/ROyeJBjilOUICmqUmcR8VfW+8FEpyPHhrSBsyMsyS33FR7vD237cY0gyhLb9yKEtTMqp1Dv/7q63bu2eeZsY9BDdjMjj/mBPtjsz/ZySecYm+89oYNGfy8bbvNdnZOtJhXpwqVB3RES2ExDAlHjxpj11x5rX328ed1SHkAPMXpsv6QatCjg+w/i/3Hzut1nr05PJkedOvSzZZeYmkbOeJtq5pRZXfdfpdtvskW1rlTZ+vfp3+CF9OLOYjDs34z+/Kzr2zB/1vIVlt5dXtP6x81ZtOnTLeBDw+0LTfbytrv0N5uuPYGe3fkuwnlWCaUS/IuJads3vPjc1wv84u/IfVs5n301oYoDOib1XPNQMxEKYURKuWh+x6yffbYx47seaTtu9e+duC+B9p1V11nk3+q5xMk+cSdI84366fTyOWlKdWZiCP9LLP77r7fDu9xhB1zxDH26IOPevhXn31lZ59xto0d/Z0/X9j7QjvuqOMc5/ijj7dnnhxcqNTEBzDLp8oEJHpmjd1w7Y121eVX29SfpzoPhE/8caL1Pud8z+PoI44xfkO15qPyCcZKIy+/SlhSD4nI55//cutdfaNJKIwas5nTZ9qUn6barF+qbOKPk2zypMlpR9JXijq1WG5hA16NpgNSHITHHUlCyaOrjseC5swaq5pR7RAFAt3qGdX2y9SwbgCjgXbVL2zDzFEKcWHy8lNYwGOUVof/oMDIy0dxZBXWWQryJP+4nKJdgWkbS5V2XC/zg7/cNqA23KgKQ41YTPMsxmJ/sYpTunIhNMElDznlJxqEy58D6ZDpFIt4nOjl4AeMBMTxBRH1PIhH0PBTDhyQ0VscH6JSBRHLMc6/4s+vZ8lvfoHltoOojbFs0HhTkpjhuHHH/mKVF6ct1x/TyqZRXDacZ3VUCU44SgNUWAwVH4fhnxMnWlmeYprgEK+f0lRgfj1JLrEM5we/yl0fVLtv1BGGmBCzsZKI/cTnOaVrCBSdbBqFA7NxPMNrlifCY5eXTvHZOIXPCRRNyTFLS/ENgaIl2JC0vwfcrAx/78/l1pnawzxVGBK2OpqZvfbya3bOWecmw3othopp4ekZiIuffw0/wtFvTvMLRSgbFMtPBOJ4VaLChDM7EBrIHze3yi6+fkswiGC+AeXWjdpa4yiMc5IFvMZUGOoUgrHg6Dj6xeGz429oyyuWh+goPo9v4cwurDEbM2qMjfvux6T8ymt+grMru99qunLrtkkrjLgzUBEUSrBUAZVOhSuFG8cpHWH4pSyADaUV08WPg0bshBPnqzDBYvlCRzj4Y7w4D/nBLdfVmJ1+yuk2oE9ybL+AtvIULMY74chNeOVC0uHmNt28/MknL5yw+c0Vk0M2nHoJ8pl3i54SvjpeOiXJjDCEB4Qp8GfHqbGqcCq0aOlZUOHkp0aeDYNWnhONLMzDLVYewrO8il4232I08vIjDDoxDI8lQbXZycefbDddf3OCVow3aBNXjCfxLh5KZhopCfCKyYRwRqTFnNIRXwyvWHgxmvNDuNpbfVBtodGnJFVm77/9vt1ywy12x4A77NWhr3o1jR412u6+/W67o/8d9tD9D9t3o7/z53639LPb+93u/ldeetV3O5JA+xByG1xc8bFg8sLjsFL+mI78Af+j9z6yW2/qY31u6mOvvJgcZWe3JmXp32eAvfDsCzbrl9B6lTYHsinsnjvvsR+/H++Uv/r8K+t7S1+7re9t9uzTz/nGrXvvutf63tLP+t/a3/N7+omn7ZsvwyG6UvwXiTv1xFPtputvSmLVSHJ4i5PPmDrDBj36uJcPfscF4z0vPT/U+tzcx27vf7t98uEnLou+N/e12/vf4eGPPPCIvTcy5+RuXn6EmdkXn3xhA/oO8B/yveeOe2wYZ2d+npayNPSFl13O7LBFXg/c84B9+O6HSbzKlGLP555iss6GR3Jr9BHGk4OetMUXXtxWXmEVu/mG5O321vC3bNcOu9oiCyziOxjfe/t9O3C/Lvb3v/zD2rZuZ/vttZ/tuO2OtvGGGxvp0ze13jRxgeM2USrczJ4c9JTTppGN/2FCnDLxKz0ClBCB5EucmT3zxDO21L+XsrVXX9sbLmEvPvei7bLzLvY/f/x/duapZ/pGtYL0oiX6NWaHHXKY/d/f/89267Sb033jtRG+C/YPzf5gvc7sZaO+GGWnnHiKrbT8Srbumuva/nvv77ibb7K5XXf19ck6EfSgXaZDYdx43Y0Jdg5PXkbxGGhO/WmqHdHjCPvLn/7idfbx+x97zFWXXWVrrram1+uzTz1rt/W73TZYbwNb4J8L2D577mt77baXbdpyU+t+UHcbi30P8VosXzN79aVXbc/d9rS//s9fbcftdrR999zX2rZua+3atLM3hr3h+d543U22UYuNbPmll7eD9j/I9uy8p23acjPr0b2HTZtcq1gC+/M3UF3WB1Un83SEISZ4meI3s9dfed3OPevcZNhIJwsd7aLzL7KtN9/aJkSddOBDA63Djh18azRpeUsvt9RyNuSZId4JaKgnHHOCtd++vU0YNyHJI09hiA+IBD6cGf4QBAfh2AVaZfbzhJ99Ds82dej+96L/2qgvvk7QSes7LjMbpgKNtMGb2cUXXGwH7HOAwaPy7Hdrf1tj1TVqd7GKV1WG+Azw+zHfW7vW7WyFZVYw3sy4Lz/90hZZcFEflSVMmXU9oKuddvJpvsuTkQsjkE023MR+ZPESl6Fb6hkFVJbCUJkDE5MnTbGNWrSs3dBj5tvYUQqMCuWuuPRKW2fNdWz65Om+q/ezjz6z9dZZ30chagul+IPOh+99ZIsttJgNH/aGt42fxv9kB+x7oB3R84i0Hq+6/CpXruDPmDbT2x2K6v67709YyZOJmJyfYJ4c8sLURn91hZE9fBYa3rix42yt1dayoc/X2r9g6EMDk2MFf6XlVvK3tcIevv9h23LTLY0pjDc0KSEVMC48iQiXw19kXksjY+pAh2Xkc1Hvi+yXqb8kKaEZFF2dxh3of/Duh9Zmqzb2+cef+xbyWdNn2d577GM3XHNDLY08HiN++VrBuZqbr7/Zy820DBkssuAiprc4xDj4ds6Z56SK6Z233rWWLVra119Gii6iW4fnKO6UE8pUGFEap2dml11yme21+15GWXHvv/OBbd9uexv/QzKlIuzKS6/0kVdcDztut5NdevGltXWRpa1np2r2+Sef278X+Xd68E90GWFx7gZ+rrv6Out2YLeQwuyXKb/Ysksta1f894okTDSzME0xn3iy5S/2rLbaqAoj7txmdniPw32VnqpiHtx+h52NYbi7arMxX4+xFZdd0efsH73/kQ/9N2u5mY8y1Ei98VI4FVAC4LnK/LzK2G/G+iExOiCHxfxT4thxiRLQWz+0F+bGnEpd4H8XsGOxLwq9IrQ9jnhLGijTpiuDiT5OsaJAfARFepx4i/0KwyDQ2HG2+667+7y964HdfCoz6vNRPn379MNPExpm1r1Ldzu026E28o2RPixn6L1H5z2SdR3yyvIb5ZHyEMLmRGEw+tli0y3s3beSE7OcnuWt78o1cHv1FVfbCsuuaG+9MdLeHvG2XXPlNT6denXosFplXoy/QAOFseiCi/r6Dnk9/fjTtvnGm9u1V16bYFSb3XTdTbZLh119RDbitRF2Ye+LfKSGIndXTx4hq98/KCaHbLjaUKMqDHWcUC3Mc7dvu70xxLz3rvt8ruqH0IivMRv91WivdKYKzO8P7d7DLrnwEvvh2x9qK5aCqnCZQvP2YcTSYt0W1nzt5rbeOuulv71339u+G/N92rgn/TjJHrj3ATtg3wOsc8fOdvH5F9unH31Wm088wiA/5Qkkbpb5Qm6rLVr5W+/aq661Y4+MDBpneMt2XJ6///YH233XPXyUgqLosFMHY6GQo/WxwujWpbuvFbDGg7I4+4xe9lFYR3C6QX55eRSEVZmhMOhs7lSmMnil/Cht1hQuD2/xffbcx+6/5/5aRWDmJ5D/8dd/WJf9utghXQ/xemQB10cGyE0uL88Q/9nHn7kC33nHDnZIt0Ps0O6H2i033mo/T5ycpK4yX7hdZcVVXR6HdDvUTjz2RHtpyEtJfB5thSn/+QWq3PVBtYVGVxgRowxdt2u7nT0x8Al/s7JwF7tvv/7W1zCeeOxJPy3KSVAaqX8hiREjmgUdotr8zcZXFr4qAPmx6s5ip6+0V5kvzrXeqrXR2Vk7GPP1twWN3mlGAkzzgAflbWYceWeaNfDhx6zL/gfZIxyFFw7p9VOaDGQNY49d97AvP/vSk1160aXWaeddbJklly2YkrBWwloOynX6lF/q8pqhm/IYh8PLLPNF1LK+ksRp8QfHoaQdtt3RPv7gE2u1ZSsfvXk5Q/w1V1xja662lk2eONmnCXxh8fWjrCxEMAcyzWMx/OUXX/E6gwanhdN8asxHGygs2keyXpJMk/zrFF7yy5YhKkdOtr/PoDwZ5IVJXk1JYXBsvNeZ59jGG2xsq620mvEZMXVV5kPdxRZezG1Q8DbxRqI3PYiq8LwCE0ah63F8Blxr9bX9c9zMaTNrsUkf51UbU9vw4rDg73lIT1tjlTVsh3Y7JIpHONDip4rI4fmLT7+0nbbbyV5+4WVv+N98NdpabrCx/eMv/7BPwpSEuTlfAY4/5nj7YewPiUyUh2AO7dzOUo3CKPOzakwzkutXn4/y9ROULXZAYkfnZa2Fdahvv/nWO7sri5gW/mIOi2UzqnwB81//+JdPSZnipZ/UQzoWmnv36u3KFpshU7CpEtMtJfdief9ew7OyL/asdtqUFAZ1wufUTTbaxE46/qSkikJFM1dlPr/2Gmtb21Zt3cAOC3/eWCiMClRGgSHsdiOyCqAm+UrCdKSO05eU+ugrPhBgARKeLzj3glpbFeTLW65Uw60xu/ryq61F8w1sm6238ZEQJPkCssoKq/jcHAVx8EEHW8sNWvocHqX02MOPJTnXJw/xmYGztYaBOcDwlQklft7Z59nqq6yRfuaEIZQv07ItN9vSmq/V3Dq275QsQJbLJ0SqzfefdNq5k4/ctt1mW1+/mfrztMQ2SahPFqhZ06AdMX09/9zzkwVr8gp0iraXgDLfgEz9575IwFE9NRmFocqsYhX8Czei45UGszS46bN81Z+5PEP0r7/42huhF0SFKbfwEgDplG/IxzMjjMYXGqALUbh5eQg/xknY9jcb+yVcCRFPetEGKiyHLl9J+KTL5+RJ45Pb2jDSw/qET8Vm1vgojHi+iCCbiePCzWrQEz8l8ihoIDSG4092616pHHL4KkgD7bg8ZsYn1k8++KRAtih2leebr75xXseHDWlOT/IC5uUZFCxTGaZ6jGRYZPVP3nH+1WY/jB3n6z7gsd6Rfl4WbcklL5+Yj/nBnyeDvDC1oSanMOJKgnEYzXMKzytcfWHQE22gnoPX81QjrI+W6AhfggUSJj5Fuxh+Nh/hB+gWvpin4/hyOLOm7kJhiEuQinS8bD7xc1AY12vtSGWJcbJ+lVPlj8usshNWn4OuXDYPxdWY75D1dQjRVpoYRnFu8Yw4wvLoZsNiOvODP1v+Ys+SX5NRGHGlwpwWpmhsFCLE+7oFfuJxxQpYKlzpyIefnoPXwxRXio7iwFWHwa9wQdHXs2gLKjyGSiM5iC7Df/YaEA4+jjie484a02qAn41bN99wSy3d+tKqDMCortJFSPEo3oKc0rULclIesV9hQJVdeQgmXBbKAfo45SuosJhunj9JPf/858kgL0x10GQURikm4zg1FhUgjivHr6ZQjE65DSvOS7TUKeK4cvziqZy8lQd5ZmWg9KJXTt4xTrXZ4CcH157vyNKPcbN+ySBOIz/8yB+nE79xmPwqQwyJE51seJZWHJ/1K488mMX9vT/nySAvLJL7vDtLooyjt2HuNQPCKxfGnabcNMKLGwBCkCDiePnLhdCAJ/FFOlw2fQguGp6XJkuj1LPoxzDGV3mzUPjgUgYgLk5bnz9PBkoTyNWhF4dneVJaYOwUHodl/dk0efGik4VZ3N/7c7b8xZ6pH+Ka5AhDlVSM+TkJF21gHp1i4Xm4ClNnUaMnXE44cRhx5YTH9GL8Yn7lGcMYV/SyMMLxqYLSR+EF/OaFl6ApcnVoKAJ62fQ8x/nEuISXcuXEx7Rjfym6v8e4uOyl/KqPX0Nh+KdPmOHw2auv+1brgrexGBVTeg5pPKHC4oalsPpgknXhP2lEq770efGk1ahCUHjKKc4jWzbhAJUuhuJNkLisK0Y/Dy+mXfHnyzxPxllZ/t6ey20Lar9NSmGI+VKVIpyGwDx6DUmfh4sApSgEhRfnp7AsrA8nji/lh259SiWbd+W5ojDUpsptC01CYfiGH3FeBFIgOmR9rlTB47R5eNDXOktevJRDjKMwKQughAqNYk7043iFxTCOj/3gkE+5LqZZ8RdXFJJNuXL9veCp3PVBte1GH2G4vYIZdsWlV9hJx53k9zZyLoLDXlyf+OP3iU0HNiWxY4/PfmwuOvO0M/0gGdum2VKeO6yXEOLKVVgMI2FMGDcxObsRKylwpRBEK04f+9E9v1QZ9hgoD7/TTjrNj8dzpoSt3M6r6ADj9JGfo+DsvOS0Je7dke/Z2aefbccdfZzdddtdviHpsosv84NVJx53omH85sLzLvSt85x0dYeSU/ki2sXynO/DE6nNP//ltgm1oaagMNg2/MC9D/pJ1e222c6uvuIa30q9w7Y7+GlDGjHH0C+9+DJb6F8L+8XNbDPm8866azU3Nhr5Vu9ihY+rvx4cjPNs22Zb7+Rs604dAssqkTxaQWFglm7jDTfxy5g5/XnOWee4gSCOomNro8Dl0anhxOXNfsHzFptuaTOmzbAvPv3CFenf/udvfnjupwk/+z2vGMvB+hTHu9mWzcE5Tme6ohDPRfKY7xVEVi4FFTMfPGTLX+y5SSgMvbVhxsxOPelUH0HgZ3PSsKHDbOUVVvZj7YSxHXz5ZZavvXDYzO0pcHs5Ni6KNn6nHv7yBMJbOHQs8kVRHHnYkbb0Esu4cZrUhkJMB38eLcKrEitPPQ7u6ce5PRl7HJ4abM2aNSs4Y+FxeXRqzG15dmzf0dZYdU0fXYHLDfQL/2vhgqP2Bx1wkI88nB8ze37w87ZB8w3cnobT569IHpXwjGxSgc0nnnLbRZNRGNq5aImJ+9NPOSOdo2OCba3V17Kvg1FblAIGdJ5/9vm0Nm+89kbbbOPNE4VBKB1fikjCIBx/UEyeWM95YQEfY77YbFh/nfWtx8E9DKM96pQpDeUh6BHJ5dLYprj8kstDiLk9hj82+6N/KUoDlS4HYg8D25cYuqXcGMzllOfiCy/uRnVFo+uBXX0EozJifHf9dVvUKgzkkUO/EpYjFwl1foHltosmoTBgglOgrEFYYosBw76cyLzuquts9112d0tSisca9nJLL+8jkX639vP5OicfMdgiHFcKgW7aIVT5NYlNTN70zzxZ+2N3IwZk3QQfo43Ioaww1rPEYkvY2WecXX/HCyMVbqPHChYGZe4YcKevabTfob0/Y7/BXT2VxWEtDABzuOyC8y5wi2QY8Vl0oUWTw12Bz4O7Hmw777Cz2yJlesZJ0BOOPcHScxQVhVF/vakuorqfL7wqd32wSSiMKvNGzclLHJfobLjehm4Mhg6CxavYHiQm9ZgmYP/h9JNPNxb8kqsGgq1NiFDwYgqjyvxNjAFZfhhh0W+bVtv4lEeNhBOm2OaAn/33OcCefOzJ9MRoOoopJuTqZITB0XPsQsDreb1628MPPOzWxDyPYmmjcE5dcqT/4w8+Nk52YkWdqxiYkqRm883cMjY2RE487iS3N8H1BBgzdjlE9FIFWgkrrkDUAOYXWG5baCoKIz55yBeQXmf0qltV4a2PxS1M6g8fNrwuThySFYLiqpPF05EjRto7b77jNiXffvNte+uNt9xuJoqA4+O9z+ntlr1QIpi1L3DQxnJ4sS8zIPPRZlaN9TzkMLv+mkKrYd5ps1OmLL/hGeMwWC9nhIHD+le7Ntvakv9e0j79qNamZ8+De/pXmJjP1KhMVnkWyauiTMLLJhbi/OAvtz00CYUBE/S/6bN8SrDbLru78VqMwGCGTY7PppPGT/Kh/V3c7TgAACAASURBVEL/t5BPRVjHiC+vEa7DrBAKIks/PPX4U8Yi4nOyMwl64NNT1tcBQarB0MuzbnG8+0EH2+CnnnUbDmmnlPCzfGaesUHJvR2cHsX2A9ajMJLzp2Z/cgXHlxMufmIUgzn/QY8MKhglOb8ZmikPlfD8UYYLbT76K7cdqM02hc+qWEw69aTTfMjNEBxz8dyg5W9x3sazzFiA5E3aqX0nN71/1OFHJfYi8+o2KwThEB6sQxW8gYlHIP51Y4b5GkNMgxEOzxJaHJf1gzaj2li83bXjrr5mgZFejPf6VCaLX+KZm72wfL33Hnv77V2wiSLaplVb+/7b732agmUy8kHZsl6CIeU6rkQeFQUS6lYyqiO833mAyl0fVNufpwpDstaiW95ZEuJCJyt4kxNIXFAYCVaJ//oKTDyFjn9xGoXnZUGceMEfpyvlFy2lUR6kiV0eDcWTBoUFxFWbTZ8WFk15Fi3uYcJMXh6tSlhFLnPaBtSGG11hJN2g7r8YVEF5VqcFKl4phTenUPRiKJrKU895kHSEZx1hcfo4Po9OjKv4OE0xfzZvpa3AitKYkzag9tgkFIYKAlP8pBDEpOKznUThDYVZOjyLRqk44ZSCSq9yZMui+Bjm0YvTiwZ4sWNAgXV9Pk3zE50MTlo2xedBpcmLq4TVto/ZkQWyVbpsm1Z4U4fiu0kojGxjFXOlhBhXQim8bFxD04m3ctMJj04ed/QsH/U9Z2UQ8xH7YzpxuPyK13N9UPgVWNvJ51QWyBwauDlpE3PKx5ykV3tskgpjTgpWX1oqrT6cOD6p5uQ/Di/Hj5Al6HLwszhx3vPaX8PVCzAQjfKy/FSeG9Z2kFfYmCjZ+kL+nLSJxqoD8dyoCgNtiwDkgoC9k8WdLfYXE5hwYpiHq7wElb/yzqYRHjAbl/dM/vXh1hcP3dlxxdLBU5bXIvQxye+bvhSfTTc7z/XVSSwz4WbzgZ9sWF658sKy6Uo9x+WeU1rKJ9DkHhnfd6Tw2YX0GxbC1X+KyUz0VQ7JUFDx5Yx6IhrzzqanhK+CZb+SEB6YLbAyLXwVCDrClaBCulRwFEhh8it9DMVTXpiEApQ/D080gIpXnvCAi3kJQaki5LlYOuEWgf45mLxiJ16BIa5G+WvkwLPyLAbN/OzLA/c8kFAvhlcsnLzJR5+hwVOY+AGKF/EbePZMFa+4OC/hAUVbRwuEJ9p6zoOSndqSnkWfNIoTH4LiL49uXph4DTuZ2U+T1oNo5qVTGLzF/sArIxVvC0TrygmVI4bkAc/AIq6sUU9UjkZVGG5DUswA419cQMLznCqQuJhOsYYjGlQC+EqfheCpogSVNoaKU/pifCqchoiL+QtBKYCmGmwamPGw2DmTuwNDOB0nmwY6cuJPUHwLBjyOxTf4blVoqnzQgWaQrW/7Jz6Tj9gqgFG6tF5COs7FeMNWghhXYcA4L+UZw8BXmkR81yS3s3EVY3qVRYpU64GHeu2vxPnhD447cP2SbMLEBzCLHz/H8WZ+vIBT3LErqTBADHnpbBHnph6+/+FU4ZTMX7yIj8aektDIOSfxykuv2Mg3Rqa7N7nZaugLQ+3VocN8k9KUn6Yap1cRFkZzhr08zN5/531Lb/qSYChgEFCuICTpGE+dqCrZdeqClaBiGKclHCc65KlflRlbzuGT3ZrwzE1g3Pkpxw1ebHHnLMxrL7+W/oY+P7TgJKrwHUIfpRCUDsaFhr863Le56zzOZx99Zi+/+LLvAPVzOK5YwtsoKmcd2YSMChRGXPZ6/OxC9XK8kpTlzdffNC6TxpiQd+JZZtwNS3lfePYFG/rCyy6fV158xdP98O0PCQfF8iG2mlvxPnd5fvHJFy57ZIp82cLPdZpc+FSnbBmaXFj9xmtveNuijVFHnAR2Y03I2MxP+sIb/PJ747URvts2PTious7Qzs07IWkoDL8RjjQ46gM6pWgon5CEu3bP63Veki6EAX4a/5NxShleh738WiLbl161VK4RLoc1sTXjxpwIL5W/4sRnoyoMmDDzytqlwy5+foPzErj+fQb4lud11ljHXhzykn364ae231772dL/WdrvVuWMBSc0O+zUofZsiYQrqMIKOuXwRxh4qrTAC3lh8Quhe1ycBj94epPjz9IBp8bsuKOOs1VXXNVPm+65255+P+oRPY5Ir+179KFHbd0117W9dt/L2rZua6utvLqXj9vrO3fsXHeuG/MRFAadbvu229uySy5rd952l/N17VXXuaEeDs2hVN2pnHFZJRPBQH92FQZnczZruZltuP6GvlOX+0+3b7e9cbm1v7Fnmcu1zdZtbO/d97b1113f8Q/c90DbfJMt/MSxyxI+4FeyFX812BiZYddcea2tvvLqfmH36K9Gu60UDvk1X3s9O2DfA5IrKaM0eZ2BszmYK1h9ldX9/lV2yXIyGiNEHDLEYay6w44d/OJodtrutfveXp4D9zvQuOoxbTf15JWWycwVBvcBe9lUzvrSq+7A46DhAQfV2liJ0qI0999nf+8PSyy+hCF/ZEs5Yh6gcfftd7uspk+ZXtt+I1p5Mkvro1EVBg04ODTjAv9cwJUEp1Jh8N677vMzEo7id65+7grj6cef9uE4IxNOrlLZUyZNKdrQCgSgDBEQ+dP5QmUQxaIfJvWar93c85Z5PE+mNFXJ9m9PTxiVKjr4Q4Pj3AemBadNnu5GedDqHFfH9b2ln+2y8y7OA+XE0hijBN5qpJs8aXLCF/Qj/sjHh+ZBadx39/2GBS7MAvBGh5e7br/bLyl2vsgs4tvDRDOGzpW5pa50ShLH1+c3s7NOO8sNDlEXnP259857/dJk365eY9Zlvy5ep4zgMBnApcnwc+nFlyaGk6TQBOM8EfOMah+l8aJYcvEl7azTz0pkb2bdDuxmmDwoWr6YVjgciOEl3tZYQGOkcu5Z51qrLVvZTxOSe2wZ9bZs0dLGfTfOb43nnlYUHcaVUpehW9DWFBeQfUry3kcpz7m4ShND2lRoV1idG/jQwIRihKM2wYhz0QUXtZEj3vb2xJ3E7mizfAWrMhsyeIjL3kd/REIH+hG9On7FN6rCCEKAZzomlcPbB7uUuIEPD3St7A9mhj2MlZZbyTCjJ4edzE032tSHu3UKmRVAlJ/SF0Dwg+Mi3+OPOd5WXmEV19QMXVnhVsWkbxho0sD5SfBVyahpp+138umUaDKl+vMf/uxD8JtvuNm67H+QRz10/0NuFpCH99/5wBWJD49j/kVEkPzCnBYTfZj+u/G6Gz0Mepy7KXDiURUf047KnTvCgFAWP/ts5h2OfH1KF9opdjno4DRcOjW2R3DHHHGMXXbJZe5HFtgudaUrxSv6jhH+qpO7VVGOF/a+0HbcbiefjhF7SLdDbUDfAfXzGZV16y22dhMJyoJp1GYbb+bTHso74vURtlGLlgVTSc48bbHJFrW2RsRnKRgySBWGeCiVJi+OavA1FOaZmToJebw78l1bbOHFjamp46jNB3wf7emFRxjy5pell81f8fNUYShTNQJ9JTn7vKSDwURwKIytNtvKzctRacwpBz06qFZh1JgPP5ddalm77677/OAZawAYpTm46yE2bfK00o0l5IP9UN6AfDrklnH8vFGY1yK47IIXq9oMXzGgg2HitOPAe/yTwqDMZn5knulCbDpwyk9T7J9//z+7c8CdxtD0hededNwH73vQtt1mW/fDF2+QOusoxEJbHd+xzQ0lb7P1Nn66Fkh+HHTjDe744JEm5lX1EsNAb04URu9zzndFxcKh8qasKyyzgo+yhgx+Pj0weOxRx7qNVrL94N0PfB0BHtOvQDFv8ocOg6LgcCI2TOEXd0i3Q6x/n/619aM0eTCUtc1WbeyMU89wnrA5cvzRx/tQXutitEksl2F7hJcV/Ldo3sLTBBINyg+F8SEjjDyeygmjDoVHn4rbHOFheo+Nl/S0N2lwSqf2o69LcdsQTh5U3o2hMM4tojCYA9NhMGTbYaeOrhgOCm9hykxnYL7OG5XOyHyfU6uMBgqEEoSXBEb/s8znfyikLTbdwrbcbEv/4ScfnwpF6J98+KmddnLyRsGq1VtvjExiEZ4ELeHGlWfmC7jt2rSzsaPHJp3VsLXxiy3wvwsYBoLdhcpkRMA0JHWERxWUhuPJlA3L6pQDRcjaCyM0wnoe0jPBFa/isxgMmdRRGAWZl35gSM8II/5aQ1kZFcKf846cLJn6XHHplckDPAVZpIotj8+gMNpv397uvuMenyqw7sDLhWmCT0lIJ5dHQ/E15kp6lRVWMejxo44ZZXjdBqW/3NLLuZmCZL2so5179rmGZXl30FI9FctL+YU1jA/f+7A2bak0eXHITu2OfJU3g4Rf0CBm77z1ji2y4KK1C+cxHRDidEofh8X4sV+4TUZhvD7CMFjDG5+5FsqDxSYWbuRk0/OxRwb5Apg3whCZfp4Vcg4EhwUf7GRyFJxFVP2w9oXBGtyYUWN8yLzIgosYi7EfvPNBQi0Ils+ZvlouIQKlMEK+NOLt2m5fMCXBcM/f/9/ffUriaKQLUy8aZIFTZRUE1n1gz8TmG2/u+bOms9S/l3JL64f3OKL2rSI+RTMPBtIFCiPwVzfX/JBahcHmjwTnzFPPdJME6RsuhJMP1yi4Ez88yJ8Hg8Jgqnf3HXd7UgwUtd6ytWFCIFXECdXStKrNWm3Z2nr36m1Tf56afp3zpEGpvTX8LTemTHuoY3slj79iYYGfZIQRFEY5dZJHTwojjgtyIZv3334/mZLInkwoi7MQp2moX/w2usIIDei5Z4b4WoR/LjMzFjYXX2Rxt09JYVkQ5FMli10M2alk3mTpEDZUSkkQ8nIcCT6TgM+aGKThTckCUoFDyDilhZ5+cZiZf9Zs26qt2/H48fvx/kl4j1338LdYOkqoMn9L9r+1vzEa4S6R9NNrTE/5kjf5ERcc9k/5IsLCHO7eu+51m58sMKrTOqyvgQR6c6IwMBHIlwp2NGKPlEXPTTbaxIfyTr7afOqILY9Dux9qvc7s5YvMBdculOLTzPgcjVyvu/o6bxPIi2cUpSuMWFbFaFWZv5gYmTHanfTjpOTzb5AB8mJBkLUyZPvtN2Pt54lzYPIw0J0rCkPtLS4bCmNWTfJpdchL9p9F/2OvvfJaMtWePD1pB+DTbuJ0DfGTL/iNrjDMfEWdNz6fg7Bb+cmHnzhzLOR17tTZmURz8rmRFWAWnbrs36V2YScpR8P+KbyEDwyOqwz8PhKFCUq4cRoqIPuD7Mwa4xMqjXiHbXf04W671u38UiONYshu0viffLSz8YYb+/0jfMa7sPdFhcN38lPeocLEK9MdFgAXW3gxNyr08QefeBSKyRVGMkotTB/Tiv2B6OwqDIbya662pq220mq+rsQ6A1+FUIau1KFfY/bIg4/4dJJPztwpw6dX1gYKXA5fHl9tblVs+aWX97UE1kxY62GPxIrLrejrGuUoR15KfJ6kY623znr++ZRF7dixvsQI5D+LLWE777izKzi3Xq/1uJjH+vyB8FxRGHFeEcPsgeGrG5+tF/zngg555qtb6rJtKaZVn19pm4LCQDuyIYf5HfstfAHSzL4b850bwKXAzNFY+WWxkN+Xn31Z90KgVDJlehASTlc26lnCC9EpUHgWIkwUB9CSHYPYH2Wx7O0Rb/tmHdZHfDEQBPBCGu48odxs6OEag+/4NAotOfDi/KJw3oIsyjJlQn6SG294t/lJOpzSx36FCSfBLPysGsoTooqDmuTNj1U0ygAc9cXXhWdSSF1lNvHHSf4liDJTj++9/V7yCTmmnuUt4pE3Pel4gbARzHe7mvkOylgZO7mYTuRHydCWkD38omjTTUxBybIgjoV28Ngg6HZVqRctjEf0UvkWCwtlm5cKY/rk6S4XdpIiH+RL+dhQlzr4L8ZjfeFqh42qMNTJYDbPqcEC418e7uyE5QlJQoVeJCQnH+PH/MR+cKCRdaIFrM/F8hBt5c1zHv2YZql40Ymh0laZf0rmpjZ3ypuHmCfh58EYDz+8QAe/RjyCwgVHfuXFs8JITxp++GMXdrLGQe5X+mIwk0Cfy6WA0ryFJzrwKn4VVh+ERo35xiq/24ZnlaW+tKXixVspqK8h4DSU7zhv1WGjKwwxRYHwq0HIL0g4P1VYjBfTKCW8bJzSAeXiMOVJXByOP8uL4gmXXzSLQdEB4pQuhipvNkz45KfGl+WX5zyn/LJxVWbHHX28XX/NDUkM6ctpZMpX+EDxqzCeocUzTvHAGD8Oxy9cyUFQaRSvdNln0XBC4U+4gooTbdFQeAzjfIUnOqWgmS/i+1kS0qnOSqWpLy7mKw8XXrXRDz/ly8MrJywq97w7fCZGEA7+sA8j77OqRwofSOHEpMJVaFVsNj7JYs7/lR+wmCOO/LM8lJO2FM2Yblxe0SWt/MKN5UEa4cgfglQHzrPCMpAt+Sw4uytVtpiHPD4UrzLoGYiLn0v5s7iiJ96y8XnPhMUum1+xuDi8mD9Lq9izmV8ezlTVHfzjiuGXEx5I1KGjcGhIXnn9qZw8hBPJu/EVhpiKIQyKSYUrLIaKA84tVw7NGKeYv6H8ZOnE5YSW4ql8+cFRY8BPuHCz6XnGgS8lLnzCiSdcTvg8gyd6POPP8qF4YJa/7HOMo7g8qLwVl5eH4oAxfnisA2J8pRFSHKewUjDGr88vOsLjWf7ZgaKXpaNw0aSe1EYU1lCo+mr0KUncAEoVSoUuVVAJqhxYik6xuGJ0s/jCy4YXexa+YB4ecYTHMlKYKlPpFB4/ExauWHAakmecVnWhdECcnhWvMGgoLobgib6g0oY5tX85EX3R4xm8mFbsj/GUNo5viB9aea4hNBqCS7nkSCfXEBpZXNGIYZZ2XBelZJulnX1W2kZXGGpQgmIsy7Dis+Hxcyy4Yv4Yvxx/zE+5NIUX0ycsfo79wheM4/Dj4COPF+KLhcd0wsG6O/rf4ZvevEMzmkCupJd8Y1rKW3SIE678iouhcERTeYhenDYUL5UNcVlaCgM3jss+x3GxX/mJjuKUdwwVNy9gnI/8c5KPaJSCxcre0Hwlu0ZVGGJCDTduWHGBJBDi4/A8v3CLwbw05C/BZuPFI+HFXDaN8NjwOKO69lwI4aKjNMpXUOExJNnMGv8s66v5oi96wq0nnC307Ijkk6G+CqTyVOeOywtdnOgDwyKap4/DZdlLYapTlQv6eQ58nNIBSSPHM2lVR8LDzMaMKt+w5KgK50F+QZUNqDBgnovj57Z/bueXRy8bNrfKoHbxayiMePjJ+Xw3AELlqTHNMuM7Mt/CMZTDIa30EJgKbOwSnO5x4HLYjF1+HBzjpnR3EW5Bw1B4MaiGlNdQs2HFaBQJp0wcvtJWZm/8caUqnRq1noFRJWHzgV8ducT4xfwhPxRG94O6JxdCkx+dsFiavHA2m/04yTcFDX5qcMKf6hF8LqGeNjM915AWM+xz4QrMI3se6Wc/0jg8pJWjzFI24oEwyUJhNWaMltjslso0phPhNaiMlXT5bULyb1SFERob5zJOPv5kPym45257uR2KIw87yh5+4JF01yMbaDggtgf2L3bd3XeEYnyGXY3sTkw37UAT19CKD8nI58UhLybDdtEJcbNDk2PdKIz7ZScT/sSb6AoSntc5zOywQw+zQ7oeknQOpW8gZBcrCoNO7zzEvJRDy5It1ZyK9d2Z8AoNybzK/ATp88++oBIlENpVZmy7Z5fm7f3C4TthES8nmnEYcVn+zPzUL1dJpi5Ok8WvPNeVYUNk0pQUBo0Jk2lL/Wcpt2nw3DPP2cUXXOIWqa676jpvD7zR2G6MyT4/P7H+hvbUoKf8CDx2Ddz0Ge2K6wJVuHIFEm3+wVzbBs038LtKn8/bstwQ2nA+y9ymwhMDn0jaNZ1LNIBV5sqObceckyAuHe4Tzy8YpznpuJOSh3LLlcFLFcb4xEBMykcGr07nVDzs/lLlRoBe55xN4D9VGGZ+Y/2dt92Z8Bn/c2/t1Bl+svaOAXf4dnGMFcm0oKOGsuLnsBcWtTA9l7pIHoSxzZxRl/NLAHwKiucKnDNFIfkh+yDfef5ZteiUJHo78dbjHAIGQOTuv/t+W2fNdX2q8sRjT6YnV9/lJOg227ktUA6hcU6D7bveVrAqpMKpsIIgRI1S+dCpY1uQjFbOOfMcNwXHWQ0sRnm8Giz04D2mK2IKA+LCTe7ffvNtgi+FYeaHmjiiv/QSS9vyyyzvIxEZmHHays/MtylzdFk007zj/OrxS2GknbCYnIrRSXJ3+5l+FUGEx1bkM045w5Utl0Of16u3nX3G2ckl1CEfpmdbbLqlHd7jcK+zxRZazM8FjR41OlBO1iVuuPYGwzQjR89XX2UNN67DdNQdtIJjGz1GidI6jfiZHflU0kRtOitLtZVGn5IwX8WI6YSf6iiMsaO/89OCTBEwEHz5JZc7LofDXGH8MMFtTJx64qmmU64FHTkudFTgJMecf/Aj98PYcXb1Fdf44SMO8jw5KLH3WNCZs3TjPDEFFy4H8pFPpCDJZszXY+y/F/7XjQax/x87IJxaxbyd5yH8DF+z27DnWGHABzzhpPhCeVHiWCjjQBk2KlC43CyP+UG9MFhr2mrzrWy9tdfzQ2SYZeQ06NFHHJOU18xtgGKf5PGBTxind19/5XU/rHZEzyNCxgFEiqPOWozqJFMXsyu3SrpoVNwkFEaV+UGl7AgDM3Vbbrql27Cg0nzIbuYHuuhYHLJKw2kkaii0KfnVaBjqzzLDxDom4bBbiUm7G69NfqyX+FvM7T3Wtk0sUbNWgiGV66++vjYCn2jHoQoDhjyJTq8EUIerMV+0ve7q631dgWPhrNGsv876hcpPHVPlUV5xPmX651hhKO9Y1lHeHIbrekBXu/XGWxNMeA/lRfYojE1bbmbXXHGNKLmJPIwhsdbD9ASbmZ3adzKmLXfddpevU0Dzn3/7px+ZTxNCl7zjg4PiRbLScwXWttXZlYVk2qgKAyaCY37L8WhsWsphndmtX+sehjAaodNjAyFrIcsbkBKrgAhIbpbZsUcdZ82a/cGaNWtW8FtnzXVqrUGb+Ym/vXbbyw0T9+jew0Z9MapWCYleuRAe1PFDhbEWwILdysuvbLf1u91NxGNyjuPWGA52F1eu0sd5xvFl+GdbYWTzzssrfCHpemBXP9LubEb1S/mx+o1pAszryaGwmZZRdxz3x3zBRutv5EfkMb+IJTKMC2EQKDaYpPQuVykPAsVb7FdYBdbKp6GyUH9qdIUB4xhGmTTZ1lx1TTcxxjNvHOayKAaZH0swEzNkNCQM0/Dm8mF/ttGogIG+p60xmzBugts7ZJEUu4f8OArOAhtDW46LH37o4b44d/ThRxcoMOUvWgXPeQ9xpcCPeAoKic7BIqsc93Vw9YBPr4QrGjxTRpVT4Q2Ac0VhFMuPQlSbHdrtULcCrjIx1dTdGChJpiQD+t6maLv2qmt9ysEaEfWIJW8sd/k0I2DRNjB7kMoPHmJ5SFbgi7/Yr7AKrJVPQ2URybjxFj1hAleVzF2xd3nCsSf6vJ43FSb7Hn/08QSHN9CPk+yWG2/1Oe8Ky65oZ552lg9dfY4cFcgbjZ4RDE4CCo/e4OSPIPeS/PeiS5NF1DCi8WjS01kb4pRnDmR+jrVzht/XXHmNnXjciW45nHtXML9f8DZV+rmlMCb8nMgjlpHyyIPkq7rKiycuyIZ7UVpv1dr63NTHLjjvAt8n0euMXp7++Wef9wVeroXA1gkHsdhHgZ1WGUSmvpELVxZgt/Oqy66y3XbZzW2VumUu8pccBMUTdZPnV1gF1sqnobJQW2nUEQYVXpOYQ6OTMPTH/PwxRx7j9h7dgpQaanWiMHqdeY4de+SxbtHqqMOO8nUFX1CMBaAGDFRBiY8bFHkrTuGwgxl3bs/KpuWZNHPDBdrs+cDaNVbGzj/3Ar9XhEVQFj/dVF9cprng9xFGl+6JYRuVvRy6khVlz8OXbGqSzXW33HCL20pl3wiWvLE1ijwfH/i4X/DEJU/ULbYhsG5+3NHHGXZapQi4wQvjzjvv2MG4OAjl8/WXXycjSfJCkfPL46USNm/kovbSqAoDJspxYrZUh40bCvjgqqHHcfKDox88EC4Xpxe+oHDmBEK/HAee8p0LsEBhIJtyaWblVCpdsXKVU2bRLUZD9Sl+hF+B5dfl7MpKbbFRFUbo1P5G540RnlMIk4TFU4O4MVF4NR4VSGGiFYdLWNAQHvF6Dl6nqfRKA5ybTnxDUzzqdqq8vGI+ZsdvyfoMG518D0Vc7jx6cVljXvNw4zCVJU4vf5xnLF/8sYvzi8Pxi36cZ8X/+1IY6fAxe5ERDYUGIJiteMVp+EmDAUeNBigc0VCYIPhyMX2lAyocPNGHHj/FActxMX4xP3SIy+ZNfiprzH+WTsxHsbg4HFpmfn8LXxtcYRAQ48R+xQkqjmecnotBcCS7JEXyD77KlQeztPNwGhpWjMdKeP31GMsIufP8a4ww0k6QZ3ErMJGwkmmMahxqfOASxnOpnwqnAqfEI/pKn8XN5iEawHJcjF/KT75yoi2eBIulVzpgjJMXTj4oIX7VyTZ0VXxBWtERDT3HsFRcjCe/8AUJhx/KJ7kTp3D5iRcN4cdhkk99UHmIVgXWyrWhspAsG11hqDEJ1leQuAEVazAqnGiJthok4UqbxSUuzkM0gFlXLCxOk/VDQ2Gip2dgsbxjnDgd+DhB/Hm4WZwsntIQnueIlxNuMQgecTFPcRiyJ040Y1z5gfLn4ar+gMIVvuKULo7/Lfslw1h+Kg9lnZflFe1GVxgqMFAuDsv6JZj6YJxOdIEKV3o9A8uJD2gFjTkSZko/pluuX3TyeMujQcNh5IAjjWCcXjRDdAqy9BSBnYlfIBzJSrjC0XMxGNL62lQWJ+aNuICb8k9YFicuA/HZcsd5KK3SxHG/Bz/yomxSGipv/Dwvyil5NqrCKFVI4hQvAahxB/5K3QAAIABJREFU6blc6K0y/BVLUwwnDheJmTXJKUv4y7pi9OsLVyOoDy+OV2OJedD0Q3hZGRKuyhdOBNkTct/d9ycUs3jKJ8JPFaTiBMFB53CWRjwUo+eICb7/Cz8vH4UJnecsXeH83qDKDMwzt4jc+M2LckvGTUJhZAsYCyb2Cw/mVQCFlYKiUQ4OuDGe0sYwOlTGztD0MmhwyuELHJzyUXlmp7IDKU6CcuSc07upE33B+joijeH4k/2sjdPIlkWERS+GURxb9rmqj7MlqbKIceVXGiBhOMkim7fCw5ckFm6xHFb2NYvQb4h8lZ94nR1IeYqlKxUXpxEekAub3vvI7/7NLQvla0gZ43zq86s+GlVhwIQldhI++zi5ZUoXyXBXKJt7uDbxZ+xEUKCwcOdCUeNXxWZhLIAkm9pGybPiFReHKQ5YzIWKOerwo+34o4+vxRIfpBWPokNc9tNpjKe0okYcYUpPOP44PNBkE9Taq69tbC93J7wYin4cFvurg8K4/uaEhvIWThJay4PCBcE3sxuvu8nvd2VLd8ovOOEwHrfBoeAKXIj3Oo4bfeAhHamYGbtxO7bv5LtkzzztzNpOQjp+uNgfgtz2BvnIKU9BlRdIWxMfMb7oxnHgKy24oocfPOJwguIhmyZOB77au/DN3LgUm/vSPKCR/YE/t38Rr/N8a7gXPBQaE33pvSQI08xefvFlvyuTY8/aCs7N3n5X58qr+xZh8HxHp4bcqtC4AuVX4SS0JBvjuHyfm/u6bYkQVAuEm4W1GAU+tqNz/oE3MtuY3cFT7EL50iBowxvDSdnt4Dl2yj8Oy/rBiWnPMj9/wkG91J4IODjRKwf624MRxi1J2iJyLEoz8DSg7wD796L/zl0L+X7M99Z87fX8esckk/APf0E2accSAnGqW4wZfz/eRzAXnHuB75It6DBxGvkDZG3Gr6uEXp5TeRWXfVY4MKYR1wVxpNNPz0orXOJjl332U9P8BVohvy77H2RXXX510hegRTrJBj948+In2k1hhEEBhw0dZn/581/9bAHnKDgKzfHm3XfdIxZrIoysgCiMfhJiLLRAgUNQ3G/Jpc+cWk0PeRFPujiN/IW5FzyhwND2nLiUY6GPEREdY8K4iW6/EoM8UyZNMY7Kc/jN8yG/WeY2TLEl8ebwt4zLlWMeGHIzvOfNyDka7ID4Nmsyo7w4+LTkc2nb1m2T4WoU7pEqSynoiGYnnzCbUxJoB56w3bnJhpskRocyvFDGRRZYxN4c/mbIMQIqU5UZu1K5YPiLT79M3rQx2swE8clBTxnnUlT3yN4NHSFbMxv/wwQ3hYAS/YnzMxnHKOfjDz62d958x8+1YPXMt+SDF3hxnPc/tpEj3vYb3DGx4CMV8Rou1eaOWKYLaXpIzKg2bqrnAB4O6OYRSRvXhR+2nOkH7N5+823npYDVKC+MEtEv3MU05rVfPDcJhWFmI14b4bYQOuzUwW7vf4fL49GHHvUO7g8wzBtcDZNnFYIwOYXpGag1B7dsXW2vvfK6cQ4FOwxMJzj4NHHcxLTzeVJVQEwn6w8Ne8yoMQUxt9x4i1vr4ig3Haf52s3drB2HqrAg9s2X3zg+Fyhv06qtW6HiENa6a61rN19/c2ro96H7HvLTqxyzx4DP1ptvbRtvsLEbE3ICKjdHy6fPdFsfrviQgZzKUR8M+IyYUgUoWSptfTRDvnQMRpLuQlpeAg/c84DfKv/Pv//Tj/b3OLin2yl98bkXU9mj1E86/mQ3JLT37nv70fcD9+tiTFnTegwjuUGPDnK5SmHoTcu0lvMn3B6P3GhTmHekPUkRcFF2x506WueOnW2/vfczzDyutPxKbszI+a4yn96RruUGG/uBuE022tRxGEHhWKO5+PyLDUXNIULqkNvoH77/YT9hzSnorTbbyvPHSBCW4bA4ts+e+9bWoZkNfeFlV3ztt29ve3be09ps1cbpYqYwLZvnaIZSw7ShO9XLrwHVFpqKwsCmZ5uttzHM8mE0Z9x3P/qBpAP3PbBWOEFoBdpZwlJcMQhe3JFmYfbuU7vysit97r/f3vsnR9yLpc8Lj+kRH/Kg89IQsUDFoihTq+5duvsbaLGFF7P77r7PqTGC4AQnR+1HjxrjjbzVFq2S4+DBYBDKAqO74HC6E3nQkbwsKjt86Cc+FCeYx382rIYRxil2/TXBUBA0lR4oF4fJT1wWR/jhUy1vaUwW/Ot//2WXXHCJPfzAw65EfBQRcJneddq5U3L7fJX5qIuTy3RIpnE+lQu4gx4Z5HJOeQwji+eefs4233hze+bJwd5xp0+ZbtiGxQAxozlc73N62wbrbZCM2KrM18q6HdjNLXwRP/absW7i4LSTT/c65DZ6lPmfm/3Zrrr8KqeBEaal/r2UWw/jVnpGfxhl2qhFy3RqePUVV9siCy5i559zvo82WQzed699beMNN/GOj+nGVVdazU/2+ktrltkrL77iiiW1G6J6IFfJWHL/tWDEQ+OtYcBEcCgMtDGC57xDty7dbODDA92Ck3Dqg3SoU048xU445gQ7+oij/cdIgguG3d4FBKI86YSckF10oUX9BGzBGYv6MqsnHitRNBYcC3SyMoWBYaxs4ZieHNHjCB9FrL7y6rbh+hv5KAMlg2POfXDXg+0GXY5cZXbT9Tc7vr9NHSkz0irWoJxiPX/V5mb10vzUSNQolVzPMVQcUOEK4zmMChiN/WfR/9iI10d4bGorNSx+r77K6v6WPvuMXsbJZGxjdGzf0f7Q7I9uA1UkgUx9sB+q/HyNyzCSdKytuuKqbmNUdDgBDQ2O3+MwIPzHZn+ynbbfyU449gQ/Rp/aTDVzA9N0ap8mRpkySmHq4bY9NtvKjjny2NrYmsRIEAZ/rr48qfu+t/RzI0C1SNT7RJ8WM6XCshjGnLC9grI86/Sz7PSTT7c1Vl3TDjrgoCSZ5NmYUG2hyYwwhiUKgzkeRmFXW3l178SsObhDWFFnjytAfoaZGI9da7W1DAta/NZafS1rvlZze//txEgwwzyGy1QQi4QMi0k311zgEYWHPVAcQ2IMxdCwURh8RYAPjMl02nkXe+6ZIf5FiDcKC4JMVXAMeXsc3MP63drfn/nD/N3aa6xdO8LgrUqeqlDkhMs2rhBcEsyJwlC+2bx5Fm9M4b78xhdE33rjrVpWQlrWC1AmO2y7oyt9potYSsc26BWXXmG/TJ3htHxDWFAYnTt1TulIYaCs6XCkZ00GWyNMtbDLodvTocGUj+P1dHBGdquutKo9eO+DTo9rIXiBYbfEHTyGuuWZ+mO6yQjEXRjdEI65AkZQOBaQ99ljnwQn/LMGAn/UNyOSPzX7k7dHbNNS3lNPOtV6ndnLhgwektSj5Jet01/zWTw0qsJQYzez4a8O92GYLFr3u6WfLb3EMm48xeWMcEKlpNKXwEIAWp+pDAuF2PvEiC9DSyqd1XHisLeBSbhzzz7XWKiqQzMlHjzKoyHQzKcgDL/puNh10HUJ2OxkKMsQd/GFF3eL5OTEUBs7EjSkLz79wjOnPIyAUhuZZtb35r6uANOhORWJXCTLmE+VJQ6rx0+Dna0RRjG6XjgxYj5sX+j/FkoNKv8y9Rcb8fqbyV6WKrPOnXZzc3zpZ9fqRMlgSwMzjt5pKWuN2WOPPJasYdSSdx/yorN/+VkyUiOQ0SNTFI00b7ruJut9zvnpl5zqmTX+yRLlQh6smWAqECPGUni0pd69eidrRWbesRnJsEArx2ftFs1bpGsh/W/t71Ohpx5/2siDcjHlW/LfS/qCLAu7f/t/fzOs4suhzN4a/lbtl6Risv01w5uEwoAJVo/H/2R77ran/e1//ubzc974NI62rdsl9h5BAjf72VICI04FCjQTyoX/2IzEOIsvGoUFVO940CnmlEe50MzuvfNeW3LxJW2zjTf3joBtytZbtvYvGKzP4GffBAtqq6y4ipu1a7Vla7e4xefI/fc5wG+CY8iNNSrm2qyef/X5V9Z6qzb2x2Z/9EaXDudjhSE5xGUql/dq80uhZnvRs8x8Dtj3QF/gPrR7D1+fWXO1tezRBx/1GqCjbNRiI2MB8PRTTnfDyEzXuLwK5YJjDWHXjp3doPAiCy7qHZ0LrfzuFwxKT5xs++61n23aclM789Qz3ULbhutv6IvPw4cNdxpMBZkKUDcoARTzGqusYQ/d/7C3M14wTCNXWXFV43ItRqKM/lgAxfARjjUHFjkxXMy8nlHryiusYowUfBRUbTagzwAfyaLAWMzECPISiy2RvkBot6ynYJ4SY0pMR1hEXWPVNazfrf08nzqjxTLlPFfTqV01hREGwzgscl9y4SU+l9RbgC8nDBvdqVMkT3UFGd7SaScSHgXlR/qskxDiCsjixHFl+oc8M8RXuZkvs06BkmLBjE9yLzz3gjcW9hKguLCuhQ3ROwbc6Tw+eN9DyYiimsudRvjVClzq9MmHn/oc/vprbvAOM/ipZ5MywRNlUznjMqksZfINDW6RY5jsLqYFDbly6eXhQaPa3FAwlreu+O8V6eiCERUO48+EswhJh2cRM31ZVJsNfPgx72QX9r7ILr3oUr/0iisoMA7tnYT1kGkzjVEqVr+O6Hmkf4r00WsoBze3scZ02cWXWc+De/rIc+gLQ5MSUm5clRlXIfAJHgXDjW2pfVnh1Jjdc8c9PnXktr5nnnimtj5qWHO6yZUR7RI8Rj9cKeFONMzs2aef87UU1qwwBp1emwFinhx/7TC1hUZVGJHAEglG/6FiPQQ/uFn8WGhKqoLFcfhjhaE4peG5WDrhlgNFQ3R/DUieyjfLo/LPhhd7ntcKQ3yKrwz0Xb714EghZJLO/UfaS9xmlINkVx+fIe0N195o++65rxu1LrDTCj1woFPMKa+mAKPyNomvJKkWhTH9EBQuFlgIqhMuHBVMz4J54fXRUtpyofhWY2Paw0/PaiDiRflDH6d85AcvTpv1K170lF4woVpLV+HFIArjuHk4wsjyybN+JXiqg6M0sTwVFtNRmKDi9JwHhSMY4yhMcs2Dwqkxt0i/WcvN3PAxUxds0fqnU6UT/6SJ85E/opW2jcYKgyfybvQRRiyAWIAKh0P5A8MJ25nwGKdcf0poLtAiz7iis3xnecrGk3ZWuPAIv1w2XUOeZ4MGXyTm9RpGQX02pDwxbl5biePnpV9yLQbJe1ZiEJnduZydYf8FVyW4hXula8wyNFQ+TUZhSHhZGBcoG6fnGKdcv9JmYbnpy8HL0q7vOaYZK504/Nfwh8+F6RcK5Rk3bMqi8PkVxvWZJ4Ooc8WoBf68dE05LCpT05iSFEgz0yizcXqeHQErbRbODq1iabK063suRufXDo/5jPOuKIxCJVlMTrHMYpzYH+P8lvxNXmEgZAlUAtfz7ELR0VtcQmgoPdEhHQ46cuFzbcp7TFs4WRjjNMQfjKj4hiV1amiLn4bQEk95aUSbOFwezvwUFsRQUhYxTuz/rcpJfaXR1zBofxz1pqPhIsbS5ySmNo4GnP0pXX0VAp4WIvHrF6dTfsA4PPYrXZUlt5TBD+iiDS44cWeL0yfoIVGJfOI0WX9GYXB3acG+EvKP08R5FvMLn3j54zLE4Yqf32Asu2Jlj3FifzH8ph6uttQUFEYqT4QWOTqftvt6RxTTs6ssoE0eMm+mzg09VViUv3sVHsNgCAaeODOAWTt3UhDqYEDlId5FJ85HYaUg6fWL8QIdLotmG/1bb4xMQsRDDm6cdR2/8ImQP6YVhyt+foOx0IqVPcaJ/cXwm3q42m9TUBhsQuISX34cS6YjjnxjpPU8pKdviGHHn2/IQqg03uxPwo4rJsfPBc8cbnPlQ3xMD3+eE+0sBLcqOejE5zIcW3/9Da8OBsxTGAifOOWZpa3KUbgUhWcSdWSlN/PTrOwOHPbya85LOlITjQg3QSjyL3yi5Vd5REPh8yuMRVdMBjFO7C+G39TD1SYbVWHQEMNuOo59swd/4EMD/U3K9ltOAi620GJ+8Mg7HkzTAcV8VshxxeT4P3jnAz8whNUiHfCClu8whG59LsrPRz6zkm293AuLg46Hxx2cCJ7loKERjsIyMFVoCle+es6BGGrB3ga7JFNHOpzSV2BFFrPbBtTnGlthaDswW6e32nxrm/LTlPTNyxbggpN+KqyY1zOwDEdnxroSm5MwbnNkzyNt8FODa60kxR07j16cX/CzbdkNwIAf8YUNBo4ucz6gW5fufmT/gH0PsC8/+yqljCWuc848x89CYDiF8wxvvp5Yonr9ldcN/MMOPbyWvpmfuWDLNKMvLHhplDJ98nQ/NOb2T2Ne8OfwXQmryKVBbUBtu7EVhg/hOU048Wc3KvL0408nHarKDAO76SaiuBOoAySYSYeor7ODy4gmOPbzc4KU49EcfKNzc6bFcYrRUr5AOR8tRCOfMFLBMM4O7XZwG6WcceBsxPLLLG+cM5FjFIWRHUyuvTTkJT+vwCErLH9zMpLj9wftf5Bv+IG3qT9P83MIu+2ym5/sjU9JurLyNZ9APS5DzHfFX1Ggs9MGmoTCiBu1JQefOH6OwxLR9u12sA/f+6i2o9Ph6ZAqsHoez9XJgSOOjY/6fJT/vvp8lB9xJsyPRtO5dU9GSPvS8y/5UWNsaGCBy2kTl80jDoNvKZ+4DFEaTl9yQpIj1V9/+bVNGj/Jy6Lj+8qH8nFACdugGD5GSbg5OjM/eHb8MSc4pxx+wswb5ccUHAoodcgEfshfUyvxF/Mt/iqwtn4rsihPFk1RYbw45EVr26qtn/C8re9tvurvuw5p/PrFFZz2mMTz3sj3bPFFFrd//e8CttC/FvLfAv9cwC1qaagP5rTJ0+z5Z1/w05At1m3hpwRRKt7hJBjlE+ehsCzM4gT7C1j9WmWFVWy5pZbzY+xYh5KtC6ZHGFnBwhQ2HrEItVun3Wyt1df2MwiQfHXoMLd9+fnHn3s4hmWYqnDkXRarUp6zfMOjXJbfynN5naQip1o5qX016pQEJiLHWxh7jgzRd95x59QYcKos9BZVRUZp8XJ8nOPwWE3C4Kz/7n3QbUcSxz4FbFWwLoKVpcsuucw++zixbpWSkmDy8lBYFqaJaz3cqfLs08/6SIfFVqYc2OZk/QGHGT4UiRumDclQaigwXYzE8Xdsep5ywiluqJaj5yghDAG79SnSZXmJnwPdkjgxfsVfWp7zs3zUL5qSwkAx/Pei/7ohE+4oGfP1t0mTZ5itH4zrl61AdZAikDk/JtvuufNeXyPQ+omjB1qEeXiWdqnnOD94s8TeA0ZR7r3rXuNCH4zPYpKPTo/DcjgjBSxcccUAlrQwHEMYX4r4UoLtBeIXXmBhN47MqAsrXdiAcCc5xDDmM8GqdIJYJhX/7LUH2hiya3SFEVdg2E+w3jrr2fnnXuDM+f4LKQugpiZAFUI0kvIU/w8FTghH834CYhrylwvjHEMeWMtad811bbWVVrMVllnBf/vttV/yFSjgP3Dvg7bMksu4HUs+iQ5+crCvT2y+yRZuUg60Jx57whUox6LZm4JstNbiVp3KkUe55ajg1baDiiwKZaG+1mQURqQAmJqkd2ZScTAbdwz5VQhVbtxx8/ykAzeGWVqkE71yodIoT65DnFHtd39ylQCjCa4RSA2oiAczv1IAS9re+WHtl6qk7IEv5KB7TzAe69bIKDfKExfLppg8yi1HBa/hdT+/yExtq8kpjNAPNPwp6BB0IhjXL1tZSlsMhvTpxijSZxVGlmY5z+QnPHgTn1k+FAcufjq90gFJB8QJhkd/Jk02nDD9iIt/cdo4vOIvlFNFHvXLI2p7jXu8vb7KEqPq2KXw1UGKwWzamKY6eRannGfll4cbx1EW5Smo8imt+IjDoaF4YPY5jov9AbUgbRxf8RfKtSKP4vJQe2wyI4y5UVnqIKWg8lHnlSAU3lBIerm8tHlxylvKIS9dHAaN7HOWLjSzZYlx8uJjmhV/oYwr8iiUh9pWk1cY6ixieG5W5JzSVIcXj1ne1GEF43h14DnlQTShAz96jiH5hxO2zkocV/Hny6wil0K5qJ02WYVBy6bSBMXwnFZkIJnbseL8ysgnPWiWxVUeWZjFyz6rrITH/iyenmOZhCQpEI5ogcsPF8dV/BV5lNMG1NaatMII7XuuNvBiNBVebofiba5zJPhx6pDhsSjIq6CoQtJ04Ck89qcIJTxxHtDgB5/x1xWSx3gVf0UexdqA2mGjKwwaLcwUc2rsxQpSbrjoKK/Q4T1vwsqlAx74pK9m+/arNmzosIR70eYJv+iqbEXy4L5Rbq338y7ggodTPuEx7ew81yT2N7jwht2q3MOapsvmExTamK/H+KYwdrymtLK4leeGtYX5RV5RW27cryT0ixnVfhXgKy+94h3w5Rdetg/e/aD22HnoIA3q1NmKVKcTDAoDozd15v7CqSdf0nJYjkt/3SHU2MFDNiyOD362sC+/9PLmd1bEfHOgbuoMV0jp7lPSgMNW+EmTrcv+XazlBi2TzVxJcL4yMDMMFW2+8ea+yzXlK86v4q8oi2JtoMkojCrzi5Np9P/46//aP/76D/vXP/5lXNjLXZdPDnrSLVl5XwgdRf2ioQqEU6zYn3j7zXcSEggh7tASVppBiZFHwDnrtLP8Or80CfRQRtCK/aItmCYwwy7Gc888l2xJj8LxciZl7dXXtm+1TZ70kePi6ZWWW8kVbhqsPGLIhdfDhlu7Ntva92O+T1EbKsMKfok2Ecv79+anLVOmJjElgYtZ5rYhMG6D3YfvxnzvV96zvZpLlN2pc+dVBnHxL4PD5bqTfpxkZ5/Ry2/l7talmw16ZJBNGDcxoc0/abT9PJO+TkcJqbi/87Z+t6U0GAlwoTC3cWNYZ8qkKR7HLk/uSn32qWdt2MvD/JwIuzpffvEVe+bJZ4x7ZLMOozhDX3jZT7xyxyeH0ZCLjA5RXgzmMDqhLJxBuXPAncmBOvEvmfmdpaP9VKwbKVJmwqvAyuiiVBugHRHfZBQGjBx/sp160mlqym4shtvN04tpVSApBj0LhnUFf8PLL2p661clV9hxM/cenffwI+VY++JNjUD8y4fSQrdEXnRcLlvG+I870lWZXXzBxbbogov6RcC6WHra5Ol+OpbDZRxnxy4GU5qzTj/LT85ylkTbw8XygL63WZut29iC/1zQb3bn+Hun9p3saS78xVWbK1Py2r7t9m4TtcNOHWzbbbZNTBCKf2Cwbj5u7LhKx1B7qcDy20JTVBgc4+Z0Jmcmpv401S1iNV97PR9x0OB9Hk9HyatoClTKkSbu/MHgDrdtr7DsCj63x3yebxuPFUbsV77QIRxWWANReAhjZLBB8w18NEGeF5x3gRvPmfLTVFt6iWV8NCBWKStrNi1btKw9PxMif57wsz39xNM+NcN+B6dtORaPbOSYziyy4CJ243U3OR/w03779r6I6qMl9l8EHjGCnPIqniuwIpNy2kCTURj0Nxq0ma8FLLf0ctauTTvbeoutbbONN0s6F9FRJ81t9OEg1/5772+77bK77b7rHv7r3Gk345Qo5vBiR6fDHCC2MdZZYx27+PyL7acJPyeKIFYSsZLJChaC4Goagz8oDRZCr7rsKp9q/P0v/7Dzzj7PXnv5NT++TienPL7gamavv/p6oY2LiFGsb2GERyMVL7v4MzMWSjH9FxsIOuyQw+zWG29NefMTv9AU/6p8PVdgrWwqssiXhdpMo05J1MGoJDPjImA6/EvPD7X33n7Pfvx+vId7x8qryCRZ+j961GhPj9GZvffY23977b6XKwwZpaHj9bm5j2E7c9cOuxpTE50GLehQElBevnlhmbI88sAjbizn1JNOdXhw14PtlBNPta4Hdk34jTo9i5FMSXx0I9qhVCg67GpwkW+eG//DeDfEw7qJHIaHb7jmhuSRcuiQGyGiX4EVWTSkDag/NKrCgAk1YjM79cRT7bSTTqu9N4S46DKjoo09oeJvVIb4TAkw7ccnSRYbfSheZW7JCjN5e+y6hz3y4CN+tNxHLkov2BBBCpeyqDxmxt6KnbZv76b13nrjLdt/n/294w8ZXGsEWPjs5eArkR9/R5GIppkrM0YYAx8e6NxhDJjFTSkITAFguWtEsDYOUvcu3e0mpiixE80KrJVvRRbly6KOwuiTtK5yZWhmzeL2WMcfE4recAy/zz37vGS4HDoYIwk6MZ9TF/7Xwv4Z8eorMreJkUFMM/Zrx6WYUKfjOeSB0qBDYlw4dfAlBz25mHZD/WHkQF4sUm60/kZe1hOOPcFWXn7ldHMWX23o2BtvuIlhgPjPf/izG8dZf9317cLzLkwubgqVhCLlM/O2bbY1pmx//fNf3XwhipEpVbNmzWyv3fd2RclXkn/+7Z+el5RKUbk1tGwV/OJt8Pcum4zC4MKx1JVT9gYrjEDdFcZZ5yZfI0KHpXM9MfCJxBbnvQ+63c33336/dogeMetkYDB2PAfFEAc3yJ+l2aDEETJ0UBpuxPdVe/bp59zPRjSscLmj3FVmQ58f6nZH77/nfrvvrvvs3rvuc/OBI0e8nZSHMvGrMntq0FO+sMlUhx2bOEZT7FPBhin3ozAawxQg9LBt+sO3PyT5wVPlV5HBnLSBqA+y07PPzX2TtsV/OXTnpsLwDGuzr/WJkfDW9giF1WI1PV99yosySBkU417lFIzxlDabD7ixE55oVGB5jbsip7pyoi2F9oXC6HtLYykMdmZzDkLTFlUWDV/+35rCgG94DiMNVw76GqSyqLP7sfPE8LDvAVG5BUMl8ehyitIRVkdG4AuHeOQaRjTiI00j+VZgrRwrssiXRUZhsGExdeXIrKwRhijSSSAaPiGe1yusYahTiRllrHSCCv8tQcqkcsXlUJmLlUUKhTTCkV/0Ink6jsKVj/CByk84olmBtfKtyKJ+Waj9hK8k/W/tn7Q2hdcnw7miMIplFjd8Nf76GPq9xEth5JVH8sriKDyWG+kJz+Lm0a2E1d9aJ5i/AAAQrklEQVRh5ncZRW2MKUn/PvNSYTAkJsPsCENMZCsjbvj4s/G/5+dSHVzyyuIoPJYbMiI8i/t7ll2lbPOur0RtzBWGRhjl9s8GjTDIjJ8rjOF29ulnJwVLghK/cPJgsYag9E0Nit+4LArLwlK8x+nV8QmDRsVVJDC3JZBtm9ln2p4lh0TZ/Ogui1PsuUEKIyHt/2xh5vZx5kAD+gwwbvMC6rl/8POsH/F5P8cFv0//BvzAnze/PB7LDVMZBvQdYP7rM8D63drPfyXl4Pi32W39bk9kqfRAyS0Oq/gT+VbkUCgHtZUi0Nvnrf39NPQO7XYovMa0mJKIwxukMJSQsw8/TvR9A+wVYN8BP+1BAMqvOI+/+34/TIVVqtn93Xd3oH3nvXbPnffMkx/3tnI1osqk8ji8+746vDs+ae681+6+4267+/a77Z477qn93XmPx7ks7rzXZZPQSuRAmUhLGoeUK/jhQ/k7TwGvgH6cV8VfK/f5SBbeBkNbqa9vgXt7v9tdafjl5QwBGPmqf5eCZSkMEWAoA2E5wuXwa+gd+xUGFJ3fAoz5zvqz/MfxyCeedsRxkks2ffyMPOPnir8ij3nRBtQu1X95Vj6l2mCDFIYIAvMc4WSMi3HlD1G/CSCe82C2ADGOKiIOk19yyaavPFck8GtLINsm9QzExc+xf7YURqBZACBKZyk1tClI0MQfYiFl/VnWs/HFnkkXx8V0FJ7FIVxOOBVYKMeKPBJ5qJ2UAyUzcGO/0iosC2dLYWSJVJ5rhV6RRUUW87oNqFPnjWYVVy5sKK/1KoxyM55dvIYyXMGvdMj5vQ1IUajP/ZryqCiMaEj2awq+qeSlxgcsxpNwsvEKz6bNNmTFA7UgnKWlZ9LiF1S4IOmLxQkHqDzjMPmJ009hMSyHfoyf9ddXxix+seeYj1h2LoDofFGcvlS5wasvPqaV568ojBIdJU9gv7ewbAPKNnYaJ2HRLt+CzqbGC45kE4dBX4fmCAeHMOWrMMJxiguPWC9z048hXHZNPVr5iWZIozzqHAKEx/inPEnnhqMDf6IjSN445ROnI7zabOrPU+2N195wK3CffvRp6bU80uf9klySOPmVr+rAzLjAij1Ih3Q71PbefW//ROro0FQ9iGci8MfheXmXG1ZRGEUqr1wB/tbxaEx06KyrNsM4kBRFgSV0yhw3SB5nYNw06nDCoaHKKY3iQnh6t21QDjyjGNLTzzIcTTroqfFHdFOlAi/YliUv8ID84jKKD9idFXChFdMXbSBppfRycLCeRsf99yL/dsvw7KtJeQS/zF+qHIUfePCySY5VZueeda4bVzr5hJP9uonrrrqulttqs5nTZ9bm7/Ko9uswnCcwoS+ovMqFFYVRfoWWW/G/RbzJEyfbuO/GuQHlLz79wq9dmPjjJL+AaTw2WWvMuAdl7Oix/nOL5zXc2jbFfhg7zo38pDZb6aszqv3+FeF9/+0P6d0uhGEUyG+I4+a3iZPdijoXM3nnCI2Z+2e+/OxLv5+FayCkCEgPLkaYv/nyGxs7+ju3gPb5x5/7bXAoL9KCg4X3Lz790ujU5PPJh596nNeRmyTgiodJNuqLUW5gGn/sMG5E+ZANiodyYbbx6y+/tulTprtc6OjYmqU8WGdjY5Q7OqFcqQ6JAgu4XFtBOdhQhXlK5Bsru7HfjLVttt7Grrr8qkQpSBGKflAQ1J0bw55lxpUU44PB6rRtlsOXaMawojDmc4URGg5bhltv1dqwldpqy1a+7R/7pdu0amtd9j/IOwxmAzfZaFPbYdsdbfCTgz3l1Zdf7Vc77NJhV+9YBI4cMdINJu+43Y5uuPm/F11qbbZqYzddn9gn5UpJ7l85pOshbiW96wFdbbOWm9lGLVq60WhoYDx6x213tNZbtXGbqltv0coeH/i454nV9rat2tr27XZwOvDEVZfc/YIpxVdfetWuv+Z622qzrdxANLS77NfFf1tuuqUddfhRid1VM59GdO7Y2dq1bmftd2hvHXfq6FbhPSMzv12P+F067GJPPvakHXPksbblZlsa1088fP/DQkvhrh07++7jdGQTd7Zi/qCIsLiG+cZWW7SyrTff2u+92XfPfY2b/nBcoLVn5z39Ogpw8B+wzwGGVTs5btY7+vCjvSx7dN7TLrnwEtth2x2Maz+4LMv5ArkYL/WFVxTGHAivPuH+VuLNbPSoMd6psTv68fsfW/O1mxtWyxkJ0Nmfe2aIv/0P2PcA22m7nfytzBD3g3c+sBbNN7BHHnzU2yxmB9dZcx3reXBPv9KRTrXMEssY99J8/snnjoMN03vuvNevamixbgu3+gQdziNxKxyOTsJZHOjxlj//3Atsu7bb+T20NPZeZ/Ty508+/MTo0M3Xau4dnbtc6BxYlV95hZXtxGNPdBOKyy61rPU4uKcbWUZpcC8MjrJiBnHcdz/6COSEY06wNltvk3Ys8v7kg09c+ay43Ip+Qde7I9+1h+5/yD5890On4X/UtZl1bN/R7rrtruRB0yGNIAJOEhn913Bf7mC/6+bSiy513oa/OtyVKJdbvfvWu47MiOrxRx83ZHbskcf6tZxDnhmS3m8DrygRFNprr7xuLzz7giufhf61kHEfTqosoDa7bbOiMOZAeLMr9CaWjiE1w/w9d9vLnnr8KW+c++y5T6oEuDJCw2waL5bRda8tRmQxXOyNscbslhtuMTqkN8jQJxhRMELwe1xC2EtDXnIr6S89/1IIKawHGv+jDw20M045w447+ji/Ta/lBhv7JVAkuPWmPnZEzyM9LZ3MeQh34lAOFiEZsWBjdtrkad5xKBsXXzNyeTNc58A0BfuqHPXmt9/e+9vS/1naFxYhrvUD3tIYdc66dAoVIjrtvIufJcri+XNWYYRn5N+jew9XsnE6poKH9zjCvvr8qyQ4rCvtvMPOtbY4RbM6uXMXZR3fuYviXHXFVe29kf+/vbMLsaqK4ngvhelLKGM6+tCDBIofGRqMMBKSYGUNBInWjA0m02jjgCAUSTNmaODEqOHQg09R9kFkHwgS5eCIiqgZo1LWU2Ek+BAYfQzOjCt+6+x13HO6OvfembnNva0Nd/Y5e6+99j7rrL322v9z5qyLCQ+jt444L+TnBqNAgRUi3HKhFVF8gUl3+NBhVaWGZxrk0OfJx44xGB8e+EjL//6jT1qaW1S5QetxwQn1oGlApHNXp25n7Jz87Kmzuu9WLCSh1NWPLYPuz1mBDVQMmAauONsWgkhhhAD42G4QNY5E+AUCPZH2du7V7QbHBOnmOjCAeDUYHYwH+35WY/b2/Jcm7j0frW7d2Kq4A8Ah/5C1vnG9rvR4QZoUROzXcJzE2NXJFYGuajDsPoto8C3+KVIT5Zk0eH0w8Qio45rh/9d1Wf30aul4oyNDfRPgNXAWg8f4bXtnhpqGPd09ulWCnyVwlkULF8n5ELhc+VgluY0939wNRhFCy1e4ZUSHkhE0CteYhAJ/8WmyzcBg8B+Qlk4eOynz5sxTdx+Qj1XaUk/3Md2C4DoDPgIW1j1ep/gI/+FsiS+tq8Gwgijna+vV91brVsCK8XDY+gBwkvBsWl9MPAyMFBgFqe2VNqlfUy99f/bJ4oWL9SvtTP4Vj6xQNx1Q8YnHnhS2FQSXAiuIMYDOjt0yc9pMYWKnaVDU1ee6/5Xs6UWoYEvw2SfBgGaIMZhskZYtXSZ4WJrCduWlLS9raMy4CcYZXhYInDqAX7AWMKc0hTHgTSyYu0Cj/3E/ab+9/XWZXjVdes/1JuTRZWlBoTrqBsMNBqvU+W8vKHhJIG0mFVHntr26TXUKg9G+tf1mtPkBkaZ1TRpHhc8bxKscDdq2tsnEuyYKe37c+9olSxWkVIPRL8JKDVYy675ZilPwr/qErVA+g0nwKGK/NNY36oQnVi+PLIluj+HgicuGpg2yfNlyxTq63upSoBZjsnP7TvVE4ElgKPAMNQy1D2tsXNx1vI09b+6Rq1euSs1DNeoxEf4B2hnTZkjV5KkacAqj0/tNr37LBJATGYB3QIsHYwlP68iXR/S7Jazmm1s3K47x6+UrRqI5ga6qJlep3Jqef0Ef6WJU2ZIQvoJrJkg3YSzee+eAGuWF8x9UHAkG4EzgOgvmPiAAxeBAfPrg2m/X0n7YXk2aMEmqp1YrRlRbU6tyVoNRqHHIRe8Gww0G2sZExDCAul+6eEknScuGFvUSWM0AA3GHLbFy1S6p1Ud/VpYajoFkG/L+ux+oIej+qluftuijvQERPh6NQSJWLlsP3mHY//b+hE1YLfF08ExWPrpSJ/IP3/0oBJHCGB39+qgAvhL8iYkKwMdWgoBPx3tOyNpnn5NNGzcp/3Vr18m5M+dkd8duvTbA1K69XdK8vlk9I+LArHpqla7arP6cA9hu2bxFeOLANoXgXPVrGpQf2I6Cqj//kr7rADbTtrVdr4N6aAnhydOaGMvhsStGB6NwwrwVW/EBkC98r0+OAG7rVtYpsGuxa+Bz+uRpaWxoFLaL9EP4ULCPyz9dTmQXeAHo8k0WnuoQdnT2/bNTzKngLUjWaPznBiPVNj8YdQlkb/atzrGZ7KfjtyoZDArIBLY8DJD3BHD3mbiagqLiLhsfbUPlDVFwkkkClgA/aOJfjF9ou8APl1rbhH7T8TGmgfBiWTjWdzQ4DmEgdCy8wBWwEbYYuOlgDhz39zGIhDFblt8J4J1eB6s+jBKZqBfAtdn1hX5sWLQzvrxsZvTGL6VjeNdvpFHzlH8YQ0ozkOBJKYZiFdDRb7hH9AOvRJ5hrGH82iTw5RN8hOi0D+VoG+NJDl0hPzcYsfQq7DgfRUDJ+KGMscKZKIyHiO678UIIOM2Wg9WSuLdDFA796xddzXH358+ZL1PumZIAqPRBsj7jnHLry8qZ7Faea2yhekgGj9ulmE8AHXOS8+KqvTGakyAU2phvRWP15HZdcW71cXvqkZX9YvqYLj6GT0i7du5S8JNHzRPuvFt2vLYj4RWMqY7D+i00d4NhYq7APF9lMGNhimo55cZDRF1+gmzzJIL3IPbt2Ze8hgwNbchJgyIHPz6oeALfMeUtSE3UB08m5Wtt48lBmfGioZ3HfSQch/41uqGlSXvaBm8jHWsuesqsH8spyyZra/SMP5uyNPDjR4rr7NjKLY9p1TNLPAo1JLTJlW6InDp+SmXPy2t8ezft0/q33PotJHeDkUvqFVKWryKYAllOu/iYc5LxC6dpmdGSG21Mw7EZhHjSxu2ot3PrJ5sPV5+lj8+treVxXXxMfXyez/FwPI1HMbyRHe2tD+NhufE2GjvPyj9un6uttRsud4ORlWwFnQ9384utzypfVgFNyc1I5JsXO55KbJeVaaHXGLCiIV6V3bdCecX0bjAqyEBkLyW+0aN1jNKZAYi9hZi/jSMuM2W9XR7T/9+PkdNIZJCV80h4xW3dYJh2V2Ae3+jRPB4rZRzNMZY7r5EajLG6fjcYFWgo7JLGSmmc78hW/3zk5wbDtNjzkkkgH8V0mrGf/MXI2A1GyaaJd2QSKEZRvc34MCBuMEyLPS+ZBHzyj4/JX8x9cINRsmniHZkEilFUbzM+jIwbDNNiz0smAZ/842PyV8p9CIp7R8kU2DtyCbgEyl4CbjDK/hb6BbgESicBNxilk7X35BIoewm4wSj7W+gX4BIonQTcYJRO1t6TS6DsJeAGo+xvoV+AS6B0EnCDUTpZe08ugbKXwD8BI1R+bepRbwAAAABJRU5ErkJggg==)"
      ]
    },
    {
      "cell_type": "code",
      "metadata": {
        "id": "fZ-vTijC4jsA",
        "outputId": "ce7beac5-0623-4826-ba47-e36f453028cb"
      },
      "source": [
        "grammar1 = nltk.data.load(\"mygrammar.cfg\") \n",
        "grammar1 # the grammar has 13 rules (or productions)"
      ],
      "execution_count": null,
      "outputs": [
        {
          "output_type": "execute_result",
          "data": {
            "text/plain": [
              "<Grammar with 13 productions>"
            ]
          },
          "metadata": {
            "tags": []
          },
          "execution_count": 55
        }
      ]
    },
    {
      "cell_type": "markdown",
      "metadata": {
        "id": "b_6uGDSy4jsA"
      },
      "source": [
        "- we can then use **ChartParser** using the loaded grammar:"
      ]
    },
    {
      "cell_type": "code",
      "metadata": {
        "id": "or15e3zu4jsB",
        "outputId": "61b9793b-d2e8-4960-b89b-01c31fa29eff"
      },
      "source": [
        "parser = nltk.ChartParser(grammar1)\n",
        "parser"
      ],
      "execution_count": null,
      "outputs": [
        {
          "output_type": "execute_result",
          "data": {
            "text/plain": [
              "<nltk.parse.chart.ChartParser at 0x116704fd0>"
            ]
          },
          "metadata": {
            "tags": []
          },
          "execution_count": 56
        }
      ]
    },
    {
      "cell_type": "code",
      "metadata": {
        "id": "Nwi1gYLO4jsB",
        "outputId": "9542711c-c8da-41a8-b39d-5ae0a5d9ed95"
      },
      "source": [
        "trees = parser.parse_all(text16)\n",
        "for tree in trees:\n",
        "    print(tree)"
      ],
      "execution_count": null,
      "outputs": [
        {
          "output_type": "stream",
          "text": [
            "(S\n",
            "  (NP I)\n",
            "  (VP\n",
            "    (VP (V saw) (NP (Det the) (N man)))\n",
            "    (PP (P with) (NP (Det the) (N telescope)))))\n",
            "(S\n",
            "  (NP I)\n",
            "  (VP\n",
            "    (V saw)\n",
            "    (NP (Det the) (N man) (PP (P with) (NP (Det the) (N telescope))))))\n"
          ],
          "name": "stdout"
        }
      ]
    },
    {
      "cell_type": "markdown",
      "metadata": {
        "id": "fqjVtZqJ4jsB"
      },
      "source": [
        "- Both two trees get generated"
      ]
    },
    {
      "cell_type": "markdown",
      "metadata": {
        "id": "JohICfsF4jsC"
      },
      "source": [
        "So far, the examples have involved simple grammars, however we might not be able to provide the grammar every time. \n",
        "- **Generating the grammar and its rules is a learning task itself which requires a lot of training data**.\n",
        "- Also a lot of manual effort and time are required to create a **tree back** (i.e. a **big collection of parse trees**).\n",
        "- Through NLTK we have access to a large collection of parse trees from the Wall Street Journal corpus."
      ]
    },
    {
      "cell_type": "code",
      "metadata": {
        "id": "WOASiOdz4jsC",
        "outputId": "9990215a-740f-4406-9056-280089129170"
      },
      "source": [
        "from nltk.corpus import treebank\n",
        "text17 = treebank.parsed_sents('wsj_0001.mrg')[0] ## wsj = Wall Street Journal\n",
        "print(text17)"
      ],
      "execution_count": null,
      "outputs": [
        {
          "output_type": "stream",
          "text": [
            "(S\n",
            "  (NP-SBJ\n",
            "    (NP (NNP Pierre) (NNP Vinken))\n",
            "    (, ,)\n",
            "    (ADJP (NP (CD 61) (NNS years)) (JJ old))\n",
            "    (, ,))\n",
            "  (VP\n",
            "    (MD will)\n",
            "    (VP\n",
            "      (VB join)\n",
            "      (NP (DT the) (NN board))\n",
            "      (PP-CLR (IN as) (NP (DT a) (JJ nonexecutive) (NN director)))\n",
            "      (NP-TMP (NNP Nov.) (CD 29))))\n",
            "  (. .))\n"
          ],
          "name": "stdout"
        }
      ]
    },
    {
      "cell_type": "markdown",
      "metadata": {
        "id": "gZrekVzT4jsC"
      },
      "source": [
        "### **POS (Part Of Speech) Tagging & Parsing Complexity** \n",
        "- Uncommon usage of words (e.g. \"*The old man the boat*\")"
      ]
    },
    {
      "cell_type": "code",
      "metadata": {
        "id": "8UJB6fPB4jsD",
        "outputId": "3f2d6758-89b2-432e-923d-dcd2c10b54d9"
      },
      "source": [
        "text18 = nltk.word_tokenize(\"The old man the boat\")\n",
        "nltk.pos_tag(text18) # it gives incorrectly 'man' as a noun rather than a verb!"
      ],
      "execution_count": null,
      "outputs": [
        {
          "output_type": "execute_result",
          "data": {
            "text/plain": [
              "[('The', 'DT'), ('old', 'JJ'), ('man', 'NN'), ('the', 'DT'), ('boat', 'NN')]"
            ]
          },
          "metadata": {
            "tags": []
          },
          "execution_count": 61
        }
      ]
    },
    {
      "cell_type": "markdown",
      "metadata": {
        "id": "mDJo3zEY4jsD"
      },
      "source": [
        "- Well-formed sentences may stiil be meaningless:"
      ]
    },
    {
      "cell_type": "code",
      "metadata": {
        "id": "tdEqeKq84jsD",
        "outputId": "ae3ae8be-b9d3-4bdd-a400-f2e441f6741c"
      },
      "source": [
        "text19 = nltk.word_tokenize(\"Colorless green ideas sleep furiously\")\n",
        "nltk.pos_tag(text19)\n",
        "# sentence gets processed because its structure is right, \n",
        "# although it semantically is meaningless"
      ],
      "execution_count": null,
      "outputs": [
        {
          "output_type": "execute_result",
          "data": {
            "text/plain": [
              "[('Colorless', 'NNP'),\n",
              " ('green', 'JJ'),\n",
              " ('ideas', 'NNS'),\n",
              " ('sleep', 'VBP'),\n",
              " ('furiously', 'RB')]"
            ]
          },
          "metadata": {
            "tags": []
          },
          "execution_count": 63
        }
      ]
    },
    {
      "cell_type": "markdown",
      "metadata": {
        "id": "5Gu3h87U4jsE"
      },
      "source": [
        "There are many layers of complexity in language that parse trees and POS tags cannot address!"
      ]
    },
    {
      "cell_type": "markdown",
      "metadata": {
        "id": "Lw-Vl3h14jsE"
      },
      "source": [
        "### **Take Home Concepts**\n",
        "- **POS tagging** provides insights into the **word classes/types** in a **sentence**.\n",
        "- **Parsing** the **grammatical structure** helps derive **meaning**.\n",
        "- Both tasks are difficult, **linguistic ambiguity** increases the difficulty even more...\n",
        "- **Better models** could be learned with **supervised learning**.\n",
        "- **NLTK** provides **access to tools and data for training**."
      ]
    },
    {
      "cell_type": "markdown",
      "metadata": {
        "id": "4PSZrKVYjD-M"
      },
      "source": [
        "## **Supplementary: Edit Distance and Jaccard Distance Calculation with NLTK** \n",
        "[see website](https://python.gotrained.com/nltk-edit-distance-jaccard-distance/)\n",
        "\n",
        "### **S1.1: Edit Distance**\n",
        "- **Edit Distance** (a.k.a. **Levenshtein Distance**) is a **measure of similarity between two strings** referred to as the **source string** and the **target string**.\n",
        "- The **distance** between the source string and the target string is the **minimum number of edit operations** (**deletions**, **insertions**, or **substitutions**) required to **transform the source into the target**. The lower the distance, the more similar the two strings.\n",
        "- Among the common applications of the Edit Distance algorithm are: spell checking, plagiarism detection, and translation memory systems.\n",
        "\n",
        "![image.png](data:image/png;base64,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)\n"
      ]
    },
    {
      "cell_type": "markdown",
      "metadata": {
        "id": "p_8xk321ld0V"
      },
      "source": [
        "### **S1.2: Edit Distance Python NLTK**\n",
        "NLTK library has the Edit Distance algorithm ready to use. Let’s take some examples.\n",
        "\n",
        "**Example #1**: The output is 1 because the difference between “mapping” and “mappings” is only one character, “s”.\n"
      ]
    },
    {
      "cell_type": "code",
      "metadata": {
        "colab": {
          "base_uri": "https://localhost:8080/"
        },
        "id": "3MLWN6jG4jsE",
        "outputId": "a5abe7cd-c276-42de-c149-46a90278d8b5"
      },
      "source": [
        "import nltk\n",
        "\n",
        "w1 = 'mapping'\n",
        "w2 = 'mappings'\n",
        "\n",
        "nltk.edit_distance(w1, w2)\n"
      ],
      "execution_count": 2,
      "outputs": [
        {
          "output_type": "execute_result",
          "data": {
            "text/plain": [
              "1"
            ]
          },
          "metadata": {
            "tags": []
          },
          "execution_count": 2
        }
      ]
    },
    {
      "cell_type": "markdown",
      "metadata": {
        "id": "OSVGBzB2lmeU"
      },
      "source": [
        "**Example #2**: **Basic Spelling Checker**. Let’s assume you have a mistaken word and a list of possible words and you want to know the nearest suggestion."
      ]
    },
    {
      "cell_type": "code",
      "metadata": {
        "colab": {
          "base_uri": "https://localhost:8080/"
        },
        "id": "ShlDq6_Z4jsE",
        "outputId": "65c1c497-a4ff-4348-8109-47bd83c73b1e"
      },
      "source": [
        "import nltk\n",
        "\n",
        "mistake = \"ligting\"\n",
        "\n",
        "words = ['apple', 'bag', 'drawing', 'listing', 'linking', 'living', 'lighting', 'orange', 'walking', 'zoo']\n",
        "\n",
        "for word in words:\n",
        "    ed = nltk.edit_distance(mistake, word)\n",
        "    print(word, ed)\n"
      ],
      "execution_count": 3,
      "outputs": [
        {
          "output_type": "stream",
          "text": [
            "apple 7\n",
            "bag 6\n",
            "drawing 4\n",
            "listing 1\n",
            "linking 2\n",
            "living 2\n",
            "lighting 1\n",
            "orange 6\n",
            "walking 4\n",
            "zoo 7\n"
          ],
          "name": "stdout"
        }
      ]
    },
    {
      "cell_type": "markdown",
      "metadata": {
        "id": "ZSipULRHmPMh"
      },
      "source": [
        "As you can see, comparing the mistaken word “ligting” to each word in our list, the **least Edit Distance** is 1 for words: “listing” and “lighting” which means they are the best spelling suggestions for “ligting”. Yes, **a smaller Edit Distance between two strings means they are more similar than others**.\n",
        "- Bonus: You can have list of words from several sources, such as:\n",
        "  - NLTK:  `words = nltk.corpus.words.words()`\n",
        "  - Check [answers of this question](https://stackoverflow.com/questions/2213607/how-to-get-english-language-word-database).\n",
        "  - Check [lists at Kaggle](https://www.kaggle.com/bittlingmayer/spelling).\n",
        "  - Google: Search for “list of English words”."
      ]
    },
    {
      "cell_type": "markdown",
      "metadata": {
        "id": "MvlTzv4nm0AM"
      },
      "source": [
        "**Example #3**: **Sentence or paragraph comparison** is useful in applications like **plagiarism detection** (to know if one article is a stolen version of another article), and **translation memory systems** (that save previously translated sentences and when there is a new untranslated sentence, the system retrieves a similar one that can be slightly edited by a human translator instead of translating the new sentence from scratch)."
      ]
    },
    {
      "cell_type": "code",
      "metadata": {
        "colab": {
          "base_uri": "https://localhost:8080/"
        },
        "id": "KvYR5CN04jsE",
        "outputId": "75631a4a-51c7-4b2e-d73c-1ff716c2959e"
      },
      "source": [
        "import nltk\n",
        "\n",
        "sent1 = \"It might help to re-install Python if possible.\"\n",
        "sent2 = \"It can help to install Python again if possible.\"\n",
        "sent3 = \"It can be so helpful to reinstall C++ if possible.\"\n",
        "sent4 = \"help It possible Python to re-install if might.\" # This has the same words as sent1 with a different order.\n",
        "sent5 = \"I love Python programming.\"\n",
        "\n",
        "ed_sent_1_2 = nltk.edit_distance(sent1, sent2)\n",
        "ed_sent_1_3 = nltk.edit_distance(sent1, sent3)\n",
        "ed_sent_1_4 = nltk.edit_distance(sent1, sent4)\n",
        "ed_sent_1_5 = nltk.edit_distance(sent1, sent5)\n",
        "\n",
        "\n",
        "print(ed_sent_1_2, 'Edit Distance between sent1 and sent2')\n",
        "print(ed_sent_1_3, 'Edit Distance between sent1 and sent3')\n",
        "print(ed_sent_1_4, 'Edit Distance between sent1 and sent4')\n",
        "print(ed_sent_1_5, 'Edit Distance between sent1 and sent5')\n"
      ],
      "execution_count": 4,
      "outputs": [
        {
          "output_type": "stream",
          "text": [
            "14 Edit Distance between sent1 and sent2\n",
            "19 Edit Distance between sent1 and sent3\n",
            "32 Edit Distance between sent1 and sent4\n",
            "33 Edit Distance between sent1 and sent5\n"
          ],
          "name": "stdout"
        }
      ]
    },
    {
      "cell_type": "markdown",
      "metadata": {
        "id": "6aHPDjldm1VH"
      },
      "source": [
        "So it is clear that sent1 and sent2 are more similar to each other than other sentence pairs."
      ]
    },
    {
      "cell_type": "markdown",
      "metadata": {
        "id": "PRTN4inWnRD6"
      },
      "source": [
        "### **S2.1: Jaccard Distance**\n",
        "- **Jaccard Distance** is a **measure of how dissimilar two sets are**.  The **lower the distance**, the **more similar the two strings**.\n",
        "- Jaccard Distance depends on another concept called “**Jaccard Similarity Index**”:\n",
        "$$Jaccard~Similarity~Index = 100 * \\frac{number~in~both~sets}{number~in~either~set}$$\n",
        "\n",
        "or:\n",
        "\n",
        "$$J(X,Y) = \\frac{|X \\cap Y|}{|X \\cup Y|}$$\n",
        "\n",
        "Then we can calculate the **Jaccard Distance** as follows:\n",
        "\n",
        "$$D(X,Y) = 1 - J(X,Y)$$\n",
        "\n",
        "For example, if we have two strings: “mapping” and “mappings”, the intersection of the two sets is 6 because there are 7 similar characters, but the “p” is repeated while we need a **set**, i.e. **unique characters**, and the union of the two sets is 7, so the Jaccard Similarity Index is $6/7 = 0.857$ and the Jaccard Distance is $1 – 0.857 = 0.142$\n",
        "\n",
        "### **S2.1: Jaccard Distance Python NLTK**\n",
        "The good news is that the NLTK library has the Jaccard Distance algorithm ready to use. Let’s take some examples."
      ]
    },
    {
      "cell_type": "code",
      "metadata": {
        "colab": {
          "base_uri": "https://localhost:8080/"
        },
        "id": "nBasnEIWnQaQ",
        "outputId": "53765718-1251-4cac-918f-0694e8f6c181"
      },
      "source": [
        "import nltk\n",
        "\n",
        "w1 = set('mapping')\n",
        "w2 = set('mappings')\n",
        "\n",
        "nltk.jaccard_distance(w1, w2)\n",
        "\n"
      ],
      "execution_count": 7,
      "outputs": [
        {
          "output_type": "execute_result",
          "data": {
            "text/plain": [
              "0.14285714285714285"
            ]
          },
          "metadata": {
            "tags": []
          },
          "execution_count": 7
        }
      ]
    },
    {
      "cell_type": "markdown",
      "metadata": {
        "id": "WJYGaRz5pmvy"
      },
      "source": [
        "Unlike Edit Distance, you cannot just run **Jaccard Distance** on the **strings** directly; you must first **convert them to the set type**.\n",
        "\n",
        "**Example #2**: Basic Spelling Checker. It is the same example we had with the Edit Distance algorithm; now we are testing it with the Jaccard Distance algorithm. Let’s assume you have a mistaken word and a list of possible words and you want to know the nearest suggestion."
      ]
    },
    {
      "cell_type": "code",
      "metadata": {
        "colab": {
          "base_uri": "https://localhost:8080/"
        },
        "id": "kFzqir_SoNAJ",
        "outputId": "771cf3ab-abbf-4020-cafc-c368bfea660a"
      },
      "source": [
        "import nltk\n",
        "\n",
        "mistake = \"ligting\"\n",
        "\n",
        "words = ['apple', 'bag', 'drawing', 'listing', 'linking', 'living', 'lighting', 'orange', 'walking', 'zoo']\n",
        "\n",
        "for word in words:\n",
        "    jd = nltk.jaccard_distance(set(mistake), set(word))\n",
        "    print(word, jd)\n"
      ],
      "execution_count": 8,
      "outputs": [
        {
          "output_type": "stream",
          "text": [
            "apple 0.875\n",
            "bag 0.8571428571428571\n",
            "drawing 0.6666666666666666\n",
            "listing 0.16666666666666666\n",
            "linking 0.3333333333333333\n",
            "living 0.3333333333333333\n",
            "lighting 0.16666666666666666\n",
            "orange 0.7777777777777778\n",
            "walking 0.5\n",
            "zoo 1.0\n"
          ],
          "name": "stdout"
        }
      ]
    },
    {
      "cell_type": "markdown",
      "metadata": {
        "id": "vgQ7t2cYqvOa"
      },
      "source": [
        "Again, comparing the mistaken word “ligting” to each word in our list,  the least Jaccard Distance is 0.166 for words: “listing” and “lighting” which means they are the best spelling suggestions for “ligting” because they have the lowest distance.\n",
        "\n",
        "**Example #3**: If you are wondering if there is a difference between the output of Edit Distance and Jaccard Distance, see this example."
      ]
    },
    {
      "cell_type": "code",
      "metadata": {
        "colab": {
          "base_uri": "https://localhost:8080/"
        },
        "id": "UtMwYgXSqsmC",
        "outputId": "fb215c3b-5520-43d2-81b7-086190b1c508"
      },
      "source": [
        "import nltk\n",
        "\n",
        "sent1 = set(\"It might help to re-install Python if possible.\")\n",
        "print(sent1)\n",
        "sent2 = set(\"It can help to install Python again if possible.\")\n",
        "sent3 = set(\"It can be so helpful to reinstall C++ if possible.\")\n",
        "sent4 = set(\"help It possible Python to re-install if might.\") # This has the same words as sent1 with a different order.\n",
        "sent5 = set(\"I love Python programming.\")\n",
        "\n",
        "jd_sent_1_2 = nltk.jaccard_distance(sent1, sent2)\n",
        "jd_sent_1_3 = nltk.jaccard_distance(sent1, sent3)\n",
        "jd_sent_1_4 = nltk.jaccard_distance(sent1, sent4)\n",
        "jd_sent_1_5 = nltk.jaccard_distance(sent1, sent5)\n",
        "\n",
        "\n",
        "print(jd_sent_1_2, 'Jaccard Distance between sent1 and sent2')\n",
        "print(jd_sent_1_3, 'Jaccard Distance between sent1 and sent3')\n",
        "print(jd_sent_1_4, 'Jaccard Distance between sent1 and sent4')\n",
        "print(jd_sent_1_5, 'Jaccard Distance between sent1 and sent5')\n"
      ],
      "execution_count": 10,
      "outputs": [
        {
          "output_type": "stream",
          "text": [
            "{'m', 'a', 'e', '-', 'r', 'o', 'f', 't', 'y', ' ', 'n', 'l', 'P', 'i', 'I', 'p', 's', 'h', 'g', '.', 'b'}\n",
            "0.18181818181818182 Jaccard Distance between sent1 and sent2\n",
            "0.36 Jaccard Distance between sent1 and sent3\n",
            "0.0 Jaccard Distance between sent1 and sent4\n",
            "0.22727272727272727 Jaccard Distance between sent1 and sent5\n"
          ],
          "name": "stdout"
        }
      ]
    },
    {
      "cell_type": "markdown",
      "metadata": {
        "id": "UI5KGRVpreAF"
      },
      "source": [
        "- Just like when we applied Edit Distance, sent1 and sent2 are the most similar sentences. However, look to the other results; they are completely different. \n",
        "- The most obvious difference is that the Edit Distance between sent1 and sent4 is 32 and the Jaccard Distance is zero, which means the Jaccard Distance algorithms sees them as identical sentence because **Edit Distance depends on counting edit operations from the start to end of the string** while **Jaccard Distance just counts the number characters and then apply some calculations on this number** as mentioned above. \n",
        "- Actually, there is no “right” or “wrong” answer; it all depends on what you really need to do.\n",
        "\n",
        "### **S3.1: Tokenization**\n",
        "If you want to work on **word level** instead of character level, you might want to **apply tokenization** first before calculating Edit Distance and Jaccard Distance. This can be useful if you want to exclude specific sort of tokens or if you want to run some pre-operations like lemmatization or stemming."
      ]
    },
    {
      "cell_type": "code",
      "metadata": {
        "colab": {
          "base_uri": "https://localhost:8080/"
        },
        "id": "yslBHriPrS1x",
        "outputId": "5c6731a2-7614-4df9-88d9-a097271ba58e"
      },
      "source": [
        "nltk.download('punkt')\n",
        "sent = \"It might help to re-install Python if possible.\"\n",
        "tokens = nltk.word_tokenize(sent)\n",
        "tokens"
      ],
      "execution_count": 14,
      "outputs": [
        {
          "output_type": "stream",
          "text": [
            "[nltk_data] Downloading package punkt to /root/nltk_data...\n",
            "[nltk_data]   Package punkt is already up-to-date!\n"
          ],
          "name": "stdout"
        },
        {
          "output_type": "execute_result",
          "data": {
            "text/plain": [
              "['It', 'might', 'help', 'to', 're-install', 'Python', 'if', 'possible', '.']"
            ]
          },
          "metadata": {
            "tags": []
          },
          "execution_count": 14
        }
      ]
    },
    {
      "cell_type": "markdown",
      "metadata": {
        "id": "K2mBhtTctlyM"
      },
      "source": [
        "### **n-gram**\n",
        "- In general, n-gram means **splitting a string in sequences with the length n**. So if we have this string “abcde”, then bigrams are: ab, bc, cd, and de while trigrams will be: abc, bcd, and cde while 4-grams will be abcd, and bcde.\n",
        "\n",
        "- n-grams can be used with Jaccard Distance. n-grams per se are useful in other applications such as machine translation when you want to find out which phrase in one language usually comes as the translation of another phrase in the target language.\n",
        "\n",
        "- Back to Jaccard Distance, let’s see how to use n-grams on the string directly, i.e. on the character level, or after tokenization, i.e. on the token level.\n",
        "\n",
        "**Example #1: Character Level**"
      ]
    },
    {
      "cell_type": "code",
      "metadata": {
        "colab": {
          "base_uri": "https://localhost:8080/"
        },
        "id": "JkJntrlYs88_",
        "outputId": "e249ddf2-3481-4049-f3dd-f70073a67d17"
      },
      "source": [
        "import nltk\n",
        "\n",
        "sent1 = \"It might help to re-install Python if possible.\"\n",
        "sent2 = \"It can help to install Python again if possible.\"\n",
        "sent3 = \"It can be so helpful to reinstall C++ if possible.\"\n",
        "sent4 = \"help It possible Python to re-install if might.\" # This has the same words as sent1 with a different order.\n",
        "sent5 = \"I love Python programming.\"\n",
        "\n",
        "\n",
        "ng1_chars = set(nltk.ngrams(sent1, n=3))\n",
        "print(ng1_chars)\n",
        "ng2_chars = set(nltk.ngrams(sent2, n=3))\n",
        "ng3_chars = set(nltk.ngrams(sent3, n=3))\n",
        "ng4_chars = set(nltk.ngrams(sent4, n=3))\n",
        "ng5_chars = set(nltk.ngrams(sent5, n=3))\n",
        "\n",
        "jd_sent_1_2 = nltk.jaccard_distance(ng1_chars, ng2_chars)\n",
        "jd_sent_1_3 = nltk.jaccard_distance(ng1_chars, ng3_chars)\n",
        "jd_sent_1_4 = nltk.jaccard_distance(ng1_chars, ng4_chars)\n",
        "jd_sent_1_5 = nltk.jaccard_distance(ng1_chars, ng5_chars)\n",
        "\n",
        "print(jd_sent_1_2, \"Jaccard Distance between sent1 and sent2 with ngram 3\")\n",
        "print(jd_sent_1_3, \"Jaccard Distance between sent1 and sent3 with ngram 3\")\n",
        "print(jd_sent_1_4, \"Jaccard Distance between sent1 and sent4 with ngram 3\")\n",
        "print(jd_sent_1_5, \"Jaccard Distance between sent1 and sent5 with ngram 3\")\n"
      ],
      "execution_count": 15,
      "outputs": [
        {
          "output_type": "stream",
          "text": [
            "{('t', ' ', 'h'), ('i', 'g', 'h'), (' ', 'm', 'i'), ('-', 'i', 'n'), (' ', 'r', 'e'), ('t', 'o', ' '), ('l', 'e', '.'), ('r', 'e', '-'), ('f', ' ', 'p'), ('s', 's', 'i'), ('s', 't', 'a'), ('o', 's', 's'), ('e', '-', 'i'), ('t', 'h', 'o'), ('i', 'f', ' '), ('l', 'p', ' '), ('m', 'i', 'g'), ('n', ' ', 'i'), ('p', ' ', 't'), ('h', 'o', 'n'), ('s', 'i', 'b'), ('I', 't', ' '), ('y', 't', 'h'), ('o', ' ', 'r'), ('l', 'l', ' '), (' ', 'p', 'o'), ('n', 's', 't'), (' ', 'i', 'f'), ('e', 'l', 'p'), ('i', 'b', 'l'), ('P', 'y', 't'), ('i', 'n', 's'), ('h', 't', ' '), ('g', 'h', 't'), ('t', ' ', 'm'), ('p', 'o', 's'), ('a', 'l', 'l'), ('l', ' ', 'P'), ('o', 'n', ' '), ('t', 'a', 'l'), ('b', 'l', 'e'), (' ', 't', 'o'), (' ', 'P', 'y'), (' ', 'h', 'e'), ('h', 'e', 'l')}\n",
            "0.43103448275862066 Jaccard Distance between sent1 and sent2 with ngram 3\n",
            "0.6323529411764706 Jaccard Distance between sent1 and sent3 with ngram 3\n",
            "0.3333333333333333 Jaccard Distance between sent1 and sent4 with ngram 3\n",
            "0.9047619047619048 Jaccard Distance between sent1 and sent5 with ngram 3\n"
          ],
          "name": "stdout"
        }
      ]
    },
    {
      "cell_type": "markdown",
      "metadata": {
        "id": "jBq9gDLsuP5p"
      },
      "source": [
        "Example #2: Token Level"
      ]
    },
    {
      "cell_type": "code",
      "metadata": {
        "colab": {
          "base_uri": "https://localhost:8080/"
        },
        "id": "8JkVNinpuFQ4",
        "outputId": "87a20a95-4f55-4381-faf1-84e4d7cbd142"
      },
      "source": [
        "import nltk\n",
        "\n",
        "sent1 = \"It might help to re-install Python if possible.\"\n",
        "sent2 = \"It can help to install Python again if possible.\"\n",
        "sent3 = \"It can be so helpful to reinstall C++ if possible.\"\n",
        "sent4 = \"help It possible Python to re-install if might.\" # This has the same words as sent1 with a different order.\n",
        "sent5 = \"I love Python programming.\"\n",
        "\n",
        "tokens1 = nltk.word_tokenize(sent1)\n",
        "tokens2 = nltk.word_tokenize(sent2)\n",
        "tokens3 = nltk.word_tokenize(sent3)\n",
        "tokens4 = nltk.word_tokenize(sent4)\n",
        "tokens5 = nltk.word_tokenize(sent5)\n",
        "\n",
        "ng1_tokens = set(nltk.ngrams(tokens1, n=3))\n",
        "print(ng1_tokens)\n",
        "ng2_tokens = set(nltk.ngrams(tokens2, n=3))\n",
        "ng3_tokens = set(nltk.ngrams(tokens3, n=3))\n",
        "ng4_tokens = set(nltk.ngrams(tokens4, n=3))\n",
        "ng5_tokens = set(nltk.ngrams(tokens5, n=3))\n",
        "\n",
        "jd_sent_1_2 = nltk.jaccard_distance(ng1_tokens, ng2_tokens)\n",
        "jd_sent_1_3 = nltk.jaccard_distance(ng1_tokens, ng3_tokens)\n",
        "jd_sent_1_4 = nltk.jaccard_distance(ng1_tokens, ng4_tokens)\n",
        "jd_sent_1_5 = nltk.jaccard_distance(ng1_tokens, ng5_tokens)\n",
        "\n",
        "print(jd_sent_1_2, \"Jaccard Distance between tokens1 and tokens2 with ngram 3\")\n",
        "print(jd_sent_1_3, \"Jaccard Distance between tokens1 and tokens3 with ngram 3\")\n",
        "print(jd_sent_1_4, \"Jaccard Distance between tokens1 and tokens4 with ngram 3\")\n",
        "print(jd_sent_1_5, \"Jaccard Distance between tokens1 and tokens5 with ngram 3\")\n"
      ],
      "execution_count": 17,
      "outputs": [
        {
          "output_type": "stream",
          "text": [
            "{('might', 'help', 'to'), ('if', 'possible', '.'), ('help', 'to', 're-install'), ('It', 'might', 'help'), ('Python', 'if', 'possible'), ('to', 're-install', 'Python'), ('re-install', 'Python', 'if')}\n",
            "0.9285714285714286 Jaccard Distance between tokens1 and tokens2 with ngram 3\n",
            "0.9333333333333333 Jaccard Distance between tokens1 and tokens3 with ngram 3\n",
            "1.0 Jaccard Distance between tokens1 and tokens4 with ngram 3\n",
            "1.0 Jaccard Distance between tokens1 and tokens5 with ngram 3\n"
          ],
          "name": "stdout"
        }
      ]
    },
    {
      "cell_type": "code",
      "metadata": {
        "id": "ftKXyKN_uWUb"
      },
      "source": [
        ""
      ],
      "execution_count": null,
      "outputs": []
    }
  ]
}